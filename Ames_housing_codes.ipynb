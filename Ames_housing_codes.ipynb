{
 "cells": [
  {
   "cell_type": "markdown",
   "id": "706214cd",
   "metadata": {},
   "source": [
    "# Ames Housing Data and Kaggle Challenge"
   ]
  },
  {
   "cell_type": "markdown",
   "id": "7fe4b281",
   "metadata": {},
   "source": [
    "## Problem Statement"
   ]
  },
  {
   "cell_type": "markdown",
   "id": "caa052cb",
   "metadata": {},
   "source": [
    "**What are the key determinants of house prices in Ames, Iowa?** \n",
    "\n",
    "In a hypothetical scenario, I have been hired by the City of Ames Assessor’s Office to analyse the Ames Housing dataset. The Office has generated this dataset by nature of its job process as the body responsible for assigning values to all taxable property within Ames' city limits. My task is to generate relevant insights on the determinants of property value in the city, which will be shared with prospective buyers and first-time home owners. The Office is seeking to better educate this class of buyers/home owners and help them make more informed decisions, before and after buying a home. Findings from the analysis are to be published in the City Assessor’s Office “End of Year Digest” and other informational pamphlets/ material relating to mortgages. "
   ]
  },
  {
   "cell_type": "markdown",
   "id": "84e2008e",
   "metadata": {},
   "source": [
    "## Data"
   ]
  },
  {
   "cell_type": "markdown",
   "id": "4833386c",
   "metadata": {},
   "source": [
    "The Ames Housing dataset is a popular dataset  describing the sale of individual residential property in Ames, Iowa\n",
    "from 2006 to 2010. A thorough description of the dataset can be found here: [data description](http://jse.amstat.org/v19n3/decock/DataDocumentation.txt)."
   ]
  },
  {
   "cell_type": "markdown",
   "id": "40b89e13",
   "metadata": {},
   "source": [
    "### Imports"
   ]
  },
  {
   "cell_type": "code",
   "execution_count": 1,
   "id": "5e7670d7",
   "metadata": {},
   "outputs": [],
   "source": [
    "import pandas as pd\n",
    "import numpy as np\n",
    "import seaborn as sns\n",
    "import matplotlib.pyplot as plt\n",
    "from sklearn.linear_model import LinearRegression\n",
    "from sklearn.model_selection import train_test_split\n",
    "from scipy import stats\n",
    "from sklearn.model_selection import train_test_split, cross_val_score\n",
    "from sklearn.metrics import r2_score\n",
    "from sklearn import metrics\n",
    "import statsmodels.api as sm\n",
    "from sklearn.preprocessing import StandardScaler, PolynomialFeatures\n",
    "\n",
    "pd.set_option('display.max_rows', 500)\n",
    "pd.set_option('display.max_columns', None)\n",
    "pd.options.mode.chained_assignment = None  # default='warn'\n"
   ]
  },
  {
   "cell_type": "markdown",
   "id": "c24865ae",
   "metadata": {},
   "source": [
    "### Data"
   ]
  },
  {
   "cell_type": "code",
   "execution_count": 2,
   "id": "7e45e417",
   "metadata": {},
   "outputs": [],
   "source": [
    "train= pd.read_csv(\"datasets/train.csv\")\n",
    "test= pd.read_csv(\"datasets/test.csv\")"
   ]
  },
  {
   "cell_type": "markdown",
   "id": "54125282",
   "metadata": {},
   "source": [
    "For now, we will ignore the test data, and utilise the train dataset for anlysis."
   ]
  },
  {
   "cell_type": "code",
   "execution_count": 3,
   "id": "ceef96d0",
   "metadata": {},
   "outputs": [
    {
     "data": {
      "text/html": [
       "<div>\n",
       "<style scoped>\n",
       "    .dataframe tbody tr th:only-of-type {\n",
       "        vertical-align: middle;\n",
       "    }\n",
       "\n",
       "    .dataframe tbody tr th {\n",
       "        vertical-align: top;\n",
       "    }\n",
       "\n",
       "    .dataframe thead th {\n",
       "        text-align: right;\n",
       "    }\n",
       "</style>\n",
       "<table border=\"1\" class=\"dataframe\">\n",
       "  <thead>\n",
       "    <tr style=\"text-align: right;\">\n",
       "      <th></th>\n",
       "      <th>Id</th>\n",
       "      <th>PID</th>\n",
       "      <th>MS SubClass</th>\n",
       "      <th>MS Zoning</th>\n",
       "      <th>Lot Frontage</th>\n",
       "      <th>Lot Area</th>\n",
       "      <th>Street</th>\n",
       "      <th>Alley</th>\n",
       "      <th>Lot Shape</th>\n",
       "      <th>Land Contour</th>\n",
       "      <th>Utilities</th>\n",
       "      <th>Lot Config</th>\n",
       "      <th>Land Slope</th>\n",
       "      <th>Neighborhood</th>\n",
       "      <th>Condition 1</th>\n",
       "      <th>Condition 2</th>\n",
       "      <th>Bldg Type</th>\n",
       "      <th>House Style</th>\n",
       "      <th>Overall Qual</th>\n",
       "      <th>Overall Cond</th>\n",
       "      <th>Year Built</th>\n",
       "      <th>Year Remod/Add</th>\n",
       "      <th>Roof Style</th>\n",
       "      <th>Roof Matl</th>\n",
       "      <th>Exterior 1st</th>\n",
       "      <th>Exterior 2nd</th>\n",
       "      <th>Mas Vnr Type</th>\n",
       "      <th>Mas Vnr Area</th>\n",
       "      <th>Exter Qual</th>\n",
       "      <th>Exter Cond</th>\n",
       "      <th>Foundation</th>\n",
       "      <th>Bsmt Qual</th>\n",
       "      <th>Bsmt Cond</th>\n",
       "      <th>Bsmt Exposure</th>\n",
       "      <th>BsmtFin Type 1</th>\n",
       "      <th>BsmtFin SF 1</th>\n",
       "      <th>BsmtFin Type 2</th>\n",
       "      <th>BsmtFin SF 2</th>\n",
       "      <th>Bsmt Unf SF</th>\n",
       "      <th>Total Bsmt SF</th>\n",
       "      <th>Heating</th>\n",
       "      <th>Heating QC</th>\n",
       "      <th>Central Air</th>\n",
       "      <th>Electrical</th>\n",
       "      <th>1st Flr SF</th>\n",
       "      <th>2nd Flr SF</th>\n",
       "      <th>Low Qual Fin SF</th>\n",
       "      <th>Gr Liv Area</th>\n",
       "      <th>Bsmt Full Bath</th>\n",
       "      <th>Bsmt Half Bath</th>\n",
       "      <th>Full Bath</th>\n",
       "      <th>Half Bath</th>\n",
       "      <th>Bedroom AbvGr</th>\n",
       "      <th>Kitchen AbvGr</th>\n",
       "      <th>Kitchen Qual</th>\n",
       "      <th>TotRms AbvGrd</th>\n",
       "      <th>Functional</th>\n",
       "      <th>Fireplaces</th>\n",
       "      <th>Fireplace Qu</th>\n",
       "      <th>Garage Type</th>\n",
       "      <th>Garage Yr Blt</th>\n",
       "      <th>Garage Finish</th>\n",
       "      <th>Garage Cars</th>\n",
       "      <th>Garage Area</th>\n",
       "      <th>Garage Qual</th>\n",
       "      <th>Garage Cond</th>\n",
       "      <th>Paved Drive</th>\n",
       "      <th>Wood Deck SF</th>\n",
       "      <th>Open Porch SF</th>\n",
       "      <th>Enclosed Porch</th>\n",
       "      <th>3Ssn Porch</th>\n",
       "      <th>Screen Porch</th>\n",
       "      <th>Pool Area</th>\n",
       "      <th>Pool QC</th>\n",
       "      <th>Fence</th>\n",
       "      <th>Misc Feature</th>\n",
       "      <th>Misc Val</th>\n",
       "      <th>Mo Sold</th>\n",
       "      <th>Yr Sold</th>\n",
       "      <th>Sale Type</th>\n",
       "      <th>SalePrice</th>\n",
       "    </tr>\n",
       "  </thead>\n",
       "  <tbody>\n",
       "    <tr>\n",
       "      <th>0</th>\n",
       "      <td>109</td>\n",
       "      <td>533352170</td>\n",
       "      <td>60</td>\n",
       "      <td>RL</td>\n",
       "      <td>NaN</td>\n",
       "      <td>13517</td>\n",
       "      <td>Pave</td>\n",
       "      <td>NaN</td>\n",
       "      <td>IR1</td>\n",
       "      <td>Lvl</td>\n",
       "      <td>AllPub</td>\n",
       "      <td>CulDSac</td>\n",
       "      <td>Gtl</td>\n",
       "      <td>Sawyer</td>\n",
       "      <td>RRAe</td>\n",
       "      <td>Norm</td>\n",
       "      <td>1Fam</td>\n",
       "      <td>2Story</td>\n",
       "      <td>6</td>\n",
       "      <td>8</td>\n",
       "      <td>1976</td>\n",
       "      <td>2005</td>\n",
       "      <td>Gable</td>\n",
       "      <td>CompShg</td>\n",
       "      <td>HdBoard</td>\n",
       "      <td>Plywood</td>\n",
       "      <td>BrkFace</td>\n",
       "      <td>289.0</td>\n",
       "      <td>Gd</td>\n",
       "      <td>TA</td>\n",
       "      <td>CBlock</td>\n",
       "      <td>TA</td>\n",
       "      <td>TA</td>\n",
       "      <td>No</td>\n",
       "      <td>GLQ</td>\n",
       "      <td>533.0</td>\n",
       "      <td>Unf</td>\n",
       "      <td>0.0</td>\n",
       "      <td>192.0</td>\n",
       "      <td>725.0</td>\n",
       "      <td>GasA</td>\n",
       "      <td>Ex</td>\n",
       "      <td>Y</td>\n",
       "      <td>SBrkr</td>\n",
       "      <td>725</td>\n",
       "      <td>754</td>\n",
       "      <td>0</td>\n",
       "      <td>1479</td>\n",
       "      <td>0.0</td>\n",
       "      <td>0.0</td>\n",
       "      <td>2</td>\n",
       "      <td>1</td>\n",
       "      <td>3</td>\n",
       "      <td>1</td>\n",
       "      <td>Gd</td>\n",
       "      <td>6</td>\n",
       "      <td>Typ</td>\n",
       "      <td>0</td>\n",
       "      <td>NaN</td>\n",
       "      <td>Attchd</td>\n",
       "      <td>1976.0</td>\n",
       "      <td>RFn</td>\n",
       "      <td>2.0</td>\n",
       "      <td>475.0</td>\n",
       "      <td>TA</td>\n",
       "      <td>TA</td>\n",
       "      <td>Y</td>\n",
       "      <td>0</td>\n",
       "      <td>44</td>\n",
       "      <td>0</td>\n",
       "      <td>0</td>\n",
       "      <td>0</td>\n",
       "      <td>0</td>\n",
       "      <td>NaN</td>\n",
       "      <td>NaN</td>\n",
       "      <td>NaN</td>\n",
       "      <td>0</td>\n",
       "      <td>3</td>\n",
       "      <td>2010</td>\n",
       "      <td>WD</td>\n",
       "      <td>130500</td>\n",
       "    </tr>\n",
       "    <tr>\n",
       "      <th>1</th>\n",
       "      <td>544</td>\n",
       "      <td>531379050</td>\n",
       "      <td>60</td>\n",
       "      <td>RL</td>\n",
       "      <td>43.0</td>\n",
       "      <td>11492</td>\n",
       "      <td>Pave</td>\n",
       "      <td>NaN</td>\n",
       "      <td>IR1</td>\n",
       "      <td>Lvl</td>\n",
       "      <td>AllPub</td>\n",
       "      <td>CulDSac</td>\n",
       "      <td>Gtl</td>\n",
       "      <td>SawyerW</td>\n",
       "      <td>Norm</td>\n",
       "      <td>Norm</td>\n",
       "      <td>1Fam</td>\n",
       "      <td>2Story</td>\n",
       "      <td>7</td>\n",
       "      <td>5</td>\n",
       "      <td>1996</td>\n",
       "      <td>1997</td>\n",
       "      <td>Gable</td>\n",
       "      <td>CompShg</td>\n",
       "      <td>VinylSd</td>\n",
       "      <td>VinylSd</td>\n",
       "      <td>BrkFace</td>\n",
       "      <td>132.0</td>\n",
       "      <td>Gd</td>\n",
       "      <td>TA</td>\n",
       "      <td>PConc</td>\n",
       "      <td>Gd</td>\n",
       "      <td>TA</td>\n",
       "      <td>No</td>\n",
       "      <td>GLQ</td>\n",
       "      <td>637.0</td>\n",
       "      <td>Unf</td>\n",
       "      <td>0.0</td>\n",
       "      <td>276.0</td>\n",
       "      <td>913.0</td>\n",
       "      <td>GasA</td>\n",
       "      <td>Ex</td>\n",
       "      <td>Y</td>\n",
       "      <td>SBrkr</td>\n",
       "      <td>913</td>\n",
       "      <td>1209</td>\n",
       "      <td>0</td>\n",
       "      <td>2122</td>\n",
       "      <td>1.0</td>\n",
       "      <td>0.0</td>\n",
       "      <td>2</td>\n",
       "      <td>1</td>\n",
       "      <td>4</td>\n",
       "      <td>1</td>\n",
       "      <td>Gd</td>\n",
       "      <td>8</td>\n",
       "      <td>Typ</td>\n",
       "      <td>1</td>\n",
       "      <td>TA</td>\n",
       "      <td>Attchd</td>\n",
       "      <td>1997.0</td>\n",
       "      <td>RFn</td>\n",
       "      <td>2.0</td>\n",
       "      <td>559.0</td>\n",
       "      <td>TA</td>\n",
       "      <td>TA</td>\n",
       "      <td>Y</td>\n",
       "      <td>0</td>\n",
       "      <td>74</td>\n",
       "      <td>0</td>\n",
       "      <td>0</td>\n",
       "      <td>0</td>\n",
       "      <td>0</td>\n",
       "      <td>NaN</td>\n",
       "      <td>NaN</td>\n",
       "      <td>NaN</td>\n",
       "      <td>0</td>\n",
       "      <td>4</td>\n",
       "      <td>2009</td>\n",
       "      <td>WD</td>\n",
       "      <td>220000</td>\n",
       "    </tr>\n",
       "    <tr>\n",
       "      <th>2</th>\n",
       "      <td>153</td>\n",
       "      <td>535304180</td>\n",
       "      <td>20</td>\n",
       "      <td>RL</td>\n",
       "      <td>68.0</td>\n",
       "      <td>7922</td>\n",
       "      <td>Pave</td>\n",
       "      <td>NaN</td>\n",
       "      <td>Reg</td>\n",
       "      <td>Lvl</td>\n",
       "      <td>AllPub</td>\n",
       "      <td>Inside</td>\n",
       "      <td>Gtl</td>\n",
       "      <td>NAmes</td>\n",
       "      <td>Norm</td>\n",
       "      <td>Norm</td>\n",
       "      <td>1Fam</td>\n",
       "      <td>1Story</td>\n",
       "      <td>5</td>\n",
       "      <td>7</td>\n",
       "      <td>1953</td>\n",
       "      <td>2007</td>\n",
       "      <td>Gable</td>\n",
       "      <td>CompShg</td>\n",
       "      <td>VinylSd</td>\n",
       "      <td>VinylSd</td>\n",
       "      <td>None</td>\n",
       "      <td>0.0</td>\n",
       "      <td>TA</td>\n",
       "      <td>Gd</td>\n",
       "      <td>CBlock</td>\n",
       "      <td>TA</td>\n",
       "      <td>TA</td>\n",
       "      <td>No</td>\n",
       "      <td>GLQ</td>\n",
       "      <td>731.0</td>\n",
       "      <td>Unf</td>\n",
       "      <td>0.0</td>\n",
       "      <td>326.0</td>\n",
       "      <td>1057.0</td>\n",
       "      <td>GasA</td>\n",
       "      <td>TA</td>\n",
       "      <td>Y</td>\n",
       "      <td>SBrkr</td>\n",
       "      <td>1057</td>\n",
       "      <td>0</td>\n",
       "      <td>0</td>\n",
       "      <td>1057</td>\n",
       "      <td>1.0</td>\n",
       "      <td>0.0</td>\n",
       "      <td>1</td>\n",
       "      <td>0</td>\n",
       "      <td>3</td>\n",
       "      <td>1</td>\n",
       "      <td>Gd</td>\n",
       "      <td>5</td>\n",
       "      <td>Typ</td>\n",
       "      <td>0</td>\n",
       "      <td>NaN</td>\n",
       "      <td>Detchd</td>\n",
       "      <td>1953.0</td>\n",
       "      <td>Unf</td>\n",
       "      <td>1.0</td>\n",
       "      <td>246.0</td>\n",
       "      <td>TA</td>\n",
       "      <td>TA</td>\n",
       "      <td>Y</td>\n",
       "      <td>0</td>\n",
       "      <td>52</td>\n",
       "      <td>0</td>\n",
       "      <td>0</td>\n",
       "      <td>0</td>\n",
       "      <td>0</td>\n",
       "      <td>NaN</td>\n",
       "      <td>NaN</td>\n",
       "      <td>NaN</td>\n",
       "      <td>0</td>\n",
       "      <td>1</td>\n",
       "      <td>2010</td>\n",
       "      <td>WD</td>\n",
       "      <td>109000</td>\n",
       "    </tr>\n",
       "    <tr>\n",
       "      <th>3</th>\n",
       "      <td>318</td>\n",
       "      <td>916386060</td>\n",
       "      <td>60</td>\n",
       "      <td>RL</td>\n",
       "      <td>73.0</td>\n",
       "      <td>9802</td>\n",
       "      <td>Pave</td>\n",
       "      <td>NaN</td>\n",
       "      <td>Reg</td>\n",
       "      <td>Lvl</td>\n",
       "      <td>AllPub</td>\n",
       "      <td>Inside</td>\n",
       "      <td>Gtl</td>\n",
       "      <td>Timber</td>\n",
       "      <td>Norm</td>\n",
       "      <td>Norm</td>\n",
       "      <td>1Fam</td>\n",
       "      <td>2Story</td>\n",
       "      <td>5</td>\n",
       "      <td>5</td>\n",
       "      <td>2006</td>\n",
       "      <td>2007</td>\n",
       "      <td>Gable</td>\n",
       "      <td>CompShg</td>\n",
       "      <td>VinylSd</td>\n",
       "      <td>VinylSd</td>\n",
       "      <td>None</td>\n",
       "      <td>0.0</td>\n",
       "      <td>TA</td>\n",
       "      <td>TA</td>\n",
       "      <td>PConc</td>\n",
       "      <td>Gd</td>\n",
       "      <td>TA</td>\n",
       "      <td>No</td>\n",
       "      <td>Unf</td>\n",
       "      <td>0.0</td>\n",
       "      <td>Unf</td>\n",
       "      <td>0.0</td>\n",
       "      <td>384.0</td>\n",
       "      <td>384.0</td>\n",
       "      <td>GasA</td>\n",
       "      <td>Gd</td>\n",
       "      <td>Y</td>\n",
       "      <td>SBrkr</td>\n",
       "      <td>744</td>\n",
       "      <td>700</td>\n",
       "      <td>0</td>\n",
       "      <td>1444</td>\n",
       "      <td>0.0</td>\n",
       "      <td>0.0</td>\n",
       "      <td>2</td>\n",
       "      <td>1</td>\n",
       "      <td>3</td>\n",
       "      <td>1</td>\n",
       "      <td>TA</td>\n",
       "      <td>7</td>\n",
       "      <td>Typ</td>\n",
       "      <td>0</td>\n",
       "      <td>NaN</td>\n",
       "      <td>BuiltIn</td>\n",
       "      <td>2007.0</td>\n",
       "      <td>Fin</td>\n",
       "      <td>2.0</td>\n",
       "      <td>400.0</td>\n",
       "      <td>TA</td>\n",
       "      <td>TA</td>\n",
       "      <td>Y</td>\n",
       "      <td>100</td>\n",
       "      <td>0</td>\n",
       "      <td>0</td>\n",
       "      <td>0</td>\n",
       "      <td>0</td>\n",
       "      <td>0</td>\n",
       "      <td>NaN</td>\n",
       "      <td>NaN</td>\n",
       "      <td>NaN</td>\n",
       "      <td>0</td>\n",
       "      <td>4</td>\n",
       "      <td>2010</td>\n",
       "      <td>WD</td>\n",
       "      <td>174000</td>\n",
       "    </tr>\n",
       "    <tr>\n",
       "      <th>4</th>\n",
       "      <td>255</td>\n",
       "      <td>906425045</td>\n",
       "      <td>50</td>\n",
       "      <td>RL</td>\n",
       "      <td>82.0</td>\n",
       "      <td>14235</td>\n",
       "      <td>Pave</td>\n",
       "      <td>NaN</td>\n",
       "      <td>IR1</td>\n",
       "      <td>Lvl</td>\n",
       "      <td>AllPub</td>\n",
       "      <td>Inside</td>\n",
       "      <td>Gtl</td>\n",
       "      <td>SawyerW</td>\n",
       "      <td>Norm</td>\n",
       "      <td>Norm</td>\n",
       "      <td>1Fam</td>\n",
       "      <td>1.5Fin</td>\n",
       "      <td>6</td>\n",
       "      <td>8</td>\n",
       "      <td>1900</td>\n",
       "      <td>1993</td>\n",
       "      <td>Gable</td>\n",
       "      <td>CompShg</td>\n",
       "      <td>Wd Sdng</td>\n",
       "      <td>Plywood</td>\n",
       "      <td>None</td>\n",
       "      <td>0.0</td>\n",
       "      <td>TA</td>\n",
       "      <td>TA</td>\n",
       "      <td>PConc</td>\n",
       "      <td>Fa</td>\n",
       "      <td>Gd</td>\n",
       "      <td>No</td>\n",
       "      <td>Unf</td>\n",
       "      <td>0.0</td>\n",
       "      <td>Unf</td>\n",
       "      <td>0.0</td>\n",
       "      <td>676.0</td>\n",
       "      <td>676.0</td>\n",
       "      <td>GasA</td>\n",
       "      <td>TA</td>\n",
       "      <td>Y</td>\n",
       "      <td>SBrkr</td>\n",
       "      <td>831</td>\n",
       "      <td>614</td>\n",
       "      <td>0</td>\n",
       "      <td>1445</td>\n",
       "      <td>0.0</td>\n",
       "      <td>0.0</td>\n",
       "      <td>2</td>\n",
       "      <td>0</td>\n",
       "      <td>3</td>\n",
       "      <td>1</td>\n",
       "      <td>TA</td>\n",
       "      <td>6</td>\n",
       "      <td>Typ</td>\n",
       "      <td>0</td>\n",
       "      <td>NaN</td>\n",
       "      <td>Detchd</td>\n",
       "      <td>1957.0</td>\n",
       "      <td>Unf</td>\n",
       "      <td>2.0</td>\n",
       "      <td>484.0</td>\n",
       "      <td>TA</td>\n",
       "      <td>TA</td>\n",
       "      <td>N</td>\n",
       "      <td>0</td>\n",
       "      <td>59</td>\n",
       "      <td>0</td>\n",
       "      <td>0</td>\n",
       "      <td>0</td>\n",
       "      <td>0</td>\n",
       "      <td>NaN</td>\n",
       "      <td>NaN</td>\n",
       "      <td>NaN</td>\n",
       "      <td>0</td>\n",
       "      <td>3</td>\n",
       "      <td>2010</td>\n",
       "      <td>WD</td>\n",
       "      <td>138500</td>\n",
       "    </tr>\n",
       "  </tbody>\n",
       "</table>\n",
       "</div>"
      ],
      "text/plain": [
       "    Id        PID  MS SubClass MS Zoning  Lot Frontage  Lot Area Street Alley  \\\n",
       "0  109  533352170           60        RL           NaN     13517   Pave   NaN   \n",
       "1  544  531379050           60        RL          43.0     11492   Pave   NaN   \n",
       "2  153  535304180           20        RL          68.0      7922   Pave   NaN   \n",
       "3  318  916386060           60        RL          73.0      9802   Pave   NaN   \n",
       "4  255  906425045           50        RL          82.0     14235   Pave   NaN   \n",
       "\n",
       "  Lot Shape Land Contour Utilities Lot Config Land Slope Neighborhood  \\\n",
       "0       IR1          Lvl    AllPub    CulDSac        Gtl       Sawyer   \n",
       "1       IR1          Lvl    AllPub    CulDSac        Gtl      SawyerW   \n",
       "2       Reg          Lvl    AllPub     Inside        Gtl        NAmes   \n",
       "3       Reg          Lvl    AllPub     Inside        Gtl       Timber   \n",
       "4       IR1          Lvl    AllPub     Inside        Gtl      SawyerW   \n",
       "\n",
       "  Condition 1 Condition 2 Bldg Type House Style  Overall Qual  Overall Cond  \\\n",
       "0        RRAe        Norm      1Fam      2Story             6             8   \n",
       "1        Norm        Norm      1Fam      2Story             7             5   \n",
       "2        Norm        Norm      1Fam      1Story             5             7   \n",
       "3        Norm        Norm      1Fam      2Story             5             5   \n",
       "4        Norm        Norm      1Fam      1.5Fin             6             8   \n",
       "\n",
       "   Year Built  Year Remod/Add Roof Style Roof Matl Exterior 1st Exterior 2nd  \\\n",
       "0        1976            2005      Gable   CompShg      HdBoard      Plywood   \n",
       "1        1996            1997      Gable   CompShg      VinylSd      VinylSd   \n",
       "2        1953            2007      Gable   CompShg      VinylSd      VinylSd   \n",
       "3        2006            2007      Gable   CompShg      VinylSd      VinylSd   \n",
       "4        1900            1993      Gable   CompShg      Wd Sdng      Plywood   \n",
       "\n",
       "  Mas Vnr Type  Mas Vnr Area Exter Qual Exter Cond Foundation Bsmt Qual  \\\n",
       "0      BrkFace         289.0         Gd         TA     CBlock        TA   \n",
       "1      BrkFace         132.0         Gd         TA      PConc        Gd   \n",
       "2         None           0.0         TA         Gd     CBlock        TA   \n",
       "3         None           0.0         TA         TA      PConc        Gd   \n",
       "4         None           0.0         TA         TA      PConc        Fa   \n",
       "\n",
       "  Bsmt Cond Bsmt Exposure BsmtFin Type 1  BsmtFin SF 1 BsmtFin Type 2  \\\n",
       "0        TA            No            GLQ         533.0            Unf   \n",
       "1        TA            No            GLQ         637.0            Unf   \n",
       "2        TA            No            GLQ         731.0            Unf   \n",
       "3        TA            No            Unf           0.0            Unf   \n",
       "4        Gd            No            Unf           0.0            Unf   \n",
       "\n",
       "   BsmtFin SF 2  Bsmt Unf SF  Total Bsmt SF Heating Heating QC Central Air  \\\n",
       "0           0.0        192.0          725.0    GasA         Ex           Y   \n",
       "1           0.0        276.0          913.0    GasA         Ex           Y   \n",
       "2           0.0        326.0         1057.0    GasA         TA           Y   \n",
       "3           0.0        384.0          384.0    GasA         Gd           Y   \n",
       "4           0.0        676.0          676.0    GasA         TA           Y   \n",
       "\n",
       "  Electrical  1st Flr SF  2nd Flr SF  Low Qual Fin SF  Gr Liv Area  \\\n",
       "0      SBrkr         725         754                0         1479   \n",
       "1      SBrkr         913        1209                0         2122   \n",
       "2      SBrkr        1057           0                0         1057   \n",
       "3      SBrkr         744         700                0         1444   \n",
       "4      SBrkr         831         614                0         1445   \n",
       "\n",
       "   Bsmt Full Bath  Bsmt Half Bath  Full Bath  Half Bath  Bedroom AbvGr  \\\n",
       "0             0.0             0.0          2          1              3   \n",
       "1             1.0             0.0          2          1              4   \n",
       "2             1.0             0.0          1          0              3   \n",
       "3             0.0             0.0          2          1              3   \n",
       "4             0.0             0.0          2          0              3   \n",
       "\n",
       "   Kitchen AbvGr Kitchen Qual  TotRms AbvGrd Functional  Fireplaces  \\\n",
       "0              1           Gd              6        Typ           0   \n",
       "1              1           Gd              8        Typ           1   \n",
       "2              1           Gd              5        Typ           0   \n",
       "3              1           TA              7        Typ           0   \n",
       "4              1           TA              6        Typ           0   \n",
       "\n",
       "  Fireplace Qu Garage Type  Garage Yr Blt Garage Finish  Garage Cars  \\\n",
       "0          NaN      Attchd         1976.0           RFn          2.0   \n",
       "1           TA      Attchd         1997.0           RFn          2.0   \n",
       "2          NaN      Detchd         1953.0           Unf          1.0   \n",
       "3          NaN     BuiltIn         2007.0           Fin          2.0   \n",
       "4          NaN      Detchd         1957.0           Unf          2.0   \n",
       "\n",
       "   Garage Area Garage Qual Garage Cond Paved Drive  Wood Deck SF  \\\n",
       "0        475.0          TA          TA           Y             0   \n",
       "1        559.0          TA          TA           Y             0   \n",
       "2        246.0          TA          TA           Y             0   \n",
       "3        400.0          TA          TA           Y           100   \n",
       "4        484.0          TA          TA           N             0   \n",
       "\n",
       "   Open Porch SF  Enclosed Porch  3Ssn Porch  Screen Porch  Pool Area Pool QC  \\\n",
       "0             44               0           0             0          0     NaN   \n",
       "1             74               0           0             0          0     NaN   \n",
       "2             52               0           0             0          0     NaN   \n",
       "3              0               0           0             0          0     NaN   \n",
       "4             59               0           0             0          0     NaN   \n",
       "\n",
       "  Fence Misc Feature  Misc Val  Mo Sold  Yr Sold Sale Type  SalePrice  \n",
       "0   NaN          NaN         0        3     2010       WD      130500  \n",
       "1   NaN          NaN         0        4     2009       WD      220000  \n",
       "2   NaN          NaN         0        1     2010       WD      109000  \n",
       "3   NaN          NaN         0        4     2010       WD      174000  \n",
       "4   NaN          NaN         0        3     2010       WD      138500  "
      ]
     },
     "execution_count": 3,
     "metadata": {},
     "output_type": "execute_result"
    }
   ],
   "source": [
    "train.head()"
   ]
  },
  {
   "cell_type": "code",
   "execution_count": 4,
   "id": "55947cb1",
   "metadata": {},
   "outputs": [
    {
     "data": {
      "text/plain": [
       "(2051, 81)"
      ]
     },
     "execution_count": 4,
     "metadata": {},
     "output_type": "execute_result"
    }
   ],
   "source": [
    "#checking dimensions of training data\n",
    "train.shape"
   ]
  },
  {
   "cell_type": "code",
   "execution_count": 5,
   "id": "a8f0d15d",
   "metadata": {},
   "outputs": [
    {
     "name": "stdout",
     "output_type": "stream",
     "text": [
      "<class 'pandas.core.frame.DataFrame'>\n",
      "RangeIndex: 2051 entries, 0 to 2050\n",
      "Data columns (total 81 columns):\n",
      " #   Column           Non-Null Count  Dtype  \n",
      "---  ------           --------------  -----  \n",
      " 0   Id               2051 non-null   int64  \n",
      " 1   PID              2051 non-null   int64  \n",
      " 2   MS SubClass      2051 non-null   int64  \n",
      " 3   MS Zoning        2051 non-null   object \n",
      " 4   Lot Frontage     1721 non-null   float64\n",
      " 5   Lot Area         2051 non-null   int64  \n",
      " 6   Street           2051 non-null   object \n",
      " 7   Alley            140 non-null    object \n",
      " 8   Lot Shape        2051 non-null   object \n",
      " 9   Land Contour     2051 non-null   object \n",
      " 10  Utilities        2051 non-null   object \n",
      " 11  Lot Config       2051 non-null   object \n",
      " 12  Land Slope       2051 non-null   object \n",
      " 13  Neighborhood     2051 non-null   object \n",
      " 14  Condition 1      2051 non-null   object \n",
      " 15  Condition 2      2051 non-null   object \n",
      " 16  Bldg Type        2051 non-null   object \n",
      " 17  House Style      2051 non-null   object \n",
      " 18  Overall Qual     2051 non-null   int64  \n",
      " 19  Overall Cond     2051 non-null   int64  \n",
      " 20  Year Built       2051 non-null   int64  \n",
      " 21  Year Remod/Add   2051 non-null   int64  \n",
      " 22  Roof Style       2051 non-null   object \n",
      " 23  Roof Matl        2051 non-null   object \n",
      " 24  Exterior 1st     2051 non-null   object \n",
      " 25  Exterior 2nd     2051 non-null   object \n",
      " 26  Mas Vnr Type     2029 non-null   object \n",
      " 27  Mas Vnr Area     2029 non-null   float64\n",
      " 28  Exter Qual       2051 non-null   object \n",
      " 29  Exter Cond       2051 non-null   object \n",
      " 30  Foundation       2051 non-null   object \n",
      " 31  Bsmt Qual        1996 non-null   object \n",
      " 32  Bsmt Cond        1996 non-null   object \n",
      " 33  Bsmt Exposure    1993 non-null   object \n",
      " 34  BsmtFin Type 1   1996 non-null   object \n",
      " 35  BsmtFin SF 1     2050 non-null   float64\n",
      " 36  BsmtFin Type 2   1995 non-null   object \n",
      " 37  BsmtFin SF 2     2050 non-null   float64\n",
      " 38  Bsmt Unf SF      2050 non-null   float64\n",
      " 39  Total Bsmt SF    2050 non-null   float64\n",
      " 40  Heating          2051 non-null   object \n",
      " 41  Heating QC       2051 non-null   object \n",
      " 42  Central Air      2051 non-null   object \n",
      " 43  Electrical       2051 non-null   object \n",
      " 44  1st Flr SF       2051 non-null   int64  \n",
      " 45  2nd Flr SF       2051 non-null   int64  \n",
      " 46  Low Qual Fin SF  2051 non-null   int64  \n",
      " 47  Gr Liv Area      2051 non-null   int64  \n",
      " 48  Bsmt Full Bath   2049 non-null   float64\n",
      " 49  Bsmt Half Bath   2049 non-null   float64\n",
      " 50  Full Bath        2051 non-null   int64  \n",
      " 51  Half Bath        2051 non-null   int64  \n",
      " 52  Bedroom AbvGr    2051 non-null   int64  \n",
      " 53  Kitchen AbvGr    2051 non-null   int64  \n",
      " 54  Kitchen Qual     2051 non-null   object \n",
      " 55  TotRms AbvGrd    2051 non-null   int64  \n",
      " 56  Functional       2051 non-null   object \n",
      " 57  Fireplaces       2051 non-null   int64  \n",
      " 58  Fireplace Qu     1051 non-null   object \n",
      " 59  Garage Type      1938 non-null   object \n",
      " 60  Garage Yr Blt    1937 non-null   float64\n",
      " 61  Garage Finish    1937 non-null   object \n",
      " 62  Garage Cars      2050 non-null   float64\n",
      " 63  Garage Area      2050 non-null   float64\n",
      " 64  Garage Qual      1937 non-null   object \n",
      " 65  Garage Cond      1937 non-null   object \n",
      " 66  Paved Drive      2051 non-null   object \n",
      " 67  Wood Deck SF     2051 non-null   int64  \n",
      " 68  Open Porch SF    2051 non-null   int64  \n",
      " 69  Enclosed Porch   2051 non-null   int64  \n",
      " 70  3Ssn Porch       2051 non-null   int64  \n",
      " 71  Screen Porch     2051 non-null   int64  \n",
      " 72  Pool Area        2051 non-null   int64  \n",
      " 73  Pool QC          9 non-null      object \n",
      " 74  Fence            400 non-null    object \n",
      " 75  Misc Feature     65 non-null     object \n",
      " 76  Misc Val         2051 non-null   int64  \n",
      " 77  Mo Sold          2051 non-null   int64  \n",
      " 78  Yr Sold          2051 non-null   int64  \n",
      " 79  Sale Type        2051 non-null   object \n",
      " 80  SalePrice        2051 non-null   int64  \n",
      "dtypes: float64(11), int64(28), object(42)\n",
      "memory usage: 1.3+ MB\n"
     ]
    }
   ],
   "source": [
    "#checking for general info on training data\n",
    "train.info()"
   ]
  },
  {
   "cell_type": "code",
   "execution_count": 6,
   "id": "745f2dea",
   "metadata": {},
   "outputs": [
    {
     "data": {
      "text/plain": [
       "Id                    0\n",
       "PID                   0\n",
       "MS SubClass           0\n",
       "MS Zoning             0\n",
       "Lot Frontage        330\n",
       "Lot Area              0\n",
       "Street                0\n",
       "Alley              1911\n",
       "Lot Shape             0\n",
       "Land Contour          0\n",
       "Utilities             0\n",
       "Lot Config            0\n",
       "Land Slope            0\n",
       "Neighborhood          0\n",
       "Condition 1           0\n",
       "Condition 2           0\n",
       "Bldg Type             0\n",
       "House Style           0\n",
       "Overall Qual          0\n",
       "Overall Cond          0\n",
       "Year Built            0\n",
       "Year Remod/Add        0\n",
       "Roof Style            0\n",
       "Roof Matl             0\n",
       "Exterior 1st          0\n",
       "Exterior 2nd          0\n",
       "Mas Vnr Type         22\n",
       "Mas Vnr Area         22\n",
       "Exter Qual            0\n",
       "Exter Cond            0\n",
       "Foundation            0\n",
       "Bsmt Qual            55\n",
       "Bsmt Cond            55\n",
       "Bsmt Exposure        58\n",
       "BsmtFin Type 1       55\n",
       "BsmtFin SF 1          1\n",
       "BsmtFin Type 2       56\n",
       "BsmtFin SF 2          1\n",
       "Bsmt Unf SF           1\n",
       "Total Bsmt SF         1\n",
       "Heating               0\n",
       "Heating QC            0\n",
       "Central Air           0\n",
       "Electrical            0\n",
       "1st Flr SF            0\n",
       "2nd Flr SF            0\n",
       "Low Qual Fin SF       0\n",
       "Gr Liv Area           0\n",
       "Bsmt Full Bath        2\n",
       "Bsmt Half Bath        2\n",
       "Full Bath             0\n",
       "Half Bath             0\n",
       "Bedroom AbvGr         0\n",
       "Kitchen AbvGr         0\n",
       "Kitchen Qual          0\n",
       "TotRms AbvGrd         0\n",
       "Functional            0\n",
       "Fireplaces            0\n",
       "Fireplace Qu       1000\n",
       "Garage Type         113\n",
       "Garage Yr Blt       114\n",
       "Garage Finish       114\n",
       "Garage Cars           1\n",
       "Garage Area           1\n",
       "Garage Qual         114\n",
       "Garage Cond         114\n",
       "Paved Drive           0\n",
       "Wood Deck SF          0\n",
       "Open Porch SF         0\n",
       "Enclosed Porch        0\n",
       "3Ssn Porch            0\n",
       "Screen Porch          0\n",
       "Pool Area             0\n",
       "Pool QC            2042\n",
       "Fence              1651\n",
       "Misc Feature       1986\n",
       "Misc Val              0\n",
       "Mo Sold               0\n",
       "Yr Sold               0\n",
       "Sale Type             0\n",
       "SalePrice             0\n",
       "dtype: int64"
      ]
     },
     "execution_count": 6,
     "metadata": {},
     "output_type": "execute_result"
    }
   ],
   "source": [
    "#checking for null values\n",
    "train.isnull().sum()"
   ]
  },
  {
   "cell_type": "code",
   "execution_count": 7,
   "id": "ffa6a8fc",
   "metadata": {},
   "outputs": [],
   "source": [
    "#dropping all columns which contain null values except \"Garage Cars\", \"Garage Area\", \"Total Bsmt SF\" and \"Lot Frontage\"\n",
    "\n",
    "train = train.loc[:,(-train.isnull().any()) | (train.columns.isin(['Garage Cars', 'Garage Area', 'Total Bsmt SF', \"Lot Frontage\"]))]\n",
    "\n",
    "#Credit: https://stackoverflow.com/questions/61301549/pandas-drop-all-columns-with-missing-values-except-1-column"
   ]
  },
  {
   "cell_type": "markdown",
   "id": "a9be722b",
   "metadata": {},
   "source": [
    "### Variables of Interest\n",
    "\n",
    "For this analysis, the target variable \"y\" is SalePrice. The features (X variables) analysed are categorized into 5 broad categories as follows:\n",
    "\n",
    "> 1. Property Size variables : \"Lot Area\" and \"Gr Liv Area\".\n",
    "> 2. Variables describing location desirability: \"Condition 1\".\n",
    "> 3. Number of rooms: \"Full Bath\" and \"Bedroom AbvGr\".\n",
    "> 4. Variables describing overall quality of construction materials and condition of the property: \"Overall Qual\",\"Overall Cond\", \"Year Built\" and \"Yr Sold\".\n",
    "> 5. Variables describing \"Aesthetics\" and/or added features to the property: \"Lot Shape\", \"Land Contour\",\"Bldg Type\", \"Fireplaces\" and \"Paved Drive\"."
   ]
  },
  {
   "cell_type": "code",
   "execution_count": 8,
   "id": "d276eaa1",
   "metadata": {},
   "outputs": [],
   "source": [
    "#merging in one dataframe:\n",
    "df= train[[\"Yr Sold\",\"Sale Type\",\"SalePrice\",\"Lot Area\", \"Gr Liv Area\",\"Neighborhood\", \"Condition 1\", \n",
    "           \"Condition 2\",\"Full Bath\", \"Half Bath\",\"Bedroom AbvGr\",\"Overall Qual\",\"Overall Cond\", \"Year Built\", \n",
    "           \"Garage Cars\", \"Lot Shape\", \"Land Contour\",\"Bldg Type\",\"Fireplaces\", \"Paved Drive\" ]]"
   ]
  },
  {
   "cell_type": "markdown",
   "id": "b737ca55",
   "metadata": {},
   "source": [
    "Using \"Year Built\" and \"Year Sold\", I will define a new column for property age (since year of sale) as follows:"
   ]
  },
  {
   "cell_type": "code",
   "execution_count": 9,
   "id": "0361b68f",
   "metadata": {},
   "outputs": [],
   "source": [
    "df[\"property_age\"]= df[\"Yr Sold\"]- df[\"Year Built\"]"
   ]
  },
  {
   "cell_type": "code",
   "execution_count": 10,
   "id": "b5fa0fe6",
   "metadata": {},
   "outputs": [
    {
     "data": {
      "text/html": [
       "<div>\n",
       "<style scoped>\n",
       "    .dataframe tbody tr th:only-of-type {\n",
       "        vertical-align: middle;\n",
       "    }\n",
       "\n",
       "    .dataframe tbody tr th {\n",
       "        vertical-align: top;\n",
       "    }\n",
       "\n",
       "    .dataframe thead th {\n",
       "        text-align: right;\n",
       "    }\n",
       "</style>\n",
       "<table border=\"1\" class=\"dataframe\">\n",
       "  <thead>\n",
       "    <tr style=\"text-align: right;\">\n",
       "      <th></th>\n",
       "      <th>Yr Sold</th>\n",
       "      <th>Sale Type</th>\n",
       "      <th>SalePrice</th>\n",
       "      <th>Lot Area</th>\n",
       "      <th>Gr Liv Area</th>\n",
       "      <th>Neighborhood</th>\n",
       "      <th>Condition 1</th>\n",
       "      <th>Condition 2</th>\n",
       "      <th>Full Bath</th>\n",
       "      <th>Half Bath</th>\n",
       "      <th>Bedroom AbvGr</th>\n",
       "      <th>Overall Qual</th>\n",
       "      <th>Overall Cond</th>\n",
       "      <th>Year Built</th>\n",
       "      <th>Garage Cars</th>\n",
       "      <th>Lot Shape</th>\n",
       "      <th>Land Contour</th>\n",
       "      <th>Bldg Type</th>\n",
       "      <th>Fireplaces</th>\n",
       "      <th>Paved Drive</th>\n",
       "      <th>property_age</th>\n",
       "    </tr>\n",
       "  </thead>\n",
       "  <tbody>\n",
       "    <tr>\n",
       "      <th>0</th>\n",
       "      <td>2010</td>\n",
       "      <td>WD</td>\n",
       "      <td>130500</td>\n",
       "      <td>13517</td>\n",
       "      <td>1479</td>\n",
       "      <td>Sawyer</td>\n",
       "      <td>RRAe</td>\n",
       "      <td>Norm</td>\n",
       "      <td>2</td>\n",
       "      <td>1</td>\n",
       "      <td>3</td>\n",
       "      <td>6</td>\n",
       "      <td>8</td>\n",
       "      <td>1976</td>\n",
       "      <td>2.0</td>\n",
       "      <td>IR1</td>\n",
       "      <td>Lvl</td>\n",
       "      <td>1Fam</td>\n",
       "      <td>0</td>\n",
       "      <td>Y</td>\n",
       "      <td>34</td>\n",
       "    </tr>\n",
       "    <tr>\n",
       "      <th>1</th>\n",
       "      <td>2009</td>\n",
       "      <td>WD</td>\n",
       "      <td>220000</td>\n",
       "      <td>11492</td>\n",
       "      <td>2122</td>\n",
       "      <td>SawyerW</td>\n",
       "      <td>Norm</td>\n",
       "      <td>Norm</td>\n",
       "      <td>2</td>\n",
       "      <td>1</td>\n",
       "      <td>4</td>\n",
       "      <td>7</td>\n",
       "      <td>5</td>\n",
       "      <td>1996</td>\n",
       "      <td>2.0</td>\n",
       "      <td>IR1</td>\n",
       "      <td>Lvl</td>\n",
       "      <td>1Fam</td>\n",
       "      <td>1</td>\n",
       "      <td>Y</td>\n",
       "      <td>13</td>\n",
       "    </tr>\n",
       "    <tr>\n",
       "      <th>2</th>\n",
       "      <td>2010</td>\n",
       "      <td>WD</td>\n",
       "      <td>109000</td>\n",
       "      <td>7922</td>\n",
       "      <td>1057</td>\n",
       "      <td>NAmes</td>\n",
       "      <td>Norm</td>\n",
       "      <td>Norm</td>\n",
       "      <td>1</td>\n",
       "      <td>0</td>\n",
       "      <td>3</td>\n",
       "      <td>5</td>\n",
       "      <td>7</td>\n",
       "      <td>1953</td>\n",
       "      <td>1.0</td>\n",
       "      <td>Reg</td>\n",
       "      <td>Lvl</td>\n",
       "      <td>1Fam</td>\n",
       "      <td>0</td>\n",
       "      <td>Y</td>\n",
       "      <td>57</td>\n",
       "    </tr>\n",
       "    <tr>\n",
       "      <th>3</th>\n",
       "      <td>2010</td>\n",
       "      <td>WD</td>\n",
       "      <td>174000</td>\n",
       "      <td>9802</td>\n",
       "      <td>1444</td>\n",
       "      <td>Timber</td>\n",
       "      <td>Norm</td>\n",
       "      <td>Norm</td>\n",
       "      <td>2</td>\n",
       "      <td>1</td>\n",
       "      <td>3</td>\n",
       "      <td>5</td>\n",
       "      <td>5</td>\n",
       "      <td>2006</td>\n",
       "      <td>2.0</td>\n",
       "      <td>Reg</td>\n",
       "      <td>Lvl</td>\n",
       "      <td>1Fam</td>\n",
       "      <td>0</td>\n",
       "      <td>Y</td>\n",
       "      <td>4</td>\n",
       "    </tr>\n",
       "    <tr>\n",
       "      <th>4</th>\n",
       "      <td>2010</td>\n",
       "      <td>WD</td>\n",
       "      <td>138500</td>\n",
       "      <td>14235</td>\n",
       "      <td>1445</td>\n",
       "      <td>SawyerW</td>\n",
       "      <td>Norm</td>\n",
       "      <td>Norm</td>\n",
       "      <td>2</td>\n",
       "      <td>0</td>\n",
       "      <td>3</td>\n",
       "      <td>6</td>\n",
       "      <td>8</td>\n",
       "      <td>1900</td>\n",
       "      <td>2.0</td>\n",
       "      <td>IR1</td>\n",
       "      <td>Lvl</td>\n",
       "      <td>1Fam</td>\n",
       "      <td>0</td>\n",
       "      <td>N</td>\n",
       "      <td>110</td>\n",
       "    </tr>\n",
       "  </tbody>\n",
       "</table>\n",
       "</div>"
      ],
      "text/plain": [
       "   Yr Sold Sale Type  SalePrice  Lot Area  Gr Liv Area Neighborhood  \\\n",
       "0     2010       WD      130500     13517         1479       Sawyer   \n",
       "1     2009       WD      220000     11492         2122      SawyerW   \n",
       "2     2010       WD      109000      7922         1057        NAmes   \n",
       "3     2010       WD      174000      9802         1444       Timber   \n",
       "4     2010       WD      138500     14235         1445      SawyerW   \n",
       "\n",
       "  Condition 1 Condition 2  Full Bath  Half Bath  Bedroom AbvGr  Overall Qual  \\\n",
       "0        RRAe        Norm          2          1              3             6   \n",
       "1        Norm        Norm          2          1              4             7   \n",
       "2        Norm        Norm          1          0              3             5   \n",
       "3        Norm        Norm          2          1              3             5   \n",
       "4        Norm        Norm          2          0              3             6   \n",
       "\n",
       "   Overall Cond  Year Built  Garage Cars Lot Shape Land Contour Bldg Type  \\\n",
       "0             8        1976          2.0       IR1          Lvl      1Fam   \n",
       "1             5        1996          2.0       IR1          Lvl      1Fam   \n",
       "2             7        1953          1.0       Reg          Lvl      1Fam   \n",
       "3             5        2006          2.0       Reg          Lvl      1Fam   \n",
       "4             8        1900          2.0       IR1          Lvl      1Fam   \n",
       "\n",
       "   Fireplaces Paved Drive  property_age  \n",
       "0           0           Y            34  \n",
       "1           1           Y            13  \n",
       "2           0           Y            57  \n",
       "3           0           Y             4  \n",
       "4           0           N           110  "
      ]
     },
     "execution_count": 10,
     "metadata": {},
     "output_type": "execute_result"
    }
   ],
   "source": [
    "df.head()"
   ]
  },
  {
   "cell_type": "code",
   "execution_count": 11,
   "id": "ad9879f9",
   "metadata": {},
   "outputs": [
    {
     "data": {
      "text/plain": [
       "(2051, 21)"
      ]
     },
     "execution_count": 11,
     "metadata": {},
     "output_type": "execute_result"
    }
   ],
   "source": [
    "df.shape"
   ]
  },
  {
   "cell_type": "code",
   "execution_count": 12,
   "id": "0273225d",
   "metadata": {},
   "outputs": [
    {
     "data": {
      "text/plain": [
       "Yr Sold          0\n",
       "Sale Type        0\n",
       "SalePrice        0\n",
       "Lot Area         0\n",
       "Gr Liv Area      0\n",
       "Neighborhood     0\n",
       "Condition 1      0\n",
       "Condition 2      0\n",
       "Full Bath        0\n",
       "Half Bath        0\n",
       "Bedroom AbvGr    0\n",
       "Overall Qual     0\n",
       "Overall Cond     0\n",
       "Year Built       0\n",
       "Garage Cars      1\n",
       "Lot Shape        0\n",
       "Land Contour     0\n",
       "Bldg Type        0\n",
       "Fireplaces       0\n",
       "Paved Drive      0\n",
       "property_age     0\n",
       "dtype: int64"
      ]
     },
     "execution_count": 12,
     "metadata": {},
     "output_type": "execute_result"
    }
   ],
   "source": [
    "df.isnull().sum()"
   ]
  },
  {
   "cell_type": "code",
   "execution_count": 13,
   "id": "8fa10261",
   "metadata": {},
   "outputs": [],
   "source": [
    "#replacing the null value in \"Garage Cars\" with 0\n",
    "df[\"Garage Cars\"] = df[\"Garage Cars\"].replace(np.nan, 0)"
   ]
  },
  {
   "cell_type": "code",
   "execution_count": 14,
   "id": "23e6159a",
   "metadata": {},
   "outputs": [
    {
     "data": {
      "text/plain": [
       "0"
      ]
     },
     "execution_count": 14,
     "metadata": {},
     "output_type": "execute_result"
    }
   ],
   "source": [
    "df[\"Garage Cars\"].isnull().sum()"
   ]
  },
  {
   "cell_type": "markdown",
   "id": "075561f1",
   "metadata": {},
   "source": [
    "### Descriptive Statistics"
   ]
  },
  {
   "cell_type": "code",
   "execution_count": 15,
   "id": "fe434f74",
   "metadata": {},
   "outputs": [
    {
     "data": {
      "text/html": [
       "<div>\n",
       "<style scoped>\n",
       "    .dataframe tbody tr th:only-of-type {\n",
       "        vertical-align: middle;\n",
       "    }\n",
       "\n",
       "    .dataframe tbody tr th {\n",
       "        vertical-align: top;\n",
       "    }\n",
       "\n",
       "    .dataframe thead th {\n",
       "        text-align: right;\n",
       "    }\n",
       "</style>\n",
       "<table border=\"1\" class=\"dataframe\">\n",
       "  <thead>\n",
       "    <tr style=\"text-align: right;\">\n",
       "      <th></th>\n",
       "      <th>Yr Sold</th>\n",
       "      <th>SalePrice</th>\n",
       "      <th>Lot Area</th>\n",
       "      <th>Gr Liv Area</th>\n",
       "      <th>Full Bath</th>\n",
       "      <th>Half Bath</th>\n",
       "      <th>Bedroom AbvGr</th>\n",
       "      <th>Overall Qual</th>\n",
       "      <th>Overall Cond</th>\n",
       "      <th>Year Built</th>\n",
       "      <th>Garage Cars</th>\n",
       "      <th>Fireplaces</th>\n",
       "      <th>property_age</th>\n",
       "    </tr>\n",
       "  </thead>\n",
       "  <tbody>\n",
       "    <tr>\n",
       "      <th>count</th>\n",
       "      <td>2051.000000</td>\n",
       "      <td>2051.000000</td>\n",
       "      <td>2051.000000</td>\n",
       "      <td>2051.000000</td>\n",
       "      <td>2051.000000</td>\n",
       "      <td>2051.000000</td>\n",
       "      <td>2051.000000</td>\n",
       "      <td>2051.000000</td>\n",
       "      <td>2051.000000</td>\n",
       "      <td>2051.000000</td>\n",
       "      <td>2051.000000</td>\n",
       "      <td>2051.000000</td>\n",
       "      <td>2051.000000</td>\n",
       "    </tr>\n",
       "    <tr>\n",
       "      <th>mean</th>\n",
       "      <td>2007.775719</td>\n",
       "      <td>181469.701609</td>\n",
       "      <td>10065.208191</td>\n",
       "      <td>1499.330083</td>\n",
       "      <td>1.577279</td>\n",
       "      <td>0.371039</td>\n",
       "      <td>2.843491</td>\n",
       "      <td>6.112140</td>\n",
       "      <td>5.562165</td>\n",
       "      <td>1971.708922</td>\n",
       "      <td>1.775719</td>\n",
       "      <td>0.590931</td>\n",
       "      <td>36.066797</td>\n",
       "    </tr>\n",
       "    <tr>\n",
       "      <th>std</th>\n",
       "      <td>1.312014</td>\n",
       "      <td>79258.659352</td>\n",
       "      <td>6742.488909</td>\n",
       "      <td>500.447829</td>\n",
       "      <td>0.549279</td>\n",
       "      <td>0.501043</td>\n",
       "      <td>0.826618</td>\n",
       "      <td>1.426271</td>\n",
       "      <td>1.104497</td>\n",
       "      <td>30.177889</td>\n",
       "      <td>0.765357</td>\n",
       "      <td>0.638516</td>\n",
       "      <td>30.211061</td>\n",
       "    </tr>\n",
       "    <tr>\n",
       "      <th>min</th>\n",
       "      <td>2006.000000</td>\n",
       "      <td>12789.000000</td>\n",
       "      <td>1300.000000</td>\n",
       "      <td>334.000000</td>\n",
       "      <td>0.000000</td>\n",
       "      <td>0.000000</td>\n",
       "      <td>0.000000</td>\n",
       "      <td>1.000000</td>\n",
       "      <td>1.000000</td>\n",
       "      <td>1872.000000</td>\n",
       "      <td>0.000000</td>\n",
       "      <td>0.000000</td>\n",
       "      <td>-1.000000</td>\n",
       "    </tr>\n",
       "    <tr>\n",
       "      <th>25%</th>\n",
       "      <td>2007.000000</td>\n",
       "      <td>129825.000000</td>\n",
       "      <td>7500.000000</td>\n",
       "      <td>1129.000000</td>\n",
       "      <td>1.000000</td>\n",
       "      <td>0.000000</td>\n",
       "      <td>2.000000</td>\n",
       "      <td>5.000000</td>\n",
       "      <td>5.000000</td>\n",
       "      <td>1953.500000</td>\n",
       "      <td>1.000000</td>\n",
       "      <td>0.000000</td>\n",
       "      <td>7.000000</td>\n",
       "    </tr>\n",
       "    <tr>\n",
       "      <th>50%</th>\n",
       "      <td>2008.000000</td>\n",
       "      <td>162500.000000</td>\n",
       "      <td>9430.000000</td>\n",
       "      <td>1444.000000</td>\n",
       "      <td>2.000000</td>\n",
       "      <td>0.000000</td>\n",
       "      <td>3.000000</td>\n",
       "      <td>6.000000</td>\n",
       "      <td>5.000000</td>\n",
       "      <td>1974.000000</td>\n",
       "      <td>2.000000</td>\n",
       "      <td>1.000000</td>\n",
       "      <td>34.000000</td>\n",
       "    </tr>\n",
       "    <tr>\n",
       "      <th>75%</th>\n",
       "      <td>2009.000000</td>\n",
       "      <td>214000.000000</td>\n",
       "      <td>11513.500000</td>\n",
       "      <td>1728.500000</td>\n",
       "      <td>2.000000</td>\n",
       "      <td>1.000000</td>\n",
       "      <td>3.000000</td>\n",
       "      <td>7.000000</td>\n",
       "      <td>6.000000</td>\n",
       "      <td>2001.000000</td>\n",
       "      <td>2.000000</td>\n",
       "      <td>1.000000</td>\n",
       "      <td>54.000000</td>\n",
       "    </tr>\n",
       "    <tr>\n",
       "      <th>max</th>\n",
       "      <td>2010.000000</td>\n",
       "      <td>611657.000000</td>\n",
       "      <td>159000.000000</td>\n",
       "      <td>5642.000000</td>\n",
       "      <td>4.000000</td>\n",
       "      <td>2.000000</td>\n",
       "      <td>8.000000</td>\n",
       "      <td>10.000000</td>\n",
       "      <td>9.000000</td>\n",
       "      <td>2010.000000</td>\n",
       "      <td>5.000000</td>\n",
       "      <td>4.000000</td>\n",
       "      <td>136.000000</td>\n",
       "    </tr>\n",
       "  </tbody>\n",
       "</table>\n",
       "</div>"
      ],
      "text/plain": [
       "           Yr Sold      SalePrice       Lot Area  Gr Liv Area    Full Bath  \\\n",
       "count  2051.000000    2051.000000    2051.000000  2051.000000  2051.000000   \n",
       "mean   2007.775719  181469.701609   10065.208191  1499.330083     1.577279   \n",
       "std       1.312014   79258.659352    6742.488909   500.447829     0.549279   \n",
       "min    2006.000000   12789.000000    1300.000000   334.000000     0.000000   \n",
       "25%    2007.000000  129825.000000    7500.000000  1129.000000     1.000000   \n",
       "50%    2008.000000  162500.000000    9430.000000  1444.000000     2.000000   \n",
       "75%    2009.000000  214000.000000   11513.500000  1728.500000     2.000000   \n",
       "max    2010.000000  611657.000000  159000.000000  5642.000000     4.000000   \n",
       "\n",
       "         Half Bath  Bedroom AbvGr  Overall Qual  Overall Cond   Year Built  \\\n",
       "count  2051.000000    2051.000000   2051.000000   2051.000000  2051.000000   \n",
       "mean      0.371039       2.843491      6.112140      5.562165  1971.708922   \n",
       "std       0.501043       0.826618      1.426271      1.104497    30.177889   \n",
       "min       0.000000       0.000000      1.000000      1.000000  1872.000000   \n",
       "25%       0.000000       2.000000      5.000000      5.000000  1953.500000   \n",
       "50%       0.000000       3.000000      6.000000      5.000000  1974.000000   \n",
       "75%       1.000000       3.000000      7.000000      6.000000  2001.000000   \n",
       "max       2.000000       8.000000     10.000000      9.000000  2010.000000   \n",
       "\n",
       "       Garage Cars   Fireplaces  property_age  \n",
       "count  2051.000000  2051.000000   2051.000000  \n",
       "mean      1.775719     0.590931     36.066797  \n",
       "std       0.765357     0.638516     30.211061  \n",
       "min       0.000000     0.000000     -1.000000  \n",
       "25%       1.000000     0.000000      7.000000  \n",
       "50%       2.000000     1.000000     34.000000  \n",
       "75%       2.000000     1.000000     54.000000  \n",
       "max       5.000000     4.000000    136.000000  "
      ]
     },
     "execution_count": 15,
     "metadata": {},
     "output_type": "execute_result"
    }
   ],
   "source": [
    "df.describe()"
   ]
  },
  {
   "cell_type": "markdown",
   "id": "7a2b940e",
   "metadata": {},
   "source": [
    "### Takeaways from Descriptive Analysis\n",
    "\n",
    "* The descriptives above showed a high variation and range in values for sales price.\n",
    "* It also showed a really broad range in the indicators of property size.\n",
    "* 8 properties reported 0 full baths. This needs to be investigated.\n",
    "* 1,308 properties reported 0 half baths.\n",
    "* 5 properties reported 0 bedrooms (above grade). This needs to be investigated.\n",
    "* Overall finish, quality and condition (Overall Cond and Overall Qual) of all homes listed was generally average.\n",
    "* 1,000 homes did not have a fireplace. Of the homes that had a fireplace, 75% had 1 fireplace.\n",
    "* Mean property age was 36 years. However, minimum age was -1. This needs to be checked. The oldest house was 136 years old as at the year it was sold. \n"
   ]
  },
  {
   "cell_type": "markdown",
   "id": "308d0bd9",
   "metadata": {},
   "source": [
    "## EDA & Data Cleaning "
   ]
  },
  {
   "cell_type": "code",
   "execution_count": 16,
   "id": "9884a6f5",
   "metadata": {},
   "outputs": [
    {
     "data": {
      "image/png": "[encoded data removed]",
      "text/plain": [
       "<Figure size 1080x1080 with 16 Axes>"
      ]
     },
     "metadata": {
      "needs_background": "light"
     },
     "output_type": "display_data"
    }
   ],
   "source": [
    "df.hist(figsize=(15,15));"
   ]
  },
  {
   "cell_type": "markdown",
   "id": "9909c29c",
   "metadata": {},
   "source": [
    "The above histrogram shows a plot of all the numeric features in the dataframe (both discrete and continuous variables). Zooming in on continous variables, including the target variable point to the presence of outliers,and thus, normality issues which could comprise the quality of subsequent analysis. \"Lot Area\" measured in sq_ft is particularly glaring."
   ]
  },
  {
   "cell_type": "markdown",
   "id": "9ba0eaec",
   "metadata": {},
   "source": [
    "### Property Size Variables"
   ]
  },
  {
   "cell_type": "code",
   "execution_count": 17,
   "id": "e9a190da",
   "metadata": {},
   "outputs": [
    {
     "data": {
      "image/png": "[encoded data removed]",
      "text/plain": [
       "<Figure size 720x504 with 1 Axes>"
      ]
     },
     "metadata": {
      "needs_background": "light"
     },
     "output_type": "display_data"
    }
   ],
   "source": [
    "plt.figure(figsize=(10,7))\n",
    "plt.scatter(x=df[\"Lot Area\"], y=df[\"SalePrice\"])\n",
    "plt.xlabel(\"Lot Area\", fontsize=14)\n",
    "plt.ylabel(\"SalePrice\",fontsize=14)\n",
    "plt.title(\"Sale Price and Lot Area\",fontsize=16);"
   ]
  },
  {
   "cell_type": "markdown",
   "id": "b46b284c",
   "metadata": {},
   "source": [
    "This is further reinforced in the above scatter plot. Hence, I will be removing observations with a lot area greater than 37,000sq to reduce bias. "
   ]
  },
  {
   "cell_type": "code",
   "execution_count": 18,
   "id": "8c6161f8",
   "metadata": {},
   "outputs": [],
   "source": [
    "\n",
    "df.drop(df[df[\"Lot Area\"]>37000].index,inplace=True)"
   ]
  },
  {
   "cell_type": "code",
   "execution_count": 19,
   "id": "f6c9a8f1",
   "metadata": {},
   "outputs": [
    {
     "data": {
      "image/png": "[encoded data removed]",
      "text/plain": [
       "<Figure size 720x504 with 1 Axes>"
      ]
     },
     "metadata": {
      "needs_background": "light"
     },
     "output_type": "display_data"
    }
   ],
   "source": [
    "plt.figure(figsize=(10,7))\n",
    "plt.scatter(x=df[\"Lot Area\"], y=df[\"SalePrice\"])\n",
    "plt.xlabel(\"Lot Area\", fontsize=14)\n",
    "plt.ylabel(\"SalePrice\",fontsize=14)\n",
    "plt.title(\"Sale Price and Lot Area (post-cleaning)\",fontsize=16);\n",
    "plt.savefig(\"Sale Price & lot area\")"
   ]
  },
  {
   "cell_type": "code",
   "execution_count": 20,
   "id": "9cc22991",
   "metadata": {},
   "outputs": [
    {
     "data": {
      "image/png": "[encoded data removed]",
      "text/plain": [
       "<Figure size 720x504 with 1 Axes>"
      ]
     },
     "metadata": {
      "needs_background": "light"
     },
     "output_type": "display_data"
    }
   ],
   "source": [
    "plt.figure(figsize=(10,7))\n",
    "plt.scatter(x=df[\"Gr Liv Area\"], y=df[\"SalePrice\"])\n",
    "plt.xlabel(\"Gr Liv Area\", fontsize=14)\n",
    "plt.ylabel(\"SalePrice\",fontsize=14)\n",
    "plt.title(\"Gr Liv Area and Sale Price)\",fontsize=16);\n",
    "plt.savefig(\"Gr liv area & sale price\")"
   ]
  },
  {
   "cell_type": "markdown",
   "id": "8e521fff",
   "metadata": {},
   "source": [
    "With the removal of extreme outliers, there is a visible improvement in the linear relationship of the variables, as can be seen in the plot above."
   ]
  },
  {
   "cell_type": "code",
   "execution_count": 21,
   "id": "ee9a67c5",
   "metadata": {},
   "outputs": [
    {
     "data": {
      "image/png": "[encoded data removed]",
      "text/plain": [
       "<Figure size 360x180 with 2 Axes>"
      ]
     },
     "metadata": {
      "needs_background": "light"
     },
     "output_type": "display_data"
    }
   ],
   "source": [
    "sns.pairplot(df, x_vars = [\"Gr Liv Area\",\"Lot Area\"], y_vars = [\"SalePrice\"]);\n",
    "plt.title (\"Pair Plot of Property Size Variables\", fontsize = 16)\n",
    "plt.savefig(\"Pair Plot of Property Size Variables\");"
   ]
  },
  {
   "cell_type": "markdown",
   "id": "999a8408",
   "metadata": {},
   "source": [
    "### Variables describing Number of Rooms"
   ]
  },
  {
   "cell_type": "code",
   "execution_count": 22,
   "id": "e7056c16",
   "metadata": {},
   "outputs": [
    {
     "data": {
      "text/plain": [
       "2    1087\n",
       "1     893\n",
       "3      43\n",
       "0       7\n",
       "4       2\n",
       "Name: Full Bath, dtype: int64"
      ]
     },
     "execution_count": 22,
     "metadata": {},
     "output_type": "execute_result"
    }
   ],
   "source": [
    "df[\"Full Bath\"].value_counts()"
   ]
  },
  {
   "cell_type": "code",
   "execution_count": 23,
   "id": "a8b7e62d",
   "metadata": {},
   "outputs": [
    {
     "data": {
      "text/plain": [
       "0    1300\n",
       "1     714\n",
       "2      18\n",
       "Name: Half Bath, dtype: int64"
      ]
     },
     "execution_count": 23,
     "metadata": {},
     "output_type": "execute_result"
    }
   ],
   "source": [
    "df[\"Half Bath\"].value_counts()"
   ]
  },
  {
   "cell_type": "code",
   "execution_count": 24,
   "id": "1f9b6865",
   "metadata": {},
   "outputs": [
    {
     "data": {
      "text/html": [
       "<div>\n",
       "<style scoped>\n",
       "    .dataframe tbody tr th:only-of-type {\n",
       "        vertical-align: middle;\n",
       "    }\n",
       "\n",
       "    .dataframe tbody tr th {\n",
       "        vertical-align: top;\n",
       "    }\n",
       "\n",
       "    .dataframe thead th {\n",
       "        text-align: right;\n",
       "    }\n",
       "</style>\n",
       "<table border=\"1\" class=\"dataframe\">\n",
       "  <thead>\n",
       "    <tr style=\"text-align: right;\">\n",
       "      <th></th>\n",
       "      <th>Yr Sold</th>\n",
       "      <th>Sale Type</th>\n",
       "      <th>SalePrice</th>\n",
       "      <th>Lot Area</th>\n",
       "      <th>Gr Liv Area</th>\n",
       "      <th>Neighborhood</th>\n",
       "      <th>Condition 1</th>\n",
       "      <th>Condition 2</th>\n",
       "      <th>Full Bath</th>\n",
       "      <th>Half Bath</th>\n",
       "      <th>Bedroom AbvGr</th>\n",
       "      <th>Overall Qual</th>\n",
       "      <th>Overall Cond</th>\n",
       "      <th>Year Built</th>\n",
       "      <th>Garage Cars</th>\n",
       "      <th>Lot Shape</th>\n",
       "      <th>Land Contour</th>\n",
       "      <th>Bldg Type</th>\n",
       "      <th>Fireplaces</th>\n",
       "      <th>Paved Drive</th>\n",
       "      <th>property_age</th>\n",
       "    </tr>\n",
       "  </thead>\n",
       "  <tbody>\n",
       "    <tr>\n",
       "      <th>346</th>\n",
       "      <td>2006</td>\n",
       "      <td>WD</td>\n",
       "      <td>145000</td>\n",
       "      <td>10246</td>\n",
       "      <td>960</td>\n",
       "      <td>Sawyer</td>\n",
       "      <td>Norm</td>\n",
       "      <td>Norm</td>\n",
       "      <td>0</td>\n",
       "      <td>0</td>\n",
       "      <td>0</td>\n",
       "      <td>4</td>\n",
       "      <td>9</td>\n",
       "      <td>1965</td>\n",
       "      <td>1.0</td>\n",
       "      <td>IR1</td>\n",
       "      <td>Lvl</td>\n",
       "      <td>1Fam</td>\n",
       "      <td>0</td>\n",
       "      <td>Y</td>\n",
       "      <td>41</td>\n",
       "    </tr>\n",
       "    <tr>\n",
       "      <th>1518</th>\n",
       "      <td>2006</td>\n",
       "      <td>WD</td>\n",
       "      <td>35311</td>\n",
       "      <td>9000</td>\n",
       "      <td>480</td>\n",
       "      <td>IDOTRR</td>\n",
       "      <td>Norm</td>\n",
       "      <td>Norm</td>\n",
       "      <td>0</td>\n",
       "      <td>0</td>\n",
       "      <td>1</td>\n",
       "      <td>2</td>\n",
       "      <td>3</td>\n",
       "      <td>1949</td>\n",
       "      <td>1.0</td>\n",
       "      <td>Reg</td>\n",
       "      <td>Lvl</td>\n",
       "      <td>1Fam</td>\n",
       "      <td>0</td>\n",
       "      <td>Y</td>\n",
       "      <td>57</td>\n",
       "    </tr>\n",
       "  </tbody>\n",
       "</table>\n",
       "</div>"
      ],
      "text/plain": [
       "      Yr Sold Sale Type  SalePrice  Lot Area  Gr Liv Area Neighborhood  \\\n",
       "346      2006       WD      145000     10246          960       Sawyer   \n",
       "1518     2006       WD       35311      9000          480       IDOTRR   \n",
       "\n",
       "     Condition 1 Condition 2  Full Bath  Half Bath  Bedroom AbvGr  \\\n",
       "346         Norm        Norm          0          0              0   \n",
       "1518        Norm        Norm          0          0              1   \n",
       "\n",
       "      Overall Qual  Overall Cond  Year Built  Garage Cars Lot Shape  \\\n",
       "346              4             9        1965          1.0       IR1   \n",
       "1518             2             3        1949          1.0       Reg   \n",
       "\n",
       "     Land Contour Bldg Type  Fireplaces Paved Drive  property_age  \n",
       "346           Lvl      1Fam           0           Y            41  \n",
       "1518          Lvl      1Fam           0           Y            57  "
      ]
     },
     "execution_count": 24,
     "metadata": {},
     "output_type": "execute_result"
    }
   ],
   "source": [
    "#There are two houses with 0 full & half baths. Essentially no bathrooms. Not possible\n",
    "df[(df[\"Full Bath\"]==0) & (df[\"Half Bath\"]==0)]"
   ]
  },
  {
   "cell_type": "code",
   "execution_count": 25,
   "id": "05d90ab2",
   "metadata": {},
   "outputs": [
    {
     "data": {
      "text/plain": [
       "3    1103\n",
       "2     537\n",
       "4     261\n",
       "1      74\n",
       "5      40\n",
       "6      12\n",
       "0       4\n",
       "8       1\n",
       "Name: Bedroom AbvGr, dtype: int64"
      ]
     },
     "execution_count": 25,
     "metadata": {},
     "output_type": "execute_result"
    }
   ],
   "source": [
    "df[\"Bedroom AbvGr\"].value_counts()"
   ]
  },
  {
   "cell_type": "markdown",
   "id": "fef5d39d",
   "metadata": {},
   "source": [
    "From the above, there are 7 listed properties that have 0 full baths, and 1,300 properties which recorded 0 half baths. Whle the \"no half baths\" scenario, is plausible, 0 full baths is highly unlikely. The same logic applies to the 4 scenarios where number of bedrooms was reported as 0. Hence, we will be replacing 0 full bath and bedroom values."
   ]
  },
  {
   "cell_type": "code",
   "execution_count": 26,
   "id": "ca991f0e",
   "metadata": {},
   "outputs": [],
   "source": [
    "df['Full Bath'] = df['Full Bath'].replace(0, 1)"
   ]
  },
  {
   "cell_type": "code",
   "execution_count": 27,
   "id": "f3ac1eff",
   "metadata": {},
   "outputs": [],
   "source": [
    "df['Bedroom AbvGr'] = df['Bedroom AbvGr'].replace(0, 1)"
   ]
  },
  {
   "cell_type": "code",
   "execution_count": 28,
   "id": "ef0d3cdf",
   "metadata": {},
   "outputs": [
    {
     "data": {
      "image/png": "[encoded data removed]",
      "text/plain": [
       "<Figure size 720x360 with 1 Axes>"
      ]
     },
     "metadata": {
      "needs_background": "light"
     },
     "output_type": "display_data"
    }
   ],
   "source": [
    "plt.figure(figsize=(10,5))\n",
    "plt.scatter(x=df['Bedroom AbvGr'],y=df['SalePrice'])\n",
    "plt.xlabel(\"Sale Price\", fontsize = 16)\n",
    "plt.ylabel(\"Number of Bedrooms above grade\", fontsize=16)\n",
    "plt.title(\"Scatter Plot of Sale Price & Number of Bedrooms\", fontsize =18)\n",
    "plt.savefig(\"Scatter Plot of Sale Price & Number of Bedrooms\")"
   ]
  },
  {
   "cell_type": "code",
   "execution_count": 30,
   "id": "8c8925c4",
   "metadata": {},
   "outputs": [
    {
     "data": {
      "image/png": "[encoded data removed]",
      "text/plain": [
       "<Figure size 720x360 with 1 Axes>"
      ]
     },
     "metadata": {
      "needs_background": "light"
     },
     "output_type": "display_data"
    }
   ],
   "source": [
    "plt.figure(figsize=(10,5))\n",
    "plt.scatter(x=df['Full Bath'],y=df['SalePrice'])\n",
    "plt.xlabel(\"Sale Price\", fontsize = 16)\n",
    "plt.ylabel(\"Number of Full Bathrooms above grade\", fontsize=16)\n",
    "plt.title(\"Scatter Plot of Sale Price & Number of Full Bathrooms \", fontsize =18)\n",
    "plt.savefig(\"Scatter Plot of Sale Price & Number of Full Bathrooms \");"
   ]
  },
  {
   "cell_type": "code",
   "execution_count": 37,
   "id": "7ae8ed7c",
   "metadata": {},
   "outputs": [],
   "source": [
    "# Creating an interaction term for number of bedrooms and full bathrooms\n",
    "df[\"beds_and_baths\"]= df['Full Bath']*df['Bedroom AbvGr'] \n"
   ]
  },
  {
   "cell_type": "code",
   "execution_count": 38,
   "id": "df65dedd",
   "metadata": {},
   "outputs": [
    {
     "data": {
      "image/png": "[encoded data removed]",
      "text/plain": [
       "<Figure size 720x360 with 1 Axes>"
      ]
     },
     "metadata": {
      "needs_background": "light"
     },
     "output_type": "display_data"
    }
   ],
   "source": [
    "plt.figure(figsize=(10,5))\n",
    "\n",
    "plt.scatter(x=df['beds_and_baths'],y=df['SalePrice'])\n",
    "plt.xlabel(\"Sale Price\", fontsize = 16)\n",
    "plt.ylabel(\"Number of Full Bathrooms and Bedrooms\", fontsize=16)\n",
    "plt.title(\"Scatter Plot of Sale Price & Interaction of Beds and Baths \", fontsize =18)\n",
    "plt.savefig(\"Scatter Plot of Sale Price & Interaction of Beds and Baths\")"
   ]
  },
  {
   "cell_type": "markdown",
   "id": "f44ddea1",
   "metadata": {},
   "source": [
    "### Variables describing Property Aesthetics"
   ]
  },
  {
   "cell_type": "code",
   "execution_count": 39,
   "id": "bbf7e072",
   "metadata": {},
   "outputs": [
    {
     "data": {
      "text/plain": [
       "Y    1845\n",
       "N     148\n",
       "P      39\n",
       "Name: Paved Drive, dtype: int64"
      ]
     },
     "execution_count": 39,
     "metadata": {},
     "output_type": "execute_result"
    }
   ],
   "source": [
    "df[\"Paved Drive\"].value_counts()"
   ]
  },
  {
   "cell_type": "code",
   "execution_count": 40,
   "id": "ba6aa60e",
   "metadata": {},
   "outputs": [
    {
     "data": {
      "text/plain": [
       "Reg    1294\n",
       "IR1     680\n",
       "IR2      50\n",
       "IR3       8\n",
       "Name: Lot Shape, dtype: int64"
      ]
     },
     "execution_count": 40,
     "metadata": {},
     "output_type": "execute_result"
    }
   ],
   "source": [
    "df[\"Lot Shape\"].value_counts()"
   ]
  },
  {
   "cell_type": "code",
   "execution_count": 41,
   "id": "9b7223e5",
   "metadata": {},
   "outputs": [
    {
     "data": {
      "text/plain": [
       "Lvl    1837\n",
       "HLS      84\n",
       "Bnk      77\n",
       "Low      34\n",
       "Name: Land Contour, dtype: int64"
      ]
     },
     "execution_count": 41,
     "metadata": {},
     "output_type": "execute_result"
    }
   ],
   "source": [
    "df[\"Land Contour\"].value_counts()"
   ]
  },
  {
   "cell_type": "code",
   "execution_count": 42,
   "id": "857b88a2",
   "metadata": {},
   "outputs": [
    {
     "data": {
      "text/plain": [
       "0    998\n",
       "1    894\n",
       "2    134\n",
       "3      5\n",
       "4      1\n",
       "Name: Fireplaces, dtype: int64"
      ]
     },
     "execution_count": 42,
     "metadata": {},
     "output_type": "execute_result"
    }
   ],
   "source": [
    "df[\"Fireplaces\"].value_counts()"
   ]
  },
  {
   "cell_type": "code",
   "execution_count": 43,
   "id": "7c30e293",
   "metadata": {},
   "outputs": [
    {
     "data": {
      "text/plain": [
       "2.0    1124\n",
       "1.0     524\n",
       "3.0     257\n",
       "0.0     114\n",
       "4.0      12\n",
       "5.0       1\n",
       "Name: Garage Cars, dtype: int64"
      ]
     },
     "execution_count": 43,
     "metadata": {},
     "output_type": "execute_result"
    }
   ],
   "source": [
    "df[\"Garage Cars\"].value_counts ()"
   ]
  },
  {
   "cell_type": "code",
   "execution_count": 44,
   "id": "1481ef85",
   "metadata": {},
   "outputs": [
    {
     "data": {
      "text/plain": [
       "1Fam      1682\n",
       "TwnhsE     161\n",
       "Duplex      75\n",
       "Twnhs       69\n",
       "2fmCon      45\n",
       "Name: Bldg Type, dtype: int64"
      ]
     },
     "execution_count": 44,
     "metadata": {},
     "output_type": "execute_result"
    }
   ],
   "source": [
    "df[\"Bldg Type\"].value_counts()"
   ]
  },
  {
   "cell_type": "markdown",
   "id": "b8cd537b",
   "metadata": {},
   "source": [
    "#### Preprocessing \n",
    "\n",
    "Pre processing of variables in this category will be involved binning \"paved drive\", \"land contour\",\"fireplaces\", \"lot shape\", and \"garage cars\" as follows. Dummy variables will be generated for  \"lot config\" and \"bldg type\"."
   ]
  },
  {
   "cell_type": "code",
   "execution_count": 45,
   "id": "715943f1",
   "metadata": {},
   "outputs": [],
   "source": [
    "#defining func to \"binarize paved drive\"\n",
    "def binarize_pd (pd):\n",
    "    if pd == \"Y\":\n",
    "        return 1\n",
    "    else:\n",
    "        return 0"
   ]
  },
  {
   "cell_type": "code",
   "execution_count": 46,
   "id": "695a25e9",
   "metadata": {},
   "outputs": [],
   "source": [
    "#mapping function to column:\n",
    "df[\"Paved Drive\"]=df[\"Paved Drive\"].map(binarize_pd)"
   ]
  },
  {
   "cell_type": "code",
   "execution_count": 47,
   "id": "d86e5739",
   "metadata": {},
   "outputs": [
    {
     "data": {
      "text/plain": [
       "1    1845\n",
       "0     187\n",
       "Name: Paved Drive, dtype: int64"
      ]
     },
     "execution_count": 47,
     "metadata": {},
     "output_type": "execute_result"
    }
   ],
   "source": [
    "df[\"Paved Drive\"].value_counts()"
   ]
  },
  {
   "cell_type": "code",
   "execution_count": 48,
   "id": "cf3c206c",
   "metadata": {},
   "outputs": [],
   "source": [
    "#defining func to binarise lot shape\n",
    "def binarize_s (shape):\n",
    "    if shape == \"Reg\":\n",
    "        return 1\n",
    "    else:\n",
    "        return 0"
   ]
  },
  {
   "cell_type": "code",
   "execution_count": 49,
   "id": "fd26779a",
   "metadata": {},
   "outputs": [],
   "source": [
    "#mapping the function to column..\n",
    "df[\"Lot Shape\"]=df[\"Lot Shape\"].map(binarize_s)"
   ]
  },
  {
   "cell_type": "code",
   "execution_count": 50,
   "id": "a731e61d",
   "metadata": {},
   "outputs": [
    {
     "data": {
      "text/plain": [
       "1    1294\n",
       "0     738\n",
       "Name: Lot Shape, dtype: int64"
      ]
     },
     "execution_count": 50,
     "metadata": {},
     "output_type": "execute_result"
    }
   ],
   "source": [
    "df[\"Lot Shape\"].value_counts()"
   ]
  },
  {
   "cell_type": "code",
   "execution_count": 51,
   "id": "dcf6015e",
   "metadata": {},
   "outputs": [],
   "source": [
    "def binarize_l (land):\n",
    "    if land == \"Lvl\":\n",
    "        return 1\n",
    "    else:\n",
    "        return 0"
   ]
  },
  {
   "cell_type": "code",
   "execution_count": 52,
   "id": "579bb4c0",
   "metadata": {},
   "outputs": [],
   "source": [
    "#mapping function to column:\n",
    "df[\"Land Contour\"]=df[\"Land Contour\"].map(binarize_l)"
   ]
  },
  {
   "cell_type": "code",
   "execution_count": 53,
   "id": "8c39a203",
   "metadata": {},
   "outputs": [
    {
     "data": {
      "text/plain": [
       "1    1837\n",
       "0     195\n",
       "Name: Land Contour, dtype: int64"
      ]
     },
     "execution_count": 53,
     "metadata": {},
     "output_type": "execute_result"
    }
   ],
   "source": [
    "df[\"Land Contour\"].value_counts()"
   ]
  },
  {
   "cell_type": "code",
   "execution_count": 54,
   "id": "b92e0f56",
   "metadata": {},
   "outputs": [],
   "source": [
    "#defining function to bin fireplaces \n",
    "def bin_func (num):\n",
    "    if num == 0:\n",
    "        return 0\n",
    "    else:\n",
    "        return 1"
   ]
  },
  {
   "cell_type": "code",
   "execution_count": 55,
   "id": "36a30bfb",
   "metadata": {},
   "outputs": [],
   "source": [
    "#mapping function to column:\n",
    "df[\"Fireplaces\"]=df[\"Fireplaces\"].map(bin_func)"
   ]
  },
  {
   "cell_type": "code",
   "execution_count": 56,
   "id": "d9bfb4a6",
   "metadata": {},
   "outputs": [
    {
     "data": {
      "text/plain": [
       "1    1034\n",
       "0     998\n",
       "Name: Fireplaces, dtype: int64"
      ]
     },
     "execution_count": 56,
     "metadata": {},
     "output_type": "execute_result"
    }
   ],
   "source": [
    "df[\"Fireplaces\"].value_counts()"
   ]
  },
  {
   "cell_type": "code",
   "execution_count": 57,
   "id": "339ef586",
   "metadata": {},
   "outputs": [],
   "source": [
    "#mapping same func to Garage cars column:\n",
    "df[\"Garage\"]=df[\"Garage Cars\"].map(bin_func)"
   ]
  },
  {
   "cell_type": "code",
   "execution_count": 58,
   "id": "13ebb502",
   "metadata": {},
   "outputs": [
    {
     "data": {
      "text/plain": [
       "1    1918\n",
       "0     114\n",
       "Name: Garage, dtype: int64"
      ]
     },
     "execution_count": 58,
     "metadata": {},
     "output_type": "execute_result"
    }
   ],
   "source": [
    "df[\"Garage\"].value_counts()"
   ]
  },
  {
   "cell_type": "code",
   "execution_count": 59,
   "id": "3d8a474f",
   "metadata": {},
   "outputs": [],
   "source": [
    "#function to generate dummy variables for \"lot config\" and \"bldg type\"\n",
    "df= pd.get_dummies(df, columns=[\"Bldg Type\"],drop_first=True)"
   ]
  },
  {
   "cell_type": "code",
   "execution_count": 60,
   "id": "eff66c09",
   "metadata": {},
   "outputs": [
    {
     "data": {
      "image/png": "[encoded data removed]",
      "text/plain": [
       "<Figure size 720x504 with 1 Axes>"
      ]
     },
     "metadata": {
      "needs_background": "light"
     },
     "output_type": "display_data"
    }
   ],
   "source": [
    "plt.figure(figsize=(10,7))\n",
    "sns.barplot(x= train.groupby([\"Bldg Type\"])[\"SalePrice\"].median(),orient ='h',\n",
    "            y= train.groupby([\"Bldg Type\"])[\"SalePrice\"].median().index, palette = \"rainbow\")\n",
    "plt.title(\"Median Sale Price by Building Type\",fontsize=18);\n",
    "plt.savefig(\"Median Sale price by Building Type\")"
   ]
  },
  {
   "cell_type": "markdown",
   "id": "263a1a2b",
   "metadata": {},
   "source": [
    "The above plot show the median sale price by building type. Surprsingly, end unit townhouses on average were more expensive than single family homes. "
   ]
  },
  {
   "cell_type": "code",
   "execution_count": 61,
   "id": "1c326e5a",
   "metadata": {},
   "outputs": [
    {
     "data": {
      "image/png": "[encoded data removed]",
      "text/plain": [
       "<Figure size 720x504 with 1 Axes>"
      ]
     },
     "metadata": {
      "needs_background": "light"
     },
     "output_type": "display_data"
    }
   ],
   "source": [
    "plt.figure(figsize=(10,7))\n",
    "sns.barplot(x= train.groupby([\"Bldg Type\"])[\"SalePrice\"].mean(),orient ='h',\n",
    "            y= train.groupby([\"Bldg Type\"])[\"SalePrice\"].mean().index, palette = \"rainbow\")\n",
    "plt.title(\"Mean Sale Price by Building Type\",fontsize=18);\n",
    "plt.savefig(\"Mean Sale price by Building Type\")"
   ]
  },
  {
   "cell_type": "markdown",
   "id": "8e6100a6",
   "metadata": {},
   "source": [
    "Grouping the variables by mean sale price, the trend was the same."
   ]
  },
  {
   "cell_type": "markdown",
   "id": "7225587b",
   "metadata": {},
   "source": [
    "## Variables Describing Location Desirability"
   ]
  },
  {
   "cell_type": "code",
   "execution_count": 62,
   "id": "8c0a379d",
   "metadata": {},
   "outputs": [
    {
     "data": {
      "text/plain": [
       "Norm      1752\n",
       "Feedr      107\n",
       "Artery      69\n",
       "RRAn        36\n",
       "PosN        26\n",
       "RRAe        21\n",
       "PosA        12\n",
       "RRNn         6\n",
       "RRNe         3\n",
       "Name: Condition 1, dtype: int64"
      ]
     },
     "execution_count": 62,
     "metadata": {},
     "output_type": "execute_result"
    }
   ],
   "source": [
    "df[\"Condition 1\"].value_counts()"
   ]
  },
  {
   "cell_type": "markdown",
   "id": "3d91bde6",
   "metadata": {},
   "source": [
    "I will create 3 columns by binarizing the \"Condition 1\" variable based on nearness/adjacence to a railroad, rterial or feeder street or positive offsite feature such as a park or greenbelt. "
   ]
  },
  {
   "cell_type": "code",
   "execution_count": 63,
   "id": "b02c6a62",
   "metadata": {},
   "outputs": [],
   "source": [
    "df[\"near_railroad\"]= ((df[\"Condition 1\"]== \"RRAn\") | (df[\"Condition 1\"]== \"RRAe\") | (df[\"Condition 1\"]== \"RRNn\")| (df[\"Condition 1\"]== \"RRNe\")).astype(int)"
   ]
  },
  {
   "cell_type": "code",
   "execution_count": 64,
   "id": "6c58b1d1",
   "metadata": {},
   "outputs": [
    {
     "data": {
      "text/plain": [
       "0    1966\n",
       "1      66\n",
       "Name: near_railroad, dtype: int64"
      ]
     },
     "execution_count": 64,
     "metadata": {},
     "output_type": "execute_result"
    }
   ],
   "source": [
    "df[\"near_railroad\"].value_counts()"
   ]
  },
  {
   "cell_type": "code",
   "execution_count": 65,
   "id": "79eb64f3",
   "metadata": {},
   "outputs": [],
   "source": [
    "df[\"near_major_str\"]= ((df[\"Condition 1\"]== \"Feedr\") | (df[\"Condition 1\"]== \"Artery\")).astype(int)"
   ]
  },
  {
   "cell_type": "code",
   "execution_count": 66,
   "id": "9dc434d9",
   "metadata": {},
   "outputs": [],
   "source": [
    "df[\"near_pos_feature\"]= ((df[\"Condition 1\"]== \"PosN\") | (df[\"Condition 1\"]== \"PosA\")).astype(int)"
   ]
  },
  {
   "cell_type": "markdown",
   "id": "3927c634",
   "metadata": {},
   "source": [
    "### Variables describing quality of home / Construction Materials "
   ]
  },
  {
   "cell_type": "code",
   "execution_count": 67,
   "id": "a137a948",
   "metadata": {
    "scrolled": true
   },
   "outputs": [
    {
     "data": {
      "text/plain": [
       "1      153\n",
       "0       79\n",
       "2       62\n",
       "4       57\n",
       "6       53\n",
       "5       46\n",
       "3       44\n",
       "31      43\n",
       "7       37\n",
       "9       36\n",
       "32      32\n",
       "8       32\n",
       "13      31\n",
       "51      31\n",
       "39      30\n",
       "30      30\n",
       "44      29\n",
       "52      29\n",
       "11      29\n",
       "42      28\n",
       "10      27\n",
       "49      27\n",
       "43      27\n",
       "12      26\n",
       "53      25\n",
       "41      25\n",
       "50      24\n",
       "47      24\n",
       "48      23\n",
       "34      23\n",
       "36      22\n",
       "37      22\n",
       "54      22\n",
       "46      22\n",
       "45      21\n",
       "55      21\n",
       "40      20\n",
       "38      20\n",
       "68      20\n",
       "33      19\n",
       "15      19\n",
       "87      19\n",
       "35      19\n",
       "17      18\n",
       "69      18\n",
       "59      17\n",
       "81      17\n",
       "14      16\n",
       "56      16\n",
       "70      16\n",
       "82      16\n",
       "19      15\n",
       "84      15\n",
       "29      14\n",
       "57      14\n",
       "58      13\n",
       "88      13\n",
       "89      13\n",
       "61      13\n",
       "28      13\n",
       "67      12\n",
       "83      12\n",
       "86      12\n",
       "16      12\n",
       "78      12\n",
       "26      12\n",
       "60      11\n",
       "18      11\n",
       "22      11\n",
       "71      10\n",
       "62      10\n",
       "93       9\n",
       "94       9\n",
       "80       9\n",
       "77       9\n",
       "97       8\n",
       "98       8\n",
       "106      8\n",
       "90       8\n",
       "65       8\n",
       "99       7\n",
       "21       7\n",
       "20       6\n",
       "76       6\n",
       "96       6\n",
       "66       6\n",
       "92       6\n",
       "25       6\n",
       "85       6\n",
       "74       6\n",
       "23       6\n",
       "27       5\n",
       "91       5\n",
       "73       5\n",
       "109      5\n",
       "64       5\n",
       "63       5\n",
       "72       4\n",
       "24       4\n",
       "108      3\n",
       "110      3\n",
       "107      3\n",
       "79       3\n",
       "95       3\n",
       "118      2\n",
       "119      2\n",
       "112      2\n",
       "128      2\n",
       "114      2\n",
       "100      2\n",
       "75       2\n",
       "113      1\n",
       "111      1\n",
       "115      1\n",
       "117      1\n",
       "103      1\n",
       "101      1\n",
       "125      1\n",
       "127      1\n",
       "129      1\n",
       "135      1\n",
       "136      1\n",
       "Name: property_age, dtype: int64"
      ]
     },
     "execution_count": 67,
     "metadata": {},
     "output_type": "execute_result"
    }
   ],
   "source": [
    "df[\"property_age\"].value_counts()"
   ]
  },
  {
   "cell_type": "code",
   "execution_count": 68,
   "id": "68a87c10",
   "metadata": {},
   "outputs": [
    {
     "data": {
      "image/png": "[encoded data removed]",
      "text/plain": [
       "<Figure size 720x504 with 1 Axes>"
      ]
     },
     "metadata": {
      "needs_background": "light"
     },
     "output_type": "display_data"
    }
   ],
   "source": [
    "plt.figure (figsize=(10,7))\n",
    "\n",
    "plt.scatter(x=df[\"property_age\"],y=df[\"SalePrice\"])\n",
    "\n",
    "plt.xlabel(\"Property Age\", fontsize=14)\n",
    "plt.ylabel(\"SalePrice\",fontsize=14)\n",
    "plt.title(\"Property Age (Since Year Built) and Sale Price\", fontsize=16);\n",
    "plt.savefig(\"Property Age (Since Year Built) and Sale Price\")"
   ]
  },
  {
   "cell_type": "markdown",
   "id": "2805d299",
   "metadata": {},
   "source": [
    "A strong linear relationship can be observed between property age and sale price. The relationship is negative in nature, where in sale price decreases, the property age increases."
   ]
  },
  {
   "cell_type": "code",
   "execution_count": 69,
   "id": "ac45ed4b",
   "metadata": {},
   "outputs": [
    {
     "data": {
      "text/plain": [
       "5     560\n",
       "6     501\n",
       "7     428\n",
       "8     248\n",
       "4     158\n",
       "9      75\n",
       "3      28\n",
       "10     21\n",
       "2       9\n",
       "1       4\n",
       "Name: Overall Qual, dtype: int64"
      ]
     },
     "execution_count": 69,
     "metadata": {},
     "output_type": "execute_result"
    }
   ],
   "source": [
    "df[\"Overall Qual\"].value_counts()"
   ]
  },
  {
   "cell_type": "code",
   "execution_count": 70,
   "id": "59441feb",
   "metadata": {},
   "outputs": [
    {
     "data": {
      "image/png": "[encoded data removed]",
      "text/plain": [
       "<Figure size 720x504 with 1 Axes>"
      ]
     },
     "metadata": {
      "needs_background": "light"
     },
     "output_type": "display_data"
    }
   ],
   "source": [
    "plt.figure(figsize=(10,7))\n",
    "plt.scatter(x=df[\"Overall Qual\"],y=df[\"SalePrice\"])\n",
    "plt.xlabel(\"Sale Price\", fontsize = 16)\n",
    "plt.ylabel(\"Overall Material and Finish of Property\", fontsize= 16)\n",
    "plt.title(\"Plot of Sale Price and Rating of Overall Material and Finish of Property\", fontsize= 18)\n",
    "plt.savefig(\"Plot of Sale Price and Rating Overall Material and Finish of Property\")"
   ]
  },
  {
   "cell_type": "markdown",
   "id": "05b5e636",
   "metadata": {},
   "source": [
    "A clear linear relationship can be observed between sale price and the ordinal measure of the overall quality of the material and finish of the property. Here, quality is measured on a scale of 1 to 10, where 1 denotes \"very poor\" and 10 denotes \"excellent\"."
   ]
  },
  {
   "cell_type": "code",
   "execution_count": 71,
   "id": "28853a35",
   "metadata": {},
   "outputs": [
    {
     "data": {
      "text/plain": [
       "5    1155\n",
       "6     366\n",
       "7     266\n",
       "8     101\n",
       "4      70\n",
       "3      35\n",
       "9      29\n",
       "2       6\n",
       "1       4\n",
       "Name: Overall Cond, dtype: int64"
      ]
     },
     "execution_count": 71,
     "metadata": {},
     "output_type": "execute_result"
    }
   ],
   "source": [
    "df[\"Overall Cond\"].value_counts()"
   ]
  },
  {
   "cell_type": "code",
   "execution_count": 72,
   "id": "b22b2ac3",
   "metadata": {},
   "outputs": [
    {
     "data": {
      "image/png": "[encoded data removed]",
      "text/plain": [
       "<Figure size 720x504 with 1 Axes>"
      ]
     },
     "metadata": {
      "needs_background": "light"
     },
     "output_type": "display_data"
    }
   ],
   "source": [
    "plt.figure(figsize=(10,7))\n",
    "\n",
    "plt.scatter(x=df[\"Overall Cond\"],y=df[\"SalePrice\"])\n",
    "plt.xlabel(\"Sale Price\", fontsize = 16)\n",
    "plt.ylabel(\"Overall Condition of Property\", fontsize= 16)\n",
    "plt.title(\"Plot of Sale Price and Rating of Overall Condition of Property\", fontsize= 18)\n",
    "plt.savefig(\"Plot of Sale Price and Rating of Overall Condition of Property\")"
   ]
  },
  {
   "cell_type": "markdown",
   "id": "1a1576b1",
   "metadata": {},
   "source": [
    "The relationship  between sale price and the ordinal measure of the overall condition of the property can also be described as linear (although the linear relationship is not so strong). Like in the plot above, quality is measured on a scale of 1 to 10, where 1 denotes \"very poor\" and 10 denotes \"excellent\"."
   ]
  },
  {
   "cell_type": "markdown",
   "id": "854cf0d3",
   "metadata": {},
   "source": [
    "#### Preprocessing\n",
    "\n",
    "To strengthen the linear relationships observed in the quality indicators above, I will be interacting the variables \"Overall Qual\" and \"Overall Cond\"."
   ]
  },
  {
   "cell_type": "code",
   "execution_count": 73,
   "id": "f6843fca",
   "metadata": {},
   "outputs": [],
   "source": [
    "#Creating an interaction term overall quality and overal condition:\n",
    "df[\"overall_qual_and_cond\"]= df[\"Overall Qual\"] * df[\"Overall Cond\"]"
   ]
  },
  {
   "cell_type": "code",
   "execution_count": 74,
   "id": "8756894f",
   "metadata": {},
   "outputs": [
    {
     "data": {
      "image/png": "[encoded data removed]",
      "text/plain": [
       "<Figure size 720x504 with 1 Axes>"
      ]
     },
     "metadata": {
      "needs_background": "light"
     },
     "output_type": "display_data"
    }
   ],
   "source": [
    "plt.figure (figsize=(10,7))\n",
    "plt.scatter(x=df[\"overall_qual_and_cond\"],y=df[\"SalePrice\"])\n",
    "plt.xlabel(\"Overall Quality and Condition\", fontsize=14)\n",
    "plt.ylabel(\"SalePrice\",fontsize=14)\n",
    "plt.title(\"Overall Quality & Condition and Sale Price)\",fontsize=16);\n",
    "plt.savefig(\"Overall Quality_Condition and Sale Price\")"
   ]
  },
  {
   "cell_type": "code",
   "execution_count": 75,
   "id": "a47ed6b4",
   "metadata": {},
   "outputs": [
    {
     "data": {
      "image/png": "[encoded data removed]",
      "text/plain": [
       "<Figure size 720x504 with 1 Axes>"
      ]
     },
     "metadata": {
      "needs_background": "light"
     },
     "output_type": "display_data"
    }
   ],
   "source": [
    "plt.figure(figsize=(10,7))\n",
    "sns.barplot(x= df.groupby([\"Sale Type\"])[\"SalePrice\"].mean(), \n",
    "            y= df.groupby([\"Sale Type\"])[\"SalePrice\"].mean().index, orient= 'h' )\n",
    "plt.title(\"Visualizing Sales Prices by Type of Sale\",fontsize=18);\n",
    "plt.savefig(\"sale price by type of sale\")"
   ]
  },
  {
   "cell_type": "markdown",
   "id": "a93d2d06",
   "metadata": {},
   "source": [
    "## OLS Regression Model"
   ]
  },
  {
   "cell_type": "markdown",
   "id": "1c4554c9",
   "metadata": {},
   "source": [
    "### OLS Regression Using Train Test Split on the Training Dataset"
   ]
  },
  {
   "cell_type": "code",
   "execution_count": 76,
   "id": "e0854f20",
   "metadata": {},
   "outputs": [
    {
     "data": {
      "text/html": [
       "<div>\n",
       "<style scoped>\n",
       "    .dataframe tbody tr th:only-of-type {\n",
       "        vertical-align: middle;\n",
       "    }\n",
       "\n",
       "    .dataframe tbody tr th {\n",
       "        vertical-align: top;\n",
       "    }\n",
       "\n",
       "    .dataframe thead th {\n",
       "        text-align: right;\n",
       "    }\n",
       "</style>\n",
       "<table border=\"1\" class=\"dataframe\">\n",
       "  <thead>\n",
       "    <tr style=\"text-align: right;\">\n",
       "      <th></th>\n",
       "      <th>Yr Sold</th>\n",
       "      <th>Sale Type</th>\n",
       "      <th>SalePrice</th>\n",
       "      <th>Lot Area</th>\n",
       "      <th>Gr Liv Area</th>\n",
       "      <th>Neighborhood</th>\n",
       "      <th>Condition 1</th>\n",
       "      <th>Condition 2</th>\n",
       "      <th>Full Bath</th>\n",
       "      <th>Half Bath</th>\n",
       "      <th>Bedroom AbvGr</th>\n",
       "      <th>Overall Qual</th>\n",
       "      <th>Overall Cond</th>\n",
       "      <th>Year Built</th>\n",
       "      <th>Garage Cars</th>\n",
       "      <th>Lot Shape</th>\n",
       "      <th>Land Contour</th>\n",
       "      <th>Fireplaces</th>\n",
       "      <th>Paved Drive</th>\n",
       "      <th>property_age</th>\n",
       "      <th>beds_and_baths</th>\n",
       "      <th>Garage</th>\n",
       "      <th>Bldg Type_2fmCon</th>\n",
       "      <th>Bldg Type_Duplex</th>\n",
       "      <th>Bldg Type_Twnhs</th>\n",
       "      <th>Bldg Type_TwnhsE</th>\n",
       "      <th>near_railroad</th>\n",
       "      <th>near_major_str</th>\n",
       "      <th>near_pos_feature</th>\n",
       "      <th>overall_qual_and_cond</th>\n",
       "    </tr>\n",
       "  </thead>\n",
       "  <tbody>\n",
       "    <tr>\n",
       "      <th>0</th>\n",
       "      <td>2010</td>\n",
       "      <td>WD</td>\n",
       "      <td>130500</td>\n",
       "      <td>13517</td>\n",
       "      <td>1479</td>\n",
       "      <td>Sawyer</td>\n",
       "      <td>RRAe</td>\n",
       "      <td>Norm</td>\n",
       "      <td>2</td>\n",
       "      <td>1</td>\n",
       "      <td>3</td>\n",
       "      <td>6</td>\n",
       "      <td>8</td>\n",
       "      <td>1976</td>\n",
       "      <td>2.0</td>\n",
       "      <td>0</td>\n",
       "      <td>1</td>\n",
       "      <td>0</td>\n",
       "      <td>1</td>\n",
       "      <td>34</td>\n",
       "      <td>6</td>\n",
       "      <td>1</td>\n",
       "      <td>0</td>\n",
       "      <td>0</td>\n",
       "      <td>0</td>\n",
       "      <td>0</td>\n",
       "      <td>1</td>\n",
       "      <td>0</td>\n",
       "      <td>0</td>\n",
       "      <td>48</td>\n",
       "    </tr>\n",
       "    <tr>\n",
       "      <th>1</th>\n",
       "      <td>2009</td>\n",
       "      <td>WD</td>\n",
       "      <td>220000</td>\n",
       "      <td>11492</td>\n",
       "      <td>2122</td>\n",
       "      <td>SawyerW</td>\n",
       "      <td>Norm</td>\n",
       "      <td>Norm</td>\n",
       "      <td>2</td>\n",
       "      <td>1</td>\n",
       "      <td>4</td>\n",
       "      <td>7</td>\n",
       "      <td>5</td>\n",
       "      <td>1996</td>\n",
       "      <td>2.0</td>\n",
       "      <td>0</td>\n",
       "      <td>1</td>\n",
       "      <td>1</td>\n",
       "      <td>1</td>\n",
       "      <td>13</td>\n",
       "      <td>8</td>\n",
       "      <td>1</td>\n",
       "      <td>0</td>\n",
       "      <td>0</td>\n",
       "      <td>0</td>\n",
       "      <td>0</td>\n",
       "      <td>0</td>\n",
       "      <td>0</td>\n",
       "      <td>0</td>\n",
       "      <td>35</td>\n",
       "    </tr>\n",
       "    <tr>\n",
       "      <th>2</th>\n",
       "      <td>2010</td>\n",
       "      <td>WD</td>\n",
       "      <td>109000</td>\n",
       "      <td>7922</td>\n",
       "      <td>1057</td>\n",
       "      <td>NAmes</td>\n",
       "      <td>Norm</td>\n",
       "      <td>Norm</td>\n",
       "      <td>1</td>\n",
       "      <td>0</td>\n",
       "      <td>3</td>\n",
       "      <td>5</td>\n",
       "      <td>7</td>\n",
       "      <td>1953</td>\n",
       "      <td>1.0</td>\n",
       "      <td>1</td>\n",
       "      <td>1</td>\n",
       "      <td>0</td>\n",
       "      <td>1</td>\n",
       "      <td>57</td>\n",
       "      <td>3</td>\n",
       "      <td>1</td>\n",
       "      <td>0</td>\n",
       "      <td>0</td>\n",
       "      <td>0</td>\n",
       "      <td>0</td>\n",
       "      <td>0</td>\n",
       "      <td>0</td>\n",
       "      <td>0</td>\n",
       "      <td>35</td>\n",
       "    </tr>\n",
       "    <tr>\n",
       "      <th>3</th>\n",
       "      <td>2010</td>\n",
       "      <td>WD</td>\n",
       "      <td>174000</td>\n",
       "      <td>9802</td>\n",
       "      <td>1444</td>\n",
       "      <td>Timber</td>\n",
       "      <td>Norm</td>\n",
       "      <td>Norm</td>\n",
       "      <td>2</td>\n",
       "      <td>1</td>\n",
       "      <td>3</td>\n",
       "      <td>5</td>\n",
       "      <td>5</td>\n",
       "      <td>2006</td>\n",
       "      <td>2.0</td>\n",
       "      <td>1</td>\n",
       "      <td>1</td>\n",
       "      <td>0</td>\n",
       "      <td>1</td>\n",
       "      <td>4</td>\n",
       "      <td>6</td>\n",
       "      <td>1</td>\n",
       "      <td>0</td>\n",
       "      <td>0</td>\n",
       "      <td>0</td>\n",
       "      <td>0</td>\n",
       "      <td>0</td>\n",
       "      <td>0</td>\n",
       "      <td>0</td>\n",
       "      <td>25</td>\n",
       "    </tr>\n",
       "    <tr>\n",
       "      <th>4</th>\n",
       "      <td>2010</td>\n",
       "      <td>WD</td>\n",
       "      <td>138500</td>\n",
       "      <td>14235</td>\n",
       "      <td>1445</td>\n",
       "      <td>SawyerW</td>\n",
       "      <td>Norm</td>\n",
       "      <td>Norm</td>\n",
       "      <td>2</td>\n",
       "      <td>0</td>\n",
       "      <td>3</td>\n",
       "      <td>6</td>\n",
       "      <td>8</td>\n",
       "      <td>1900</td>\n",
       "      <td>2.0</td>\n",
       "      <td>0</td>\n",
       "      <td>1</td>\n",
       "      <td>0</td>\n",
       "      <td>0</td>\n",
       "      <td>110</td>\n",
       "      <td>6</td>\n",
       "      <td>1</td>\n",
       "      <td>0</td>\n",
       "      <td>0</td>\n",
       "      <td>0</td>\n",
       "      <td>0</td>\n",
       "      <td>0</td>\n",
       "      <td>0</td>\n",
       "      <td>0</td>\n",
       "      <td>48</td>\n",
       "    </tr>\n",
       "  </tbody>\n",
       "</table>\n",
       "</div>"
      ],
      "text/plain": [
       "   Yr Sold Sale Type  SalePrice  Lot Area  Gr Liv Area Neighborhood  \\\n",
       "0     2010       WD      130500     13517         1479       Sawyer   \n",
       "1     2009       WD      220000     11492         2122      SawyerW   \n",
       "2     2010       WD      109000      7922         1057        NAmes   \n",
       "3     2010       WD      174000      9802         1444       Timber   \n",
       "4     2010       WD      138500     14235         1445      SawyerW   \n",
       "\n",
       "  Condition 1 Condition 2  Full Bath  Half Bath  Bedroom AbvGr  Overall Qual  \\\n",
       "0        RRAe        Norm          2          1              3             6   \n",
       "1        Norm        Norm          2          1              4             7   \n",
       "2        Norm        Norm          1          0              3             5   \n",
       "3        Norm        Norm          2          1              3             5   \n",
       "4        Norm        Norm          2          0              3             6   \n",
       "\n",
       "   Overall Cond  Year Built  Garage Cars  Lot Shape  Land Contour  Fireplaces  \\\n",
       "0             8        1976          2.0          0             1           0   \n",
       "1             5        1996          2.0          0             1           1   \n",
       "2             7        1953          1.0          1             1           0   \n",
       "3             5        2006          2.0          1             1           0   \n",
       "4             8        1900          2.0          0             1           0   \n",
       "\n",
       "   Paved Drive  property_age  beds_and_baths  Garage  Bldg Type_2fmCon  \\\n",
       "0            1            34               6       1                 0   \n",
       "1            1            13               8       1                 0   \n",
       "2            1            57               3       1                 0   \n",
       "3            1             4               6       1                 0   \n",
       "4            0           110               6       1                 0   \n",
       "\n",
       "   Bldg Type_Duplex  Bldg Type_Twnhs  Bldg Type_TwnhsE  near_railroad  \\\n",
       "0                 0                0                 0              1   \n",
       "1                 0                0                 0              0   \n",
       "2                 0                0                 0              0   \n",
       "3                 0                0                 0              0   \n",
       "4                 0                0                 0              0   \n",
       "\n",
       "   near_major_str  near_pos_feature  overall_qual_and_cond  \n",
       "0               0                 0                     48  \n",
       "1               0                 0                     35  \n",
       "2               0                 0                     35  \n",
       "3               0                 0                     25  \n",
       "4               0                 0                     48  "
      ]
     },
     "execution_count": 76,
     "metadata": {},
     "output_type": "execute_result"
    }
   ],
   "source": [
    "df.head()"
   ]
  },
  {
   "cell_type": "code",
   "execution_count": 77,
   "id": "1db3e6b5",
   "metadata": {},
   "outputs": [],
   "source": [
    "#Specifiying X variables:\n",
    "X= df.drop(columns=[\"Yr Sold\", \"Sale Type\",\"SalePrice\", \"Neighborhood\",\"Condition 1\",\"Condition 2\",\"Half Bath\",\n",
    "                    \"beds_and_baths\",\"Overall Qual\",\"Overall Cond\",\"Year Built\",\"Garage Cars\"])"
   ]
  },
  {
   "cell_type": "code",
   "execution_count": 78,
   "id": "550fdbb0",
   "metadata": {},
   "outputs": [],
   "source": [
    "#Specifying target variable:\n",
    "y= df[\"SalePrice\"]"
   ]
  },
  {
   "cell_type": "code",
   "execution_count": 79,
   "id": "d4f1c108",
   "metadata": {},
   "outputs": [],
   "source": [
    "#Dataframe containing target variable and features:\n",
    "target_and_features= df.drop(columns=[\"Yr Sold\", \"Sale Type\", \"Neighborhood\",\"Condition 1\",\"Condition 2\",\"Half Bath\",\n",
    "                    \"beds_and_baths\",\"Overall Qual\",\"Overall Cond\",\"Year Built\",\"Garage Cars\"])"
   ]
  },
  {
   "cell_type": "code",
   "execution_count": 80,
   "id": "50e96bc7",
   "metadata": {},
   "outputs": [
    {
     "data": {
      "image/png": "[encoded data removed]",
      "text/plain": [
       "<Figure size 1440x1440 with 2 Axes>"
      ]
     },
     "metadata": {
      "needs_background": "light"
     },
     "output_type": "display_data"
    }
   ],
   "source": [
    "plt.figure(figsize = (20,20))\n",
    "\n",
    "corr = target_and_features.corr()\n",
    "corr\n",
    "\n",
    "mask = np.zeros_like(corr)\n",
    "mask[np.triu_indices_from(mask)] = True\n",
    "\n",
    "\n",
    "sns.heatmap(data = corr,\n",
    "           annot = True,\n",
    "           vmin = -1,\n",
    "           vmax = 1,\n",
    "           mask = mask,\n",
    "           cmap = 'pink');\n",
    "plt.title(\"Correlation Heatmap\", fontsize=20)\n",
    "plt.savefig(\"correlation matrix\")\n",
    "plt.tight_layout()"
   ]
  },
  {
   "cell_type": "markdown",
   "id": "faf44686",
   "metadata": {},
   "source": [
    "Assessing correlations among the variables included in the model, was key to ensure that the assumption of \"low or no multicollinearity\" in a multiple linear regression was met. From the above heatmap, correlations among variables was generally low to moderate. The highest correlation observed between X features was 0.64, between the variables \"full bath\" and \"Gr Liv Area\". This is, however, acceptable, and the variables can be retained in the model. "
   ]
  },
  {
   "cell_type": "code",
   "execution_count": 81,
   "id": "412f4bb3",
   "metadata": {},
   "outputs": [],
   "source": [
    "#Applying train test split to model:\n",
    "X_train, X_test, y_train, y_test = train_test_split (X, y, random_state = 42)"
   ]
  },
  {
   "cell_type": "code",
   "execution_count": 82,
   "id": "aab2bcf3",
   "metadata": {},
   "outputs": [],
   "source": [
    "#initiating linear regression\n",
    "lr= LinearRegression()"
   ]
  },
  {
   "cell_type": "code",
   "execution_count": 83,
   "id": "71e6dcd2",
   "metadata": {},
   "outputs": [
    {
     "data": {
      "text/plain": [
       "LinearRegression()"
      ]
     },
     "execution_count": 83,
     "metadata": {},
     "output_type": "execute_result"
    }
   ],
   "source": [
    "#fitting the model\n",
    "lr.fit(X_train,y_train)"
   ]
  },
  {
   "cell_type": "code",
   "execution_count": 84,
   "id": "459d426f",
   "metadata": {},
   "outputs": [
    {
     "data": {
      "text/plain": [
       "(0.8144418828444824, 0.7941339863895593)"
      ]
     },
     "execution_count": 84,
     "metadata": {},
     "output_type": "execute_result"
    }
   ],
   "source": [
    "#evaluating model\n",
    "lr.score(X_train, y_train),lr.score(X_test, y_test)"
   ]
  },
  {
   "cell_type": "markdown",
   "id": "1291f9c3",
   "metadata": {},
   "source": [
    "The R2 scores above show that the model specified is a low bias and low variance model. Low bias, because R2 scores in both the train and test sets are quite high. And low variance, because the R2 scores for both sets are close in value. "
   ]
  },
  {
   "cell_type": "code",
   "execution_count": 85,
   "id": "16a30446",
   "metadata": {},
   "outputs": [],
   "source": [
    "#predicting values for y:\n",
    "y_preds= lr.predict(X_test)"
   ]
  },
  {
   "cell_type": "code",
   "execution_count": 86,
   "id": "97062c15",
   "metadata": {},
   "outputs": [],
   "source": [
    "#computing magnitude of residuals:\n",
    "resids= y_test-y_preds"
   ]
  },
  {
   "cell_type": "code",
   "execution_count": 87,
   "id": "aa56ed36",
   "metadata": {},
   "outputs": [
    {
     "data": {
      "image/png": "[encoded data removed]",
      "text/plain": [
       "<Figure size 720x504 with 1 Axes>"
      ]
     },
     "metadata": {
      "needs_background": "light"
     },
     "output_type": "display_data"
    }
   ],
   "source": [
    "plt.figure(figsize=(10,7))\n",
    "resids.hist(bins=50);\n",
    "plt.title(\"Histogram Plot of Residuals\", fontsize=18)\n",
    "plt.savefig(\"Histogram Plot of Residuals\")"
   ]
  },
  {
   "cell_type": "markdown",
   "id": "4f59eb73",
   "metadata": {},
   "source": [
    "From the above plot, we can see that the residuals follow a normal distribution. Thus, the OLS assumption of normality of residuals distribution has been met."
   ]
  },
  {
   "cell_type": "code",
   "execution_count": 88,
   "id": "d2abe6b0",
   "metadata": {},
   "outputs": [
    {
     "data": {
      "image/png": "[encoded data removed]",
      "text/plain": [
       "<Figure size 720x504 with 1 Axes>"
      ]
     },
     "metadata": {
      "needs_background": "light"
     },
     "output_type": "display_data"
    }
   ],
   "source": [
    "plt.figure(figsize=(10,7))\n",
    "plt.scatter(y_preds, resids, s=10,marker = 10 )\n",
    "plt.axhline(0, color=\"orange\");\n",
    "plt.title(\"Scatter Plot of Residuals\", fontsize=18)\n",
    "plt.savefig(\"Scatter plot of residuals\")"
   ]
  },
  {
   "cell_type": "markdown",
   "id": "47995459",
   "metadata": {},
   "source": [
    "From the above plot, we can see that the OLS assumption of \"equality of variance\" was met."
   ]
  },
  {
   "cell_type": "code",
   "execution_count": 89,
   "id": "1dcb4598",
   "metadata": {},
   "outputs": [
    {
     "name": "stderr",
     "output_type": "stream",
     "text": [
      "/Users/nnenna/opt/anaconda3/lib/python3.8/site-packages/seaborn/_decorators.py:36: FutureWarning: Pass the following variables as keyword args: x, y. From version 0.12, the only valid positional argument will be `data`, and passing other arguments without an explicit keyword will result in an error or misinterpretation.\n",
      "  warnings.warn(\n"
     ]
    },
    {
     "data": {
      "image/png": "[encoded data removed]",
      "text/plain": [
       "<Figure size 864x576 with 1 Axes>"
      ]
     },
     "metadata": {
      "needs_background": "light"
     },
     "output_type": "display_data"
    }
   ],
   "source": [
    "plt.figure(figsize=(12,8))\n",
    "sns.regplot(y_test, y_preds, ci=None, \n",
    "            scatter_kws = {'s': 10}, \n",
    "            line_kws = {'color': 'red'})\n",
    "plt.xlabel(\"Price\", fontsize=16)\n",
    "plt.ylabel(\"Predicted Price\", fontsize=16)\n",
    "plt.title(\"Regression Plot Showing the Relationship between Price and Predicted Price\", fontsize=16)\n",
    "plt.savefig(\"Regression plot of predicated values\");"
   ]
  },
  {
   "cell_type": "markdown",
   "id": "ee59fb8d",
   "metadata": {},
   "source": [
    "From the above plot, we can see that the predictive power of the model is quite strong, especially at low to moderate sale price points. However, at relatively higher price points, the predictive power can be seen to weaken."
   ]
  },
  {
   "cell_type": "code",
   "execution_count": 90,
   "id": "5264859c",
   "metadata": {},
   "outputs": [],
   "source": [
    "#defining function to compute metrices to evaluate model performance:\n",
    "def reg_metrics(y,y_preds):\n",
    "    return {\"MAE\": round(metrics.mean_absolute_error(y, y_preds),2), \n",
    "            \"SSE\": round(np.sum((y-y_preds)**2),2),\n",
    "            \"MSE\": round(metrics.mean_squared_error(y,y_preds),2),\n",
    "            \"RMSE\":round((metrics.mean_squared_error(y,y_preds))**0.5,2),\n",
    "            \"R2\": round(metrics.r2_score (y, y_preds),2)}"
   ]
  },
  {
   "cell_type": "code",
   "execution_count": 91,
   "id": "07726a25",
   "metadata": {},
   "outputs": [
    {
     "data": {
      "text/plain": [
       "{'MAE': 25947.47,\n",
       " 'SSE': 676673943875.3,\n",
       " 'MSE': 1332035322.59,\n",
       " 'RMSE': 36497.06,\n",
       " 'R2': 0.79}"
      ]
     },
     "execution_count": 91,
     "metadata": {},
     "output_type": "execute_result"
    }
   ],
   "source": [
    "reg_metrics(y_test,y_preds)"
   ]
  },
  {
   "cell_type": "markdown",
   "id": "2f1c5ab0",
   "metadata": {},
   "source": [
    "Although the R2 scores for the model are quite good, the metrices regarding the sum of squared errors did not fare as well. In particular, the Root Mean Squared Error (RMSE) was quite high, indicating that the predictive power of the model is generally not very strong. However, because the objective of the analysis is inference, the good r2 scores are sufficient to proceed."
   ]
  },
  {
   "cell_type": "code",
   "execution_count": 92,
   "id": "7002e724",
   "metadata": {},
   "outputs": [
    {
     "data": {
      "text/plain": [
       "array([ 2.40107740e+00,  9.48529032e+01, -6.15773869e+03, -1.85230807e+04,\n",
       "        3.83372067e+03, -7.29376503e+03,  4.60340828e+03, -4.10732926e+03,\n",
       "       -1.01713661e+03, -4.45772894e+03, -3.50777240e+02, -7.63517657e+03,\n",
       "       -2.55822861e+04, -5.83049495e+03, -1.73985636e+04, -6.18358725e+03,\n",
       "        5.66964409e+03,  2.19888512e+03])"
      ]
     },
     "execution_count": 92,
     "metadata": {},
     "output_type": "execute_result"
    }
   ],
   "source": [
    "#Obtaining values for the model coefficients:\n",
    "lr.coef_"
   ]
  },
  {
   "cell_type": "code",
   "execution_count": 93,
   "id": "ba122e9a",
   "metadata": {},
   "outputs": [
    {
     "data": {
      "text/html": [
       "<div>\n",
       "<style scoped>\n",
       "    .dataframe tbody tr th:only-of-type {\n",
       "        vertical-align: middle;\n",
       "    }\n",
       "\n",
       "    .dataframe tbody tr th {\n",
       "        vertical-align: top;\n",
       "    }\n",
       "\n",
       "    .dataframe thead th {\n",
       "        text-align: right;\n",
       "    }\n",
       "</style>\n",
       "<table border=\"1\" class=\"dataframe\">\n",
       "  <thead>\n",
       "    <tr style=\"text-align: right;\">\n",
       "      <th></th>\n",
       "      <th>0</th>\n",
       "      <th>0</th>\n",
       "    </tr>\n",
       "  </thead>\n",
       "  <tbody>\n",
       "    <tr>\n",
       "      <th>0</th>\n",
       "      <td>Lot Area</td>\n",
       "      <td>2.401077</td>\n",
       "    </tr>\n",
       "    <tr>\n",
       "      <th>1</th>\n",
       "      <td>Gr Liv Area</td>\n",
       "      <td>94.852903</td>\n",
       "    </tr>\n",
       "    <tr>\n",
       "      <th>2</th>\n",
       "      <td>Full Bath</td>\n",
       "      <td>-6157.738694</td>\n",
       "    </tr>\n",
       "    <tr>\n",
       "      <th>3</th>\n",
       "      <td>Bedroom AbvGr</td>\n",
       "      <td>-18523.080700</td>\n",
       "    </tr>\n",
       "    <tr>\n",
       "      <th>4</th>\n",
       "      <td>Lot Shape</td>\n",
       "      <td>3833.720665</td>\n",
       "    </tr>\n",
       "    <tr>\n",
       "      <th>5</th>\n",
       "      <td>Land Contour</td>\n",
       "      <td>-7293.765027</td>\n",
       "    </tr>\n",
       "    <tr>\n",
       "      <th>6</th>\n",
       "      <td>Fireplaces</td>\n",
       "      <td>4603.408276</td>\n",
       "    </tr>\n",
       "    <tr>\n",
       "      <th>7</th>\n",
       "      <td>Paved Drive</td>\n",
       "      <td>-4107.329263</td>\n",
       "    </tr>\n",
       "    <tr>\n",
       "      <th>8</th>\n",
       "      <td>property_age</td>\n",
       "      <td>-1017.136612</td>\n",
       "    </tr>\n",
       "    <tr>\n",
       "      <th>9</th>\n",
       "      <td>Garage</td>\n",
       "      <td>-4457.728944</td>\n",
       "    </tr>\n",
       "    <tr>\n",
       "      <th>10</th>\n",
       "      <td>Bldg Type_2fmCon</td>\n",
       "      <td>-350.777240</td>\n",
       "    </tr>\n",
       "    <tr>\n",
       "      <th>11</th>\n",
       "      <td>Bldg Type_Duplex</td>\n",
       "      <td>-7635.176573</td>\n",
       "    </tr>\n",
       "    <tr>\n",
       "      <th>12</th>\n",
       "      <td>Bldg Type_Twnhs</td>\n",
       "      <td>-25582.286087</td>\n",
       "    </tr>\n",
       "    <tr>\n",
       "      <th>13</th>\n",
       "      <td>Bldg Type_TwnhsE</td>\n",
       "      <td>-5830.494953</td>\n",
       "    </tr>\n",
       "    <tr>\n",
       "      <th>14</th>\n",
       "      <td>near_railroad</td>\n",
       "      <td>-17398.563628</td>\n",
       "    </tr>\n",
       "    <tr>\n",
       "      <th>15</th>\n",
       "      <td>near_major_str</td>\n",
       "      <td>-6183.587255</td>\n",
       "    </tr>\n",
       "    <tr>\n",
       "      <th>16</th>\n",
       "      <td>near_pos_feature</td>\n",
       "      <td>5669.644092</td>\n",
       "    </tr>\n",
       "    <tr>\n",
       "      <th>17</th>\n",
       "      <td>overall_qual_and_cond</td>\n",
       "      <td>2198.885116</td>\n",
       "    </tr>\n",
       "  </tbody>\n",
       "</table>\n",
       "</div>"
      ],
      "text/plain": [
       "                        0             0\n",
       "0                Lot Area      2.401077\n",
       "1             Gr Liv Area     94.852903\n",
       "2               Full Bath  -6157.738694\n",
       "3           Bedroom AbvGr -18523.080700\n",
       "4               Lot Shape   3833.720665\n",
       "5            Land Contour  -7293.765027\n",
       "6              Fireplaces   4603.408276\n",
       "7             Paved Drive  -4107.329263\n",
       "8            property_age  -1017.136612\n",
       "9                  Garage  -4457.728944\n",
       "10       Bldg Type_2fmCon   -350.777240\n",
       "11       Bldg Type_Duplex  -7635.176573\n",
       "12        Bldg Type_Twnhs -25582.286087\n",
       "13       Bldg Type_TwnhsE  -5830.494953\n",
       "14          near_railroad -17398.563628\n",
       "15         near_major_str  -6183.587255\n",
       "16       near_pos_feature   5669.644092\n",
       "17  overall_qual_and_cond   2198.885116"
      ]
     },
     "execution_count": 93,
     "metadata": {},
     "output_type": "execute_result"
    }
   ],
   "source": [
    "#Creating list of Coefficients, with corresponding column name:\n",
    "coefficients = pd.concat([pd.DataFrame(X.columns),pd.DataFrame(np.transpose(lr.coef_))], axis = 1)\n",
    "coefficients\n",
    "#Credit: https://stackoverflow.com/questions/26951880/scikit-learn-linear-regression-how-to-get-coefficients-respective-features"
   ]
  },
  {
   "cell_type": "code",
   "execution_count": 94,
   "id": "92756700",
   "metadata": {},
   "outputs": [],
   "source": [
    "#Saving coefficients list to excel file:\n",
    "coefficients.to_excel(\"datasets/coefficient.xlsx\")"
   ]
  },
  {
   "cell_type": "markdown",
   "id": "3c34a2b3",
   "metadata": {},
   "source": [
    "## Regularized Models"
   ]
  },
  {
   "cell_type": "markdown",
   "id": "358a599d",
   "metadata": {},
   "source": [
    "Regularized models are employed to help tackle the issue of high variance in models. This was not the case in this analysis as the OLS model specified above was low variance. However, as per the requirements of this project, I specified Ridge and Lasso regression models as follows:"
   ]
  },
  {
   "cell_type": "markdown",
   "id": "b6ef7747",
   "metadata": {},
   "source": [
    "### Ridge Regression"
   ]
  },
  {
   "cell_type": "code",
   "execution_count": 95,
   "id": "633e0325",
   "metadata": {},
   "outputs": [],
   "source": [
    "from sklearn.linear_model import Ridge, RidgeCV"
   ]
  },
  {
   "cell_type": "code",
   "execution_count": 96,
   "id": "f6300d24",
   "metadata": {},
   "outputs": [],
   "source": [
    "#scaling data\n",
    "ss = StandardScaler ()\n",
    "\n",
    "Z_train = ss.fit_transform (X_train)\n",
    "Z_test = ss.transform(X_test)\n"
   ]
  },
  {
   "cell_type": "code",
   "execution_count": 97,
   "id": "f8103120",
   "metadata": {},
   "outputs": [
    {
     "data": {
      "text/plain": [
       "RidgeCV(alphas=array([1.00000000e+00, 1.12332403e+00, 1.26185688e+00, 1.41747416e+00,\n",
       "       1.59228279e+00, 1.78864953e+00, 2.00923300e+00, 2.25701972e+00,\n",
       "       2.53536449e+00, 2.84803587e+00, 3.19926714e+00, 3.59381366e+00,\n",
       "       4.03701726e+00, 4.53487851e+00, 5.09413801e+00, 5.72236766e+00,\n",
       "       6.42807312e+00, 7.22080902e+00, 8.11130831e+00, 9.11162756e+00,\n",
       "       1.02353102e+01, 1.14975700e+0...\n",
       "       6.89261210e+03, 7.74263683e+03, 8.69749003e+03, 9.77009957e+03,\n",
       "       1.09749877e+04, 1.23284674e+04, 1.38488637e+04, 1.55567614e+04,\n",
       "       1.74752840e+04, 1.96304065e+04, 2.20513074e+04, 2.47707636e+04,\n",
       "       2.78255940e+04, 3.12571585e+04, 3.51119173e+04, 3.94420606e+04,\n",
       "       4.43062146e+04, 4.97702356e+04, 5.59081018e+04, 6.28029144e+04,\n",
       "       7.05480231e+04, 7.92482898e+04, 8.90215085e+04, 1.00000000e+05]),\n",
       "        cv=5, scoring='r2')"
      ]
     },
     "execution_count": 97,
     "metadata": {},
     "output_type": "execute_result"
    }
   ],
   "source": [
    "# Setting up a list of ridge alphas to check:\n",
    "r_alphas = np.logspace(0,5,100)\n",
    "\n",
    "# Cross-validating over list of ridge alphas:\n",
    "ridge_cv = RidgeCV(alphas=r_alphas, scoring='r2', cv=5)\n",
    "\n",
    "# Fitting model using best ridge alpha:\n",
    "ridge_cv.fit(Z_train, y_train)"
   ]
  },
  {
   "cell_type": "code",
   "execution_count": 98,
   "id": "071b6e32",
   "metadata": {},
   "outputs": [
    {
     "data": {
      "text/plain": [
       "6.42807311728432"
      ]
     },
     "execution_count": 98,
     "metadata": {},
     "output_type": "execute_result"
    }
   ],
   "source": [
    "#Printing optimized alpha:\n",
    "ridge_cv.alpha_"
   ]
  },
  {
   "cell_type": "code",
   "execution_count": 99,
   "id": "86010820",
   "metadata": {},
   "outputs": [
    {
     "data": {
      "text/plain": [
       "(0.8144129704565586, 0.7945706269574592)"
      ]
     },
     "execution_count": 99,
     "metadata": {},
     "output_type": "execute_result"
    }
   ],
   "source": [
    "#evaluating model using R2 scores:\n",
    "ridge_cv.score(Z_train, y_train), ridge_cv.score(Z_test, y_test) "
   ]
  },
  {
   "cell_type": "markdown",
   "id": "dd6ccb5a",
   "metadata": {},
   "source": [
    "R2 scores for both the training and test sets remained the same as with the OLS model."
   ]
  },
  {
   "cell_type": "code",
   "execution_count": 100,
   "id": "c40bfde2",
   "metadata": {},
   "outputs": [],
   "source": [
    "#generating predictions for the y variable:\n",
    "y_preds_ridge = ridge_cv.predict(Z_test)"
   ]
  },
  {
   "cell_type": "code",
   "execution_count": 101,
   "id": "84497595",
   "metadata": {},
   "outputs": [],
   "source": [
    "#computing magnitude of residuals:\n",
    "ridge_resids = y_test - y_preds_ridge"
   ]
  },
  {
   "cell_type": "code",
   "execution_count": 102,
   "id": "4d16eae2",
   "metadata": {},
   "outputs": [
    {
     "data": {
      "text/plain": [
       "array([  9597.86833221,  44823.91304943,  -2986.44409621, -15126.45739541,\n",
       "         1777.33515898,  -2113.42903618,   2449.26959377,  -1115.4746087 ,\n",
       "       -30832.48113644,   -993.18717637,    -92.7570256 ,  -1458.51473407,\n",
       "        -4714.2437595 ,  -1489.40890928,  -3069.32336295,  -1724.24937368,\n",
       "          762.98893529,  20340.61306082])"
      ]
     },
     "execution_count": 102,
     "metadata": {},
     "output_type": "execute_result"
    }
   ],
   "source": [
    "#printing ridge model coefficients:\n",
    "ridge_cv.coef_"
   ]
  },
  {
   "cell_type": "code",
   "execution_count": 103,
   "id": "b4499a2f",
   "metadata": {},
   "outputs": [
    {
     "data": {
      "text/html": [
       "<div>\n",
       "<style scoped>\n",
       "    .dataframe tbody tr th:only-of-type {\n",
       "        vertical-align: middle;\n",
       "    }\n",
       "\n",
       "    .dataframe tbody tr th {\n",
       "        vertical-align: top;\n",
       "    }\n",
       "\n",
       "    .dataframe thead th {\n",
       "        text-align: right;\n",
       "    }\n",
       "</style>\n",
       "<table border=\"1\" class=\"dataframe\">\n",
       "  <thead>\n",
       "    <tr style=\"text-align: right;\">\n",
       "      <th></th>\n",
       "      <th>0</th>\n",
       "      <th>0</th>\n",
       "    </tr>\n",
       "  </thead>\n",
       "  <tbody>\n",
       "    <tr>\n",
       "      <th>0</th>\n",
       "      <td>Lot Area</td>\n",
       "      <td>9597.868332</td>\n",
       "    </tr>\n",
       "    <tr>\n",
       "      <th>1</th>\n",
       "      <td>Gr Liv Area</td>\n",
       "      <td>44823.913049</td>\n",
       "    </tr>\n",
       "    <tr>\n",
       "      <th>2</th>\n",
       "      <td>Full Bath</td>\n",
       "      <td>-2986.444096</td>\n",
       "    </tr>\n",
       "    <tr>\n",
       "      <th>3</th>\n",
       "      <td>Bedroom AbvGr</td>\n",
       "      <td>-15126.457395</td>\n",
       "    </tr>\n",
       "    <tr>\n",
       "      <th>4</th>\n",
       "      <td>Lot Shape</td>\n",
       "      <td>1777.335159</td>\n",
       "    </tr>\n",
       "    <tr>\n",
       "      <th>5</th>\n",
       "      <td>Land Contour</td>\n",
       "      <td>-2113.429036</td>\n",
       "    </tr>\n",
       "    <tr>\n",
       "      <th>6</th>\n",
       "      <td>Fireplaces</td>\n",
       "      <td>2449.269594</td>\n",
       "    </tr>\n",
       "    <tr>\n",
       "      <th>7</th>\n",
       "      <td>Paved Drive</td>\n",
       "      <td>-1115.474609</td>\n",
       "    </tr>\n",
       "    <tr>\n",
       "      <th>8</th>\n",
       "      <td>property_age</td>\n",
       "      <td>-30832.481136</td>\n",
       "    </tr>\n",
       "    <tr>\n",
       "      <th>9</th>\n",
       "      <td>Garage</td>\n",
       "      <td>-993.187176</td>\n",
       "    </tr>\n",
       "    <tr>\n",
       "      <th>10</th>\n",
       "      <td>Bldg Type_2fmCon</td>\n",
       "      <td>-92.757026</td>\n",
       "    </tr>\n",
       "    <tr>\n",
       "      <th>11</th>\n",
       "      <td>Bldg Type_Duplex</td>\n",
       "      <td>-1458.514734</td>\n",
       "    </tr>\n",
       "    <tr>\n",
       "      <th>12</th>\n",
       "      <td>Bldg Type_Twnhs</td>\n",
       "      <td>-4714.243760</td>\n",
       "    </tr>\n",
       "    <tr>\n",
       "      <th>13</th>\n",
       "      <td>Bldg Type_TwnhsE</td>\n",
       "      <td>-1489.408909</td>\n",
       "    </tr>\n",
       "    <tr>\n",
       "      <th>14</th>\n",
       "      <td>near_railroad</td>\n",
       "      <td>-3069.323363</td>\n",
       "    </tr>\n",
       "    <tr>\n",
       "      <th>15</th>\n",
       "      <td>near_major_str</td>\n",
       "      <td>-1724.249374</td>\n",
       "    </tr>\n",
       "    <tr>\n",
       "      <th>16</th>\n",
       "      <td>near_pos_feature</td>\n",
       "      <td>762.988935</td>\n",
       "    </tr>\n",
       "    <tr>\n",
       "      <th>17</th>\n",
       "      <td>overall_qual_and_cond</td>\n",
       "      <td>20340.613061</td>\n",
       "    </tr>\n",
       "  </tbody>\n",
       "</table>\n",
       "</div>"
      ],
      "text/plain": [
       "                        0             0\n",
       "0                Lot Area   9597.868332\n",
       "1             Gr Liv Area  44823.913049\n",
       "2               Full Bath  -2986.444096\n",
       "3           Bedroom AbvGr -15126.457395\n",
       "4               Lot Shape   1777.335159\n",
       "5            Land Contour  -2113.429036\n",
       "6              Fireplaces   2449.269594\n",
       "7             Paved Drive  -1115.474609\n",
       "8            property_age -30832.481136\n",
       "9                  Garage   -993.187176\n",
       "10       Bldg Type_2fmCon    -92.757026\n",
       "11       Bldg Type_Duplex  -1458.514734\n",
       "12        Bldg Type_Twnhs  -4714.243760\n",
       "13       Bldg Type_TwnhsE  -1489.408909\n",
       "14          near_railroad  -3069.323363\n",
       "15         near_major_str  -1724.249374\n",
       "16       near_pos_feature    762.988935\n",
       "17  overall_qual_and_cond  20340.613061"
      ]
     },
     "execution_count": 103,
     "metadata": {},
     "output_type": "execute_result"
    }
   ],
   "source": [
    "#generating list of coeefficients with corresponding column names:\n",
    "coefficients_ridge = pd.concat([pd.DataFrame(X.columns),pd.DataFrame(np.transpose(ridge_cv.coef_))], axis = 1)\n",
    "coefficients_ridge"
   ]
  },
  {
   "cell_type": "code",
   "execution_count": 104,
   "id": "edeca2a1",
   "metadata": {},
   "outputs": [
    {
     "data": {
      "text/plain": [
       "{'MAE': 25874.73,\n",
       " 'SSE': 675238722539.08,\n",
       " 'MSE': 1329210083.74,\n",
       " 'RMSE': 36458.33,\n",
       " 'R2': 0.79}"
      ]
     },
     "execution_count": 104,
     "metadata": {},
     "output_type": "execute_result"
    }
   ],
   "source": [
    "reg_metrics(y_test,y_preds_ridge)"
   ]
  },
  {
   "cell_type": "markdown",
   "id": "58dcd8a9",
   "metadata": {},
   "source": [
    "Model evaluation metrics for the ridge model were similar to that of the OLS model."
   ]
  },
  {
   "cell_type": "markdown",
   "id": "a06ff556",
   "metadata": {},
   "source": [
    "### Lasso Regression"
   ]
  },
  {
   "cell_type": "code",
   "execution_count": 105,
   "id": "2bed92e7",
   "metadata": {},
   "outputs": [],
   "source": [
    "from sklearn.linear_model import Lasso, LassoCV"
   ]
  },
  {
   "cell_type": "code",
   "execution_count": 106,
   "id": "756037a0",
   "metadata": {},
   "outputs": [],
   "source": [
    "# Setting up a list of Lasso alphas to check:\n",
    "l_alphas = np.logspace(-3, 0, 100)\n",
    "\n",
    "# Cross-validating over list of Lasso alphas:\n",
    "lasso_cv = LassoCV(alphas = l_alphas, cv=5, max_iter = 50000 )\n",
    "\n",
    "# Fitting model using best ridge alpha:\n",
    "lasso_cv.fit(Z_train, y_train);\n"
   ]
  },
  {
   "cell_type": "code",
   "execution_count": 107,
   "id": "44b5bdef",
   "metadata": {},
   "outputs": [
    {
     "data": {
      "text/plain": [
       "1.0"
      ]
     },
     "execution_count": 107,
     "metadata": {},
     "output_type": "execute_result"
    }
   ],
   "source": [
    "#printing \"best\" lasso alpha:\n",
    "lasso_cv.alpha_"
   ]
  },
  {
   "cell_type": "code",
   "execution_count": 108,
   "id": "f4cc285a",
   "metadata": {},
   "outputs": [
    {
     "data": {
      "text/plain": [
       "(0.8144418780818035, 0.7941335833690469)"
      ]
     },
     "execution_count": 108,
     "metadata": {},
     "output_type": "execute_result"
    }
   ],
   "source": [
    "#evaluating lasso model with r2 scores:\n",
    "lasso_cv.score(Z_train, y_train), lasso_cv.score(Z_test, y_test)"
   ]
  },
  {
   "cell_type": "markdown",
   "id": "b09c796a",
   "metadata": {},
   "source": [
    "R2 scores in both the train and test sets in the LassoCV model were the same as those generated for the OLS and ridge models."
   ]
  },
  {
   "cell_type": "code",
   "execution_count": 109,
   "id": "7f4b6172",
   "metadata": {},
   "outputs": [],
   "source": [
    "#predicting y variable:\n",
    "y_preds_lasso = lasso_cv.predict(Z_test)"
   ]
  },
  {
   "cell_type": "code",
   "execution_count": 110,
   "id": "29622528",
   "metadata": {},
   "outputs": [],
   "source": [
    "#computing magnitude of residuals:\n",
    "lasso_resids = y_test - y_preds_lasso"
   ]
  },
  {
   "cell_type": "code",
   "execution_count": 111,
   "id": "42c2ba76",
   "metadata": {},
   "outputs": [
    {
     "data": {
      "text/plain": [
       "{'MAE': 25947.11,\n",
       " 'SSE': 676675268588.76,\n",
       " 'MSE': 1332037930.29,\n",
       " 'RMSE': 36497.09,\n",
       " 'R2': 0.79}"
      ]
     },
     "execution_count": 111,
     "metadata": {},
     "output_type": "execute_result"
    }
   ],
   "source": [
    "#evaluating model:\n",
    "reg_metrics(y_test,y_preds_lasso)"
   ]
  },
  {
   "cell_type": "markdown",
   "id": "18853c48",
   "metadata": {},
   "source": [
    "Metrics were the same as in the OLS and ridge models:"
   ]
  },
  {
   "cell_type": "code",
   "execution_count": 112,
   "id": "7908b17d",
   "metadata": {},
   "outputs": [
    {
     "data": {
      "text/plain": [
       "array([  9532.10346198,  45423.86665195,  -3346.26631288, -15403.44461824,\n",
       "         1833.20917783,  -2105.71038476,   2301.21254072,  -1203.33529713,\n",
       "       -31117.02230297,  -1026.90635729,    -54.4675264 ,  -1410.98724838,\n",
       "        -4769.82178962,  -1574.25931744,  -3068.35454812,  -1708.08675081,\n",
       "          773.72604953,  20353.07178651])"
      ]
     },
     "execution_count": 112,
     "metadata": {},
     "output_type": "execute_result"
    }
   ],
   "source": [
    "#printing model coefficients:\n",
    "lasso_cv.coef_"
   ]
  },
  {
   "cell_type": "code",
   "execution_count": 113,
   "id": "983de8eb",
   "metadata": {},
   "outputs": [],
   "source": [
    "#creating list of model coefficients with corresponding column names:\n",
    "coefficients_lasso = pd.concat([pd.DataFrame(X.columns),pd.DataFrame(np.transpose(lasso_cv.coef_))], axis = 1)"
   ]
  },
  {
   "cell_type": "markdown",
   "id": "bad804d1",
   "metadata": {},
   "source": [
    "## Interpretation of Regression Results"
   ]
  },
  {
   "cell_type": "code",
   "execution_count": 114,
   "id": "1f814729",
   "metadata": {},
   "outputs": [
    {
     "data": {
      "text/html": [
       "<div>\n",
       "<style scoped>\n",
       "    .dataframe tbody tr th:only-of-type {\n",
       "        vertical-align: middle;\n",
       "    }\n",
       "\n",
       "    .dataframe tbody tr th {\n",
       "        vertical-align: top;\n",
       "    }\n",
       "\n",
       "    .dataframe thead th {\n",
       "        text-align: right;\n",
       "    }\n",
       "</style>\n",
       "<table border=\"1\" class=\"dataframe\">\n",
       "  <thead>\n",
       "    <tr style=\"text-align: right;\">\n",
       "      <th></th>\n",
       "      <th>feature</th>\n",
       "      <th>OLS_coef</th>\n",
       "      <th>ridge_coef</th>\n",
       "      <th>lasso_coef</th>\n",
       "    </tr>\n",
       "  </thead>\n",
       "  <tbody>\n",
       "    <tr>\n",
       "      <th>0</th>\n",
       "      <td>Lot Area</td>\n",
       "      <td>2.401077</td>\n",
       "      <td>9597.868332</td>\n",
       "      <td>9532.103462</td>\n",
       "    </tr>\n",
       "    <tr>\n",
       "      <th>1</th>\n",
       "      <td>Gr Liv Area</td>\n",
       "      <td>94.852903</td>\n",
       "      <td>44823.913049</td>\n",
       "      <td>45423.866652</td>\n",
       "    </tr>\n",
       "    <tr>\n",
       "      <th>2</th>\n",
       "      <td>Full Bath</td>\n",
       "      <td>-6157.738694</td>\n",
       "      <td>-2986.444096</td>\n",
       "      <td>-3346.266313</td>\n",
       "    </tr>\n",
       "    <tr>\n",
       "      <th>3</th>\n",
       "      <td>Bedroom AbvGr</td>\n",
       "      <td>-18523.080700</td>\n",
       "      <td>-15126.457395</td>\n",
       "      <td>-15403.444618</td>\n",
       "    </tr>\n",
       "    <tr>\n",
       "      <th>4</th>\n",
       "      <td>Lot Shape</td>\n",
       "      <td>3833.720665</td>\n",
       "      <td>1777.335159</td>\n",
       "      <td>1833.209178</td>\n",
       "    </tr>\n",
       "    <tr>\n",
       "      <th>5</th>\n",
       "      <td>Land Contour</td>\n",
       "      <td>-7293.765027</td>\n",
       "      <td>-2113.429036</td>\n",
       "      <td>-2105.710385</td>\n",
       "    </tr>\n",
       "    <tr>\n",
       "      <th>6</th>\n",
       "      <td>Fireplaces</td>\n",
       "      <td>4603.408276</td>\n",
       "      <td>2449.269594</td>\n",
       "      <td>2301.212541</td>\n",
       "    </tr>\n",
       "    <tr>\n",
       "      <th>7</th>\n",
       "      <td>Paved Drive</td>\n",
       "      <td>-4107.329263</td>\n",
       "      <td>-1115.474609</td>\n",
       "      <td>-1203.335297</td>\n",
       "    </tr>\n",
       "    <tr>\n",
       "      <th>8</th>\n",
       "      <td>property_age</td>\n",
       "      <td>-1017.136612</td>\n",
       "      <td>-30832.481136</td>\n",
       "      <td>-31117.022303</td>\n",
       "    </tr>\n",
       "    <tr>\n",
       "      <th>9</th>\n",
       "      <td>Garage</td>\n",
       "      <td>-4457.728944</td>\n",
       "      <td>-993.187176</td>\n",
       "      <td>-1026.906357</td>\n",
       "    </tr>\n",
       "    <tr>\n",
       "      <th>10</th>\n",
       "      <td>Bldg Type_2fmCon</td>\n",
       "      <td>-350.777240</td>\n",
       "      <td>-92.757026</td>\n",
       "      <td>-54.467526</td>\n",
       "    </tr>\n",
       "    <tr>\n",
       "      <th>11</th>\n",
       "      <td>Bldg Type_Duplex</td>\n",
       "      <td>-7635.176573</td>\n",
       "      <td>-1458.514734</td>\n",
       "      <td>-1410.987248</td>\n",
       "    </tr>\n",
       "    <tr>\n",
       "      <th>12</th>\n",
       "      <td>Bldg Type_Twnhs</td>\n",
       "      <td>-25582.286087</td>\n",
       "      <td>-4714.243760</td>\n",
       "      <td>-4769.821790</td>\n",
       "    </tr>\n",
       "    <tr>\n",
       "      <th>13</th>\n",
       "      <td>Bldg Type_TwnhsE</td>\n",
       "      <td>-5830.494953</td>\n",
       "      <td>-1489.408909</td>\n",
       "      <td>-1574.259317</td>\n",
       "    </tr>\n",
       "    <tr>\n",
       "      <th>14</th>\n",
       "      <td>near_railroad</td>\n",
       "      <td>-17398.563628</td>\n",
       "      <td>-3069.323363</td>\n",
       "      <td>-3068.354548</td>\n",
       "    </tr>\n",
       "    <tr>\n",
       "      <th>15</th>\n",
       "      <td>near_major_str</td>\n",
       "      <td>-6183.587255</td>\n",
       "      <td>-1724.249374</td>\n",
       "      <td>-1708.086751</td>\n",
       "    </tr>\n",
       "    <tr>\n",
       "      <th>16</th>\n",
       "      <td>near_pos_feature</td>\n",
       "      <td>5669.644092</td>\n",
       "      <td>762.988935</td>\n",
       "      <td>773.726050</td>\n",
       "    </tr>\n",
       "    <tr>\n",
       "      <th>17</th>\n",
       "      <td>overall_qual_and_cond</td>\n",
       "      <td>2198.885116</td>\n",
       "      <td>20340.613061</td>\n",
       "      <td>20353.071787</td>\n",
       "    </tr>\n",
       "  </tbody>\n",
       "</table>\n",
       "</div>"
      ],
      "text/plain": [
       "                  feature      OLS_coef    ridge_coef    lasso_coef\n",
       "0                Lot Area      2.401077   9597.868332   9532.103462\n",
       "1             Gr Liv Area     94.852903  44823.913049  45423.866652\n",
       "2               Full Bath  -6157.738694  -2986.444096  -3346.266313\n",
       "3           Bedroom AbvGr -18523.080700 -15126.457395 -15403.444618\n",
       "4               Lot Shape   3833.720665   1777.335159   1833.209178\n",
       "5            Land Contour  -7293.765027  -2113.429036  -2105.710385\n",
       "6              Fireplaces   4603.408276   2449.269594   2301.212541\n",
       "7             Paved Drive  -4107.329263  -1115.474609  -1203.335297\n",
       "8            property_age  -1017.136612 -30832.481136 -31117.022303\n",
       "9                  Garage  -4457.728944   -993.187176  -1026.906357\n",
       "10       Bldg Type_2fmCon   -350.777240    -92.757026    -54.467526\n",
       "11       Bldg Type_Duplex  -7635.176573  -1458.514734  -1410.987248\n",
       "12        Bldg Type_Twnhs -25582.286087  -4714.243760  -4769.821790\n",
       "13       Bldg Type_TwnhsE  -5830.494953  -1489.408909  -1574.259317\n",
       "14          near_railroad -17398.563628  -3069.323363  -3068.354548\n",
       "15         near_major_str  -6183.587255  -1724.249374  -1708.086751\n",
       "16       near_pos_feature   5669.644092    762.988935    773.726050\n",
       "17  overall_qual_and_cond   2198.885116  20340.613061  20353.071787"
      ]
     },
     "execution_count": 114,
     "metadata": {},
     "output_type": "execute_result"
    }
   ],
   "source": [
    "results_coef= pd.concat([coefficients, coefficients_ridge, coefficients_lasso], axis=1)\n",
    "results_coef.columns = [\"feature\", \"OLS_coef\", \"feature1\", \"ridge_coef\",\"feature2\", \"lasso_coef\"]\n",
    "results_coef.drop(columns=[\"feature1\", \"feature2\"],inplace=True)\n",
    "results_coef"
   ]
  },
  {
   "cell_type": "markdown",
   "id": "75d1b917",
   "metadata": {},
   "source": [
    "The above table presents regression results from the OLS, ridge CV and lassoCV models. Generally, results in terms of coefficient maginitude and signage, as well as evaluation metrics were uniform across all 3 models. I will be interpreting coefficient results for our primary model- the OLS model:\n",
    "\n",
    "It can be inferred from the model that, all other factors held constant:\n",
    "* a sq_ft increase in lot area, will increase the sale price of a home by USD 2.4;\n",
    "* a sq_ft increase in the general living area will increase sale price by USD 94.9;\n",
    "* A regular shaped lot, relative to an irregular shaped lot will add USD 3,833 to sale price;\n",
    "* Property constructed on a flat/near level land will be USD 7,293 cheaper than one constructed on relatively slopy land;\n",
    "* A home with at least 1 fireplace will be USD 4,603 more expensive than one that has no fireplace;\n",
    "* Having a paved driveway, it appears, decreases property value by USD 4,107;\n",
    "* A one year increase in a property's age, will decrease its value by USD 1,017;\n",
    "* Having a garage decreases property value by USD 4,457;\n",
    "* A 2-family conversion building type is USD 350.7 cheaper than a single family detached home;\n",
    "* A duplex is USD 7,635 cheaper than a single family detached family home;\n",
    "* A town house (inside unit) is USD 25,582 cheaper than a single family detached home;\n",
    "* A town house (end unit) is USD 5,380 cheaper than a single family detached home\n",
    "* A house located near a rail road is USD 17,398 cheaper than one that is not;\n",
    "* A house located near or adjacent to a feeder, and/or arterial street is USD 6,183 cheaper than 1 that is not;\n",
    "* A house located near a postive feature such as a park, or a greenbelt, is USD 5,669 more expensive than one that isn't; and\n",
    "* As the overall quality of construction materials, finishing and the general condition of the home increases along an ordinal scale (1-10), each unit increase adds USD 2,198 to the value of a home.\n",
    "\n",
    "I am unable to interprete coefficients for \"full bath\" and \"BedroomAbvGr\". The coefficients are very large and negatively signed which doesn't make sense intuitively. My processes are fully described in this notebook and I look forward to learning about any errors I made that could have caused this discrepancy."
   ]
  },
  {
   "cell_type": "markdown",
   "id": "c80441dc",
   "metadata": {},
   "source": [
    "## Conclusion\n",
    "\n",
    "This analysis was focused on assessing the key determinants of property prices in Ames City, Iowa. In doing so, the study categorized features affecting property sales price into 5 broad groups, as informed by literature on the subject (Tan, 2019). These categories were property size, location desirability, number of bedrooms and bathrooms, quality and condition of home, and variables describing \"aesthetics\" or added features. \n",
    "\n",
    "To meet the study objectives, OLS, Ridge CV and LassoCV models were specified. Overall, the model was low bias and low variance with R2 scores on the train and test datasets at 81% and 79%, respectively across all 3 models. This means that 81% and 79% of the variation in sales price can be explained by the \"X\"features in the train and test models, respectively.\n",
    "\n",
    "The aim of the exercise was to obtain relevant information, particularly aimed at first-time home buyers/home owners in order to help them make data driven decisions, to optimize value for money, pre and post purchase of a home. \n",
    "\n",
    "In summary, the regression results suggest that:\n",
    "\n",
    "> 1. Property size is the most important factor that influences sale price. For Ames City, the size of living area (above grade) is valued over lot size.\n",
    "> 2. The quality and condition of a home are fundamental too, and the most important indicator to look out for, is the age of a property.\n",
    "> 3. Location matters, and it appears negative features have a greater effect on sale price, than positive features do.\n",
    "> 4. A fireplace is a very important feature that affects sale price. The shape of the lot, and land contour are key as well. \n",
    "> 5. End unit town houses cost a lot more than inside unit town houses. \n",
    "> 6. For further study, analyzing features by neighbourhood will interesting to generate inferences that can be generalized for other contexts."
   ]
  },
  {
   "cell_type": "markdown",
   "id": "47f96fed",
   "metadata": {},
   "source": [
    "## Recommendations\n",
    "\n",
    "> 1. Prospective home buyers should pay close attention to understand property location variables. What is the property close to? How busy is the street?\n",
    "\n",
    "> 2. Details such as land contour, whether or not a fireplace is present, are important details to look out for.\n",
    "\n",
    "> 3. Property size matters, and in Ames, inside space is valued over outside space.\n",
    "\n",
    "> 4. Spending on a paved driveway and/or a garage may not be profitable.\n"
   ]
  },
  {
   "cell_type": "markdown",
   "id": "cd6e1f7d",
   "metadata": {},
   "source": [
    "## Kaggle Submission"
   ]
  },
  {
   "cell_type": "markdown",
   "id": "7c00376a",
   "metadata": {},
   "source": [
    "In this section, I will be using the OLS model specified above to genate predictions of sale price for test.csv."
   ]
  },
  {
   "cell_type": "code",
   "execution_count": 115,
   "id": "a7c0c40e",
   "metadata": {},
   "outputs": [
    {
     "data": {
      "text/html": [
       "<div>\n",
       "<style scoped>\n",
       "    .dataframe tbody tr th:only-of-type {\n",
       "        vertical-align: middle;\n",
       "    }\n",
       "\n",
       "    .dataframe tbody tr th {\n",
       "        vertical-align: top;\n",
       "    }\n",
       "\n",
       "    .dataframe thead th {\n",
       "        text-align: right;\n",
       "    }\n",
       "</style>\n",
       "<table border=\"1\" class=\"dataframe\">\n",
       "  <thead>\n",
       "    <tr style=\"text-align: right;\">\n",
       "      <th></th>\n",
       "      <th>Id</th>\n",
       "      <th>PID</th>\n",
       "      <th>MS SubClass</th>\n",
       "      <th>MS Zoning</th>\n",
       "      <th>Lot Frontage</th>\n",
       "      <th>Lot Area</th>\n",
       "      <th>Street</th>\n",
       "      <th>Alley</th>\n",
       "      <th>Lot Shape</th>\n",
       "      <th>Land Contour</th>\n",
       "      <th>Utilities</th>\n",
       "      <th>Lot Config</th>\n",
       "      <th>Land Slope</th>\n",
       "      <th>Neighborhood</th>\n",
       "      <th>Condition 1</th>\n",
       "      <th>Condition 2</th>\n",
       "      <th>Bldg Type</th>\n",
       "      <th>House Style</th>\n",
       "      <th>Overall Qual</th>\n",
       "      <th>Overall Cond</th>\n",
       "      <th>Year Built</th>\n",
       "      <th>Year Remod/Add</th>\n",
       "      <th>Roof Style</th>\n",
       "      <th>Roof Matl</th>\n",
       "      <th>Exterior 1st</th>\n",
       "      <th>Exterior 2nd</th>\n",
       "      <th>Mas Vnr Type</th>\n",
       "      <th>Mas Vnr Area</th>\n",
       "      <th>Exter Qual</th>\n",
       "      <th>Exter Cond</th>\n",
       "      <th>Foundation</th>\n",
       "      <th>Bsmt Qual</th>\n",
       "      <th>Bsmt Cond</th>\n",
       "      <th>Bsmt Exposure</th>\n",
       "      <th>BsmtFin Type 1</th>\n",
       "      <th>BsmtFin SF 1</th>\n",
       "      <th>BsmtFin Type 2</th>\n",
       "      <th>BsmtFin SF 2</th>\n",
       "      <th>Bsmt Unf SF</th>\n",
       "      <th>Total Bsmt SF</th>\n",
       "      <th>Heating</th>\n",
       "      <th>Heating QC</th>\n",
       "      <th>Central Air</th>\n",
       "      <th>Electrical</th>\n",
       "      <th>1st Flr SF</th>\n",
       "      <th>2nd Flr SF</th>\n",
       "      <th>Low Qual Fin SF</th>\n",
       "      <th>Gr Liv Area</th>\n",
       "      <th>Bsmt Full Bath</th>\n",
       "      <th>Bsmt Half Bath</th>\n",
       "      <th>Full Bath</th>\n",
       "      <th>Half Bath</th>\n",
       "      <th>Bedroom AbvGr</th>\n",
       "      <th>Kitchen AbvGr</th>\n",
       "      <th>Kitchen Qual</th>\n",
       "      <th>TotRms AbvGrd</th>\n",
       "      <th>Functional</th>\n",
       "      <th>Fireplaces</th>\n",
       "      <th>Fireplace Qu</th>\n",
       "      <th>Garage Type</th>\n",
       "      <th>Garage Yr Blt</th>\n",
       "      <th>Garage Finish</th>\n",
       "      <th>Garage Cars</th>\n",
       "      <th>Garage Area</th>\n",
       "      <th>Garage Qual</th>\n",
       "      <th>Garage Cond</th>\n",
       "      <th>Paved Drive</th>\n",
       "      <th>Wood Deck SF</th>\n",
       "      <th>Open Porch SF</th>\n",
       "      <th>Enclosed Porch</th>\n",
       "      <th>3Ssn Porch</th>\n",
       "      <th>Screen Porch</th>\n",
       "      <th>Pool Area</th>\n",
       "      <th>Pool QC</th>\n",
       "      <th>Fence</th>\n",
       "      <th>Misc Feature</th>\n",
       "      <th>Misc Val</th>\n",
       "      <th>Mo Sold</th>\n",
       "      <th>Yr Sold</th>\n",
       "      <th>Sale Type</th>\n",
       "    </tr>\n",
       "  </thead>\n",
       "  <tbody>\n",
       "    <tr>\n",
       "      <th>0</th>\n",
       "      <td>2658</td>\n",
       "      <td>902301120</td>\n",
       "      <td>190</td>\n",
       "      <td>RM</td>\n",
       "      <td>69.0</td>\n",
       "      <td>9142</td>\n",
       "      <td>Pave</td>\n",
       "      <td>Grvl</td>\n",
       "      <td>Reg</td>\n",
       "      <td>Lvl</td>\n",
       "      <td>AllPub</td>\n",
       "      <td>Inside</td>\n",
       "      <td>Gtl</td>\n",
       "      <td>OldTown</td>\n",
       "      <td>Norm</td>\n",
       "      <td>Norm</td>\n",
       "      <td>2fmCon</td>\n",
       "      <td>2Story</td>\n",
       "      <td>6</td>\n",
       "      <td>8</td>\n",
       "      <td>1910</td>\n",
       "      <td>1950</td>\n",
       "      <td>Gable</td>\n",
       "      <td>CompShg</td>\n",
       "      <td>AsbShng</td>\n",
       "      <td>AsbShng</td>\n",
       "      <td>None</td>\n",
       "      <td>0.0</td>\n",
       "      <td>TA</td>\n",
       "      <td>Fa</td>\n",
       "      <td>Stone</td>\n",
       "      <td>Fa</td>\n",
       "      <td>TA</td>\n",
       "      <td>No</td>\n",
       "      <td>Unf</td>\n",
       "      <td>0</td>\n",
       "      <td>Unf</td>\n",
       "      <td>0</td>\n",
       "      <td>1020</td>\n",
       "      <td>1020</td>\n",
       "      <td>GasA</td>\n",
       "      <td>Gd</td>\n",
       "      <td>N</td>\n",
       "      <td>FuseP</td>\n",
       "      <td>908</td>\n",
       "      <td>1020</td>\n",
       "      <td>0</td>\n",
       "      <td>1928</td>\n",
       "      <td>0</td>\n",
       "      <td>0</td>\n",
       "      <td>2</td>\n",
       "      <td>0</td>\n",
       "      <td>4</td>\n",
       "      <td>2</td>\n",
       "      <td>Fa</td>\n",
       "      <td>9</td>\n",
       "      <td>Typ</td>\n",
       "      <td>0</td>\n",
       "      <td>NaN</td>\n",
       "      <td>Detchd</td>\n",
       "      <td>1910.0</td>\n",
       "      <td>Unf</td>\n",
       "      <td>1</td>\n",
       "      <td>440</td>\n",
       "      <td>Po</td>\n",
       "      <td>Po</td>\n",
       "      <td>Y</td>\n",
       "      <td>0</td>\n",
       "      <td>60</td>\n",
       "      <td>112</td>\n",
       "      <td>0</td>\n",
       "      <td>0</td>\n",
       "      <td>0</td>\n",
       "      <td>NaN</td>\n",
       "      <td>NaN</td>\n",
       "      <td>NaN</td>\n",
       "      <td>0</td>\n",
       "      <td>4</td>\n",
       "      <td>2006</td>\n",
       "      <td>WD</td>\n",
       "    </tr>\n",
       "    <tr>\n",
       "      <th>1</th>\n",
       "      <td>2718</td>\n",
       "      <td>905108090</td>\n",
       "      <td>90</td>\n",
       "      <td>RL</td>\n",
       "      <td>NaN</td>\n",
       "      <td>9662</td>\n",
       "      <td>Pave</td>\n",
       "      <td>NaN</td>\n",
       "      <td>IR1</td>\n",
       "      <td>Lvl</td>\n",
       "      <td>AllPub</td>\n",
       "      <td>Inside</td>\n",
       "      <td>Gtl</td>\n",
       "      <td>Sawyer</td>\n",
       "      <td>Norm</td>\n",
       "      <td>Norm</td>\n",
       "      <td>Duplex</td>\n",
       "      <td>1Story</td>\n",
       "      <td>5</td>\n",
       "      <td>4</td>\n",
       "      <td>1977</td>\n",
       "      <td>1977</td>\n",
       "      <td>Gable</td>\n",
       "      <td>CompShg</td>\n",
       "      <td>Plywood</td>\n",
       "      <td>Plywood</td>\n",
       "      <td>None</td>\n",
       "      <td>0.0</td>\n",
       "      <td>TA</td>\n",
       "      <td>TA</td>\n",
       "      <td>CBlock</td>\n",
       "      <td>Gd</td>\n",
       "      <td>TA</td>\n",
       "      <td>No</td>\n",
       "      <td>Unf</td>\n",
       "      <td>0</td>\n",
       "      <td>Unf</td>\n",
       "      <td>0</td>\n",
       "      <td>1967</td>\n",
       "      <td>1967</td>\n",
       "      <td>GasA</td>\n",
       "      <td>TA</td>\n",
       "      <td>Y</td>\n",
       "      <td>SBrkr</td>\n",
       "      <td>1967</td>\n",
       "      <td>0</td>\n",
       "      <td>0</td>\n",
       "      <td>1967</td>\n",
       "      <td>0</td>\n",
       "      <td>0</td>\n",
       "      <td>2</td>\n",
       "      <td>0</td>\n",
       "      <td>6</td>\n",
       "      <td>2</td>\n",
       "      <td>TA</td>\n",
       "      <td>10</td>\n",
       "      <td>Typ</td>\n",
       "      <td>0</td>\n",
       "      <td>NaN</td>\n",
       "      <td>Attchd</td>\n",
       "      <td>1977.0</td>\n",
       "      <td>Fin</td>\n",
       "      <td>2</td>\n",
       "      <td>580</td>\n",
       "      <td>TA</td>\n",
       "      <td>TA</td>\n",
       "      <td>Y</td>\n",
       "      <td>170</td>\n",
       "      <td>0</td>\n",
       "      <td>0</td>\n",
       "      <td>0</td>\n",
       "      <td>0</td>\n",
       "      <td>0</td>\n",
       "      <td>NaN</td>\n",
       "      <td>NaN</td>\n",
       "      <td>NaN</td>\n",
       "      <td>0</td>\n",
       "      <td>8</td>\n",
       "      <td>2006</td>\n",
       "      <td>WD</td>\n",
       "    </tr>\n",
       "    <tr>\n",
       "      <th>2</th>\n",
       "      <td>2414</td>\n",
       "      <td>528218130</td>\n",
       "      <td>60</td>\n",
       "      <td>RL</td>\n",
       "      <td>58.0</td>\n",
       "      <td>17104</td>\n",
       "      <td>Pave</td>\n",
       "      <td>NaN</td>\n",
       "      <td>IR1</td>\n",
       "      <td>Lvl</td>\n",
       "      <td>AllPub</td>\n",
       "      <td>Inside</td>\n",
       "      <td>Gtl</td>\n",
       "      <td>Gilbert</td>\n",
       "      <td>Norm</td>\n",
       "      <td>Norm</td>\n",
       "      <td>1Fam</td>\n",
       "      <td>2Story</td>\n",
       "      <td>7</td>\n",
       "      <td>5</td>\n",
       "      <td>2006</td>\n",
       "      <td>2006</td>\n",
       "      <td>Gable</td>\n",
       "      <td>CompShg</td>\n",
       "      <td>VinylSd</td>\n",
       "      <td>VinylSd</td>\n",
       "      <td>None</td>\n",
       "      <td>0.0</td>\n",
       "      <td>Gd</td>\n",
       "      <td>TA</td>\n",
       "      <td>PConc</td>\n",
       "      <td>Gd</td>\n",
       "      <td>Gd</td>\n",
       "      <td>Av</td>\n",
       "      <td>GLQ</td>\n",
       "      <td>554</td>\n",
       "      <td>Unf</td>\n",
       "      <td>0</td>\n",
       "      <td>100</td>\n",
       "      <td>654</td>\n",
       "      <td>GasA</td>\n",
       "      <td>Ex</td>\n",
       "      <td>Y</td>\n",
       "      <td>SBrkr</td>\n",
       "      <td>664</td>\n",
       "      <td>832</td>\n",
       "      <td>0</td>\n",
       "      <td>1496</td>\n",
       "      <td>1</td>\n",
       "      <td>0</td>\n",
       "      <td>2</td>\n",
       "      <td>1</td>\n",
       "      <td>3</td>\n",
       "      <td>1</td>\n",
       "      <td>Gd</td>\n",
       "      <td>7</td>\n",
       "      <td>Typ</td>\n",
       "      <td>1</td>\n",
       "      <td>Gd</td>\n",
       "      <td>Attchd</td>\n",
       "      <td>2006.0</td>\n",
       "      <td>RFn</td>\n",
       "      <td>2</td>\n",
       "      <td>426</td>\n",
       "      <td>TA</td>\n",
       "      <td>TA</td>\n",
       "      <td>Y</td>\n",
       "      <td>100</td>\n",
       "      <td>24</td>\n",
       "      <td>0</td>\n",
       "      <td>0</td>\n",
       "      <td>0</td>\n",
       "      <td>0</td>\n",
       "      <td>NaN</td>\n",
       "      <td>NaN</td>\n",
       "      <td>NaN</td>\n",
       "      <td>0</td>\n",
       "      <td>9</td>\n",
       "      <td>2006</td>\n",
       "      <td>New</td>\n",
       "    </tr>\n",
       "    <tr>\n",
       "      <th>3</th>\n",
       "      <td>1989</td>\n",
       "      <td>902207150</td>\n",
       "      <td>30</td>\n",
       "      <td>RM</td>\n",
       "      <td>60.0</td>\n",
       "      <td>8520</td>\n",
       "      <td>Pave</td>\n",
       "      <td>NaN</td>\n",
       "      <td>Reg</td>\n",
       "      <td>Lvl</td>\n",
       "      <td>AllPub</td>\n",
       "      <td>Inside</td>\n",
       "      <td>Gtl</td>\n",
       "      <td>OldTown</td>\n",
       "      <td>Norm</td>\n",
       "      <td>Norm</td>\n",
       "      <td>1Fam</td>\n",
       "      <td>1Story</td>\n",
       "      <td>5</td>\n",
       "      <td>6</td>\n",
       "      <td>1923</td>\n",
       "      <td>2006</td>\n",
       "      <td>Gable</td>\n",
       "      <td>CompShg</td>\n",
       "      <td>Wd Sdng</td>\n",
       "      <td>Wd Sdng</td>\n",
       "      <td>None</td>\n",
       "      <td>0.0</td>\n",
       "      <td>Gd</td>\n",
       "      <td>TA</td>\n",
       "      <td>CBlock</td>\n",
       "      <td>TA</td>\n",
       "      <td>TA</td>\n",
       "      <td>No</td>\n",
       "      <td>Unf</td>\n",
       "      <td>0</td>\n",
       "      <td>Unf</td>\n",
       "      <td>0</td>\n",
       "      <td>968</td>\n",
       "      <td>968</td>\n",
       "      <td>GasA</td>\n",
       "      <td>TA</td>\n",
       "      <td>Y</td>\n",
       "      <td>SBrkr</td>\n",
       "      <td>968</td>\n",
       "      <td>0</td>\n",
       "      <td>0</td>\n",
       "      <td>968</td>\n",
       "      <td>0</td>\n",
       "      <td>0</td>\n",
       "      <td>1</td>\n",
       "      <td>0</td>\n",
       "      <td>2</td>\n",
       "      <td>1</td>\n",
       "      <td>TA</td>\n",
       "      <td>5</td>\n",
       "      <td>Typ</td>\n",
       "      <td>0</td>\n",
       "      <td>NaN</td>\n",
       "      <td>Detchd</td>\n",
       "      <td>1935.0</td>\n",
       "      <td>Unf</td>\n",
       "      <td>2</td>\n",
       "      <td>480</td>\n",
       "      <td>Fa</td>\n",
       "      <td>TA</td>\n",
       "      <td>N</td>\n",
       "      <td>0</td>\n",
       "      <td>0</td>\n",
       "      <td>184</td>\n",
       "      <td>0</td>\n",
       "      <td>0</td>\n",
       "      <td>0</td>\n",
       "      <td>NaN</td>\n",
       "      <td>NaN</td>\n",
       "      <td>NaN</td>\n",
       "      <td>0</td>\n",
       "      <td>7</td>\n",
       "      <td>2007</td>\n",
       "      <td>WD</td>\n",
       "    </tr>\n",
       "    <tr>\n",
       "      <th>4</th>\n",
       "      <td>625</td>\n",
       "      <td>535105100</td>\n",
       "      <td>20</td>\n",
       "      <td>RL</td>\n",
       "      <td>NaN</td>\n",
       "      <td>9500</td>\n",
       "      <td>Pave</td>\n",
       "      <td>NaN</td>\n",
       "      <td>IR1</td>\n",
       "      <td>Lvl</td>\n",
       "      <td>AllPub</td>\n",
       "      <td>Inside</td>\n",
       "      <td>Gtl</td>\n",
       "      <td>NAmes</td>\n",
       "      <td>Norm</td>\n",
       "      <td>Norm</td>\n",
       "      <td>1Fam</td>\n",
       "      <td>1Story</td>\n",
       "      <td>6</td>\n",
       "      <td>5</td>\n",
       "      <td>1963</td>\n",
       "      <td>1963</td>\n",
       "      <td>Gable</td>\n",
       "      <td>CompShg</td>\n",
       "      <td>Plywood</td>\n",
       "      <td>Plywood</td>\n",
       "      <td>BrkFace</td>\n",
       "      <td>247.0</td>\n",
       "      <td>TA</td>\n",
       "      <td>TA</td>\n",
       "      <td>CBlock</td>\n",
       "      <td>Gd</td>\n",
       "      <td>TA</td>\n",
       "      <td>No</td>\n",
       "      <td>BLQ</td>\n",
       "      <td>609</td>\n",
       "      <td>Unf</td>\n",
       "      <td>0</td>\n",
       "      <td>785</td>\n",
       "      <td>1394</td>\n",
       "      <td>GasA</td>\n",
       "      <td>Gd</td>\n",
       "      <td>Y</td>\n",
       "      <td>SBrkr</td>\n",
       "      <td>1394</td>\n",
       "      <td>0</td>\n",
       "      <td>0</td>\n",
       "      <td>1394</td>\n",
       "      <td>1</td>\n",
       "      <td>0</td>\n",
       "      <td>1</td>\n",
       "      <td>1</td>\n",
       "      <td>3</td>\n",
       "      <td>1</td>\n",
       "      <td>TA</td>\n",
       "      <td>6</td>\n",
       "      <td>Typ</td>\n",
       "      <td>2</td>\n",
       "      <td>Gd</td>\n",
       "      <td>Attchd</td>\n",
       "      <td>1963.0</td>\n",
       "      <td>RFn</td>\n",
       "      <td>2</td>\n",
       "      <td>514</td>\n",
       "      <td>TA</td>\n",
       "      <td>TA</td>\n",
       "      <td>Y</td>\n",
       "      <td>0</td>\n",
       "      <td>76</td>\n",
       "      <td>0</td>\n",
       "      <td>0</td>\n",
       "      <td>185</td>\n",
       "      <td>0</td>\n",
       "      <td>NaN</td>\n",
       "      <td>NaN</td>\n",
       "      <td>NaN</td>\n",
       "      <td>0</td>\n",
       "      <td>7</td>\n",
       "      <td>2009</td>\n",
       "      <td>WD</td>\n",
       "    </tr>\n",
       "  </tbody>\n",
       "</table>\n",
       "</div>"
      ],
      "text/plain": [
       "     Id        PID  MS SubClass MS Zoning  Lot Frontage  Lot Area Street  \\\n",
       "0  2658  902301120          190        RM          69.0      9142   Pave   \n",
       "1  2718  905108090           90        RL           NaN      9662   Pave   \n",
       "2  2414  528218130           60        RL          58.0     17104   Pave   \n",
       "3  1989  902207150           30        RM          60.0      8520   Pave   \n",
       "4   625  535105100           20        RL           NaN      9500   Pave   \n",
       "\n",
       "  Alley Lot Shape Land Contour Utilities Lot Config Land Slope Neighborhood  \\\n",
       "0  Grvl       Reg          Lvl    AllPub     Inside        Gtl      OldTown   \n",
       "1   NaN       IR1          Lvl    AllPub     Inside        Gtl       Sawyer   \n",
       "2   NaN       IR1          Lvl    AllPub     Inside        Gtl      Gilbert   \n",
       "3   NaN       Reg          Lvl    AllPub     Inside        Gtl      OldTown   \n",
       "4   NaN       IR1          Lvl    AllPub     Inside        Gtl        NAmes   \n",
       "\n",
       "  Condition 1 Condition 2 Bldg Type House Style  Overall Qual  Overall Cond  \\\n",
       "0        Norm        Norm    2fmCon      2Story             6             8   \n",
       "1        Norm        Norm    Duplex      1Story             5             4   \n",
       "2        Norm        Norm      1Fam      2Story             7             5   \n",
       "3        Norm        Norm      1Fam      1Story             5             6   \n",
       "4        Norm        Norm      1Fam      1Story             6             5   \n",
       "\n",
       "   Year Built  Year Remod/Add Roof Style Roof Matl Exterior 1st Exterior 2nd  \\\n",
       "0        1910            1950      Gable   CompShg      AsbShng      AsbShng   \n",
       "1        1977            1977      Gable   CompShg      Plywood      Plywood   \n",
       "2        2006            2006      Gable   CompShg      VinylSd      VinylSd   \n",
       "3        1923            2006      Gable   CompShg      Wd Sdng      Wd Sdng   \n",
       "4        1963            1963      Gable   CompShg      Plywood      Plywood   \n",
       "\n",
       "  Mas Vnr Type  Mas Vnr Area Exter Qual Exter Cond Foundation Bsmt Qual  \\\n",
       "0         None           0.0         TA         Fa      Stone        Fa   \n",
       "1         None           0.0         TA         TA     CBlock        Gd   \n",
       "2         None           0.0         Gd         TA      PConc        Gd   \n",
       "3         None           0.0         Gd         TA     CBlock        TA   \n",
       "4      BrkFace         247.0         TA         TA     CBlock        Gd   \n",
       "\n",
       "  Bsmt Cond Bsmt Exposure BsmtFin Type 1  BsmtFin SF 1 BsmtFin Type 2  \\\n",
       "0        TA            No            Unf             0            Unf   \n",
       "1        TA            No            Unf             0            Unf   \n",
       "2        Gd            Av            GLQ           554            Unf   \n",
       "3        TA            No            Unf             0            Unf   \n",
       "4        TA            No            BLQ           609            Unf   \n",
       "\n",
       "   BsmtFin SF 2  Bsmt Unf SF  Total Bsmt SF Heating Heating QC Central Air  \\\n",
       "0             0         1020           1020    GasA         Gd           N   \n",
       "1             0         1967           1967    GasA         TA           Y   \n",
       "2             0          100            654    GasA         Ex           Y   \n",
       "3             0          968            968    GasA         TA           Y   \n",
       "4             0          785           1394    GasA         Gd           Y   \n",
       "\n",
       "  Electrical  1st Flr SF  2nd Flr SF  Low Qual Fin SF  Gr Liv Area  \\\n",
       "0      FuseP         908        1020                0         1928   \n",
       "1      SBrkr        1967           0                0         1967   \n",
       "2      SBrkr         664         832                0         1496   \n",
       "3      SBrkr         968           0                0          968   \n",
       "4      SBrkr        1394           0                0         1394   \n",
       "\n",
       "   Bsmt Full Bath  Bsmt Half Bath  Full Bath  Half Bath  Bedroom AbvGr  \\\n",
       "0               0               0          2          0              4   \n",
       "1               0               0          2          0              6   \n",
       "2               1               0          2          1              3   \n",
       "3               0               0          1          0              2   \n",
       "4               1               0          1          1              3   \n",
       "\n",
       "   Kitchen AbvGr Kitchen Qual  TotRms AbvGrd Functional  Fireplaces  \\\n",
       "0              2           Fa              9        Typ           0   \n",
       "1              2           TA             10        Typ           0   \n",
       "2              1           Gd              7        Typ           1   \n",
       "3              1           TA              5        Typ           0   \n",
       "4              1           TA              6        Typ           2   \n",
       "\n",
       "  Fireplace Qu Garage Type  Garage Yr Blt Garage Finish  Garage Cars  \\\n",
       "0          NaN      Detchd         1910.0           Unf            1   \n",
       "1          NaN      Attchd         1977.0           Fin            2   \n",
       "2           Gd      Attchd         2006.0           RFn            2   \n",
       "3          NaN      Detchd         1935.0           Unf            2   \n",
       "4           Gd      Attchd         1963.0           RFn            2   \n",
       "\n",
       "   Garage Area Garage Qual Garage Cond Paved Drive  Wood Deck SF  \\\n",
       "0          440          Po          Po           Y             0   \n",
       "1          580          TA          TA           Y           170   \n",
       "2          426          TA          TA           Y           100   \n",
       "3          480          Fa          TA           N             0   \n",
       "4          514          TA          TA           Y             0   \n",
       "\n",
       "   Open Porch SF  Enclosed Porch  3Ssn Porch  Screen Porch  Pool Area Pool QC  \\\n",
       "0             60             112           0             0          0     NaN   \n",
       "1              0               0           0             0          0     NaN   \n",
       "2             24               0           0             0          0     NaN   \n",
       "3              0             184           0             0          0     NaN   \n",
       "4             76               0           0           185          0     NaN   \n",
       "\n",
       "  Fence Misc Feature  Misc Val  Mo Sold  Yr Sold Sale Type  \n",
       "0   NaN          NaN         0        4     2006       WD   \n",
       "1   NaN          NaN         0        8     2006       WD   \n",
       "2   NaN          NaN         0        9     2006       New  \n",
       "3   NaN          NaN         0        7     2007       WD   \n",
       "4   NaN          NaN         0        7     2009       WD   "
      ]
     },
     "execution_count": 115,
     "metadata": {},
     "output_type": "execute_result"
    }
   ],
   "source": [
    "test.head()"
   ]
  },
  {
   "cell_type": "code",
   "execution_count": 116,
   "id": "3f79c2a2",
   "metadata": {},
   "outputs": [
    {
     "data": {
      "text/plain": [
       "Id                   0\n",
       "PID                  0\n",
       "MS SubClass          0\n",
       "MS Zoning            0\n",
       "Lot Frontage       160\n",
       "Lot Area             0\n",
       "Street               0\n",
       "Alley              820\n",
       "Lot Shape            0\n",
       "Land Contour         0\n",
       "Utilities            0\n",
       "Lot Config           0\n",
       "Land Slope           0\n",
       "Neighborhood         0\n",
       "Condition 1          0\n",
       "Condition 2          0\n",
       "Bldg Type            0\n",
       "House Style          0\n",
       "Overall Qual         0\n",
       "Overall Cond         0\n",
       "Year Built           0\n",
       "Year Remod/Add       0\n",
       "Roof Style           0\n",
       "Roof Matl            0\n",
       "Exterior 1st         0\n",
       "Exterior 2nd         0\n",
       "Mas Vnr Type         1\n",
       "Mas Vnr Area         1\n",
       "Exter Qual           0\n",
       "Exter Cond           0\n",
       "Foundation           0\n",
       "Bsmt Qual           25\n",
       "Bsmt Cond           25\n",
       "Bsmt Exposure       25\n",
       "BsmtFin Type 1      25\n",
       "BsmtFin SF 1         0\n",
       "BsmtFin Type 2      25\n",
       "BsmtFin SF 2         0\n",
       "Bsmt Unf SF          0\n",
       "Total Bsmt SF        0\n",
       "Heating              0\n",
       "Heating QC           0\n",
       "Central Air          0\n",
       "Electrical           1\n",
       "1st Flr SF           0\n",
       "2nd Flr SF           0\n",
       "Low Qual Fin SF      0\n",
       "Gr Liv Area          0\n",
       "Bsmt Full Bath       0\n",
       "Bsmt Half Bath       0\n",
       "Full Bath            0\n",
       "Half Bath            0\n",
       "Bedroom AbvGr        0\n",
       "Kitchen AbvGr        0\n",
       "Kitchen Qual         0\n",
       "TotRms AbvGrd        0\n",
       "Functional           0\n",
       "Fireplaces           0\n",
       "Fireplace Qu       422\n",
       "Garage Type         44\n",
       "Garage Yr Blt       45\n",
       "Garage Finish       45\n",
       "Garage Cars          0\n",
       "Garage Area          0\n",
       "Garage Qual         45\n",
       "Garage Cond         45\n",
       "Paved Drive          0\n",
       "Wood Deck SF         0\n",
       "Open Porch SF        0\n",
       "Enclosed Porch       0\n",
       "3Ssn Porch           0\n",
       "Screen Porch         0\n",
       "Pool Area            0\n",
       "Pool QC            874\n",
       "Fence              706\n",
       "Misc Feature       837\n",
       "Misc Val             0\n",
       "Mo Sold              0\n",
       "Yr Sold              0\n",
       "Sale Type            0\n",
       "dtype: int64"
      ]
     },
     "execution_count": 116,
     "metadata": {},
     "output_type": "execute_result"
    }
   ],
   "source": [
    "#checking for null values:\n",
    "test.isnull().sum()"
   ]
  },
  {
   "cell_type": "code",
   "execution_count": 117,
   "id": "0e22fa85",
   "metadata": {},
   "outputs": [],
   "source": [
    "#dropping all columns which contain null values except \"Garage Cars\", \"Garage Area\", \"Total Bsmt SF\"\n",
    "\n",
    "test = test.loc[:,(-test.isnull().any()) | (test.columns.isin(['Garage Cars', 'Garage Area', 'Total Bsmt SF', \"Lot Frontage\"]))]\n",
    "\n",
    "#Credit: https://stackoverflow.com/questions/61301549/pandas-drop-all-columns-with-missing-values-except-1-column"
   ]
  },
  {
   "cell_type": "code",
   "execution_count": 118,
   "id": "62a07c23",
   "metadata": {},
   "outputs": [
    {
     "data": {
      "text/plain": [
       "(878, 62)"
      ]
     },
     "execution_count": 118,
     "metadata": {},
     "output_type": "execute_result"
    }
   ],
   "source": [
    "#checking dimensions of data:\n",
    "test.shape"
   ]
  },
  {
   "cell_type": "code",
   "execution_count": 119,
   "id": "c4bacff1",
   "metadata": {},
   "outputs": [],
   "source": [
    "df_test= test[[\"Yr Sold\",\"Sale Type\",\"Lot Area\", \"Gr Liv Area\",\"Neighborhood\", \"Condition 1\",\"Condition 2\",\n",
    "               \"Full Bath\",\"Bedroom AbvGr\",\"Overall Qual\",\"Overall Cond\", \"Year Built\", \"Garage Cars\",\"Lot Shape\", \n",
    "               \"Land Contour\",\"Bldg Type\",\"Fireplaces\", \"Paved Drive\" ]]"
   ]
  },
  {
   "cell_type": "code",
   "execution_count": 120,
   "id": "e3b8b159",
   "metadata": {},
   "outputs": [],
   "source": [
    "df_test[\"property_age\"]= df_test[\"Yr Sold\"]- df_test[\"Year Built\"]"
   ]
  },
  {
   "cell_type": "code",
   "execution_count": 121,
   "id": "4720afef",
   "metadata": {},
   "outputs": [],
   "source": [
    "df_test[\"Paved Drive\"]=df_test[\"Paved Drive\"].map(binarize_pd)"
   ]
  },
  {
   "cell_type": "code",
   "execution_count": 122,
   "id": "5d73e973",
   "metadata": {},
   "outputs": [],
   "source": [
    "#mapping the function to column..\n",
    "df_test[\"Lot Shape\"]=df_test[\"Lot Shape\"].map(binarize_s)"
   ]
  },
  {
   "cell_type": "code",
   "execution_count": 123,
   "id": "e8b3b366",
   "metadata": {},
   "outputs": [],
   "source": [
    "#mapping function to column:\n",
    "df_test[\"Land Contour\"]=df_test[\"Land Contour\"].map(binarize_l)"
   ]
  },
  {
   "cell_type": "code",
   "execution_count": 124,
   "id": "502e12ae",
   "metadata": {},
   "outputs": [],
   "source": [
    "#mapping function to column:\n",
    "df_test[\"Fireplaces\"]=df_test[\"Fireplaces\"].map(bin_func)"
   ]
  },
  {
   "cell_type": "code",
   "execution_count": 125,
   "id": "e18d3727",
   "metadata": {},
   "outputs": [],
   "source": [
    "#mapping same func to Garage cars column:\n",
    "df_test[\"Garage\"]=df_test[\"Garage Cars\"].map(bin_func)"
   ]
  },
  {
   "cell_type": "code",
   "execution_count": 126,
   "id": "e44ec825",
   "metadata": {},
   "outputs": [],
   "source": [
    "#function to generate dummy variables for \"bldg type\"\n",
    "df_test= pd.get_dummies(df_test, columns=[\"Bldg Type\"],drop_first=True)"
   ]
  },
  {
   "cell_type": "code",
   "execution_count": 127,
   "id": "ae22432a",
   "metadata": {},
   "outputs": [],
   "source": [
    "df_test[\"near_railroad\"]= ((df_test[\"Condition 1\"]== \"RRAn\") | (df_test[\"Condition 1\"]== \"RRAe\") | (df_test[\"Condition 1\"]== \"RRNn\")| (df_test[\"Condition 1\"]== \"RRNe\")).astype(int)"
   ]
  },
  {
   "cell_type": "code",
   "execution_count": 128,
   "id": "744aca52",
   "metadata": {},
   "outputs": [],
   "source": [
    "df_test[\"near_major_str\"]= ((df_test[\"Condition 1\"]== \"Feedr\") | (df_test[\"Condition 1\"]== \"Artery\")).astype(int)"
   ]
  },
  {
   "cell_type": "code",
   "execution_count": 129,
   "id": "59ebf175",
   "metadata": {},
   "outputs": [],
   "source": [
    "df_test[\"near_pos_feature\"]= ((df_test[\"Condition 1\"]== \"PosN\") | (df_test[\"Condition 1\"]== \"PosA\")).astype(int)"
   ]
  },
  {
   "cell_type": "code",
   "execution_count": 130,
   "id": "c8543564",
   "metadata": {},
   "outputs": [],
   "source": [
    "#Creating an interaction term overall quality and overal condition:\n",
    "df_test[\"overall_qual_and_cond\"]= df_test[\"Overall Qual\"] * df_test[\"Overall Cond\"]"
   ]
  },
  {
   "cell_type": "code",
   "execution_count": 131,
   "id": "923925f8",
   "metadata": {},
   "outputs": [],
   "source": [
    "#specifying X variables:\n",
    "X_true= df_test.drop(columns=[\"Yr Sold\", \"Sale Type\", \"Neighborhood\",\"Condition 1\",\"Condition 2\",\"Overall Qual\",\"Overall Cond\",\"Year Built\",\"Garage Cars\"])"
   ]
  },
  {
   "cell_type": "code",
   "execution_count": 132,
   "id": "e3babdc8",
   "metadata": {},
   "outputs": [
    {
     "data": {
      "text/plain": [
       "((878, 18), (1524, 18))"
      ]
     },
     "execution_count": 132,
     "metadata": {},
     "output_type": "execute_result"
    }
   ],
   "source": [
    "#ensuring alignment of columns with OLS model:\n",
    "X_true.shape, X_train.shape"
   ]
  },
  {
   "cell_type": "code",
   "execution_count": 133,
   "id": "44cdb4bb",
   "metadata": {
    "scrolled": false
   },
   "outputs": [],
   "source": [
    "#generating predictions:\n",
    "final_preds= lr.predict(X_true)"
   ]
  },
  {
   "cell_type": "code",
   "execution_count": 134,
   "id": "02e939d5",
   "metadata": {},
   "outputs": [],
   "source": [
    "#imputing \"Sale Price\" column containing predictions into test.csv\n",
    "test[\"SalePrice\"]= final_preds"
   ]
  },
  {
   "cell_type": "code",
   "execution_count": 135,
   "id": "89cf5513",
   "metadata": {},
   "outputs": [],
   "source": [
    "kaggle= test[[\"Id\",\"SalePrice\"]]"
   ]
  },
  {
   "cell_type": "code",
   "execution_count": 136,
   "id": "e76527b3",
   "metadata": {},
   "outputs": [],
   "source": [
    "#saving dataframe to csv:\n",
    "kaggle.to_csv(\"datasets/kaggle_submission.csv\", index = False)"
   ]
  },
  {
   "cell_type": "code",
   "execution_count": 137,
   "id": "398b11eb",
   "metadata": {},
   "outputs": [
    {
     "data": {
      "text/plain": [
       "(878, 2)"
      ]
     },
     "execution_count": 137,
     "metadata": {},
     "output_type": "execute_result"
    }
   ],
   "source": [
    "kaggle.shape"
   ]
  },
  {
   "cell_type": "code",
   "execution_count": 138,
   "id": "4bd85506",
   "metadata": {},
   "outputs": [
    {
     "data": {
      "text/html": [
       "<div>\n",
       "<style scoped>\n",
       "    .dataframe tbody tr th:only-of-type {\n",
       "        vertical-align: middle;\n",
       "    }\n",
       "\n",
       "    .dataframe tbody tr th {\n",
       "        vertical-align: top;\n",
       "    }\n",
       "\n",
       "    .dataframe thead th {\n",
       "        text-align: right;\n",
       "    }\n",
       "</style>\n",
       "<table border=\"1\" class=\"dataframe\">\n",
       "  <thead>\n",
       "    <tr style=\"text-align: right;\">\n",
       "      <th></th>\n",
       "      <th>Id</th>\n",
       "      <th>SalePrice</th>\n",
       "    </tr>\n",
       "  </thead>\n",
       "  <tbody>\n",
       "    <tr>\n",
       "      <th>0</th>\n",
       "      <td>2658</td>\n",
       "      <td>167296.194636</td>\n",
       "    </tr>\n",
       "    <tr>\n",
       "      <th>1</th>\n",
       "      <td>2718</td>\n",
       "      <td>130659.106477</td>\n",
       "    </tr>\n",
       "    <tr>\n",
       "      <th>2</th>\n",
       "      <td>2414</td>\n",
       "      <td>234140.272527</td>\n",
       "    </tr>\n",
       "    <tr>\n",
       "      <th>3</th>\n",
       "      <td>1989</td>\n",
       "      <td>95031.651277</td>\n",
       "    </tr>\n",
       "    <tr>\n",
       "      <th>4</th>\n",
       "      <td>625</td>\n",
       "      <td>154582.512801</td>\n",
       "    </tr>\n",
       "    <tr>\n",
       "      <th>...</th>\n",
       "      <td>...</td>\n",
       "      <td>...</td>\n",
       "    </tr>\n",
       "    <tr>\n",
       "      <th>873</th>\n",
       "      <td>1662</td>\n",
       "      <td>208033.480963</td>\n",
       "    </tr>\n",
       "    <tr>\n",
       "      <th>874</th>\n",
       "      <td>1234</td>\n",
       "      <td>232946.776575</td>\n",
       "    </tr>\n",
       "    <tr>\n",
       "      <th>875</th>\n",
       "      <td>1373</td>\n",
       "      <td>126981.612268</td>\n",
       "    </tr>\n",
       "    <tr>\n",
       "      <th>876</th>\n",
       "      <td>1672</td>\n",
       "      <td>99318.303220</td>\n",
       "    </tr>\n",
       "    <tr>\n",
       "      <th>877</th>\n",
       "      <td>1939</td>\n",
       "      <td>94191.791473</td>\n",
       "    </tr>\n",
       "  </tbody>\n",
       "</table>\n",
       "<p>878 rows × 2 columns</p>\n",
       "</div>"
      ],
      "text/plain": [
       "       Id      SalePrice\n",
       "0    2658  167296.194636\n",
       "1    2718  130659.106477\n",
       "2    2414  234140.272527\n",
       "3    1989   95031.651277\n",
       "4     625  154582.512801\n",
       "..    ...            ...\n",
       "873  1662  208033.480963\n",
       "874  1234  232946.776575\n",
       "875  1373  126981.612268\n",
       "876  1672   99318.303220\n",
       "877  1939   94191.791473\n",
       "\n",
       "[878 rows x 2 columns]"
      ]
     },
     "execution_count": 138,
     "metadata": {},
     "output_type": "execute_result"
    }
   ],
   "source": [
    "kaggle"
   ]
  },
  {
   "cell_type": "code",
   "execution_count": 139,
   "id": "3e6de084",
   "metadata": {},
   "outputs": [
    {
     "data": {
      "text/html": [
       "<div>\n",
       "<style scoped>\n",
       "    .dataframe tbody tr th:only-of-type {\n",
       "        vertical-align: middle;\n",
       "    }\n",
       "\n",
       "    .dataframe tbody tr th {\n",
       "        vertical-align: top;\n",
       "    }\n",
       "\n",
       "    .dataframe thead th {\n",
       "        text-align: right;\n",
       "    }\n",
       "</style>\n",
       "<table border=\"1\" class=\"dataframe\">\n",
       "  <thead>\n",
       "    <tr style=\"text-align: right;\">\n",
       "      <th></th>\n",
       "      <th>Id</th>\n",
       "      <th>SalePrice</th>\n",
       "    </tr>\n",
       "  </thead>\n",
       "  <tbody>\n",
       "    <tr>\n",
       "      <th>0</th>\n",
       "      <td>2</td>\n",
       "      <td>181479.1217</td>\n",
       "    </tr>\n",
       "    <tr>\n",
       "      <th>1</th>\n",
       "      <td>4</td>\n",
       "      <td>181479.1217</td>\n",
       "    </tr>\n",
       "    <tr>\n",
       "      <th>2</th>\n",
       "      <td>6</td>\n",
       "      <td>181479.1217</td>\n",
       "    </tr>\n",
       "    <tr>\n",
       "      <th>3</th>\n",
       "      <td>7</td>\n",
       "      <td>181479.1217</td>\n",
       "    </tr>\n",
       "    <tr>\n",
       "      <th>4</th>\n",
       "      <td>17</td>\n",
       "      <td>181479.1217</td>\n",
       "    </tr>\n",
       "    <tr>\n",
       "      <th>...</th>\n",
       "      <td>...</td>\n",
       "      <td>...</td>\n",
       "    </tr>\n",
       "    <tr>\n",
       "      <th>873</th>\n",
       "      <td>2919</td>\n",
       "      <td>181479.1217</td>\n",
       "    </tr>\n",
       "    <tr>\n",
       "      <th>874</th>\n",
       "      <td>2921</td>\n",
       "      <td>181479.1217</td>\n",
       "    </tr>\n",
       "    <tr>\n",
       "      <th>875</th>\n",
       "      <td>2922</td>\n",
       "      <td>181479.1217</td>\n",
       "    </tr>\n",
       "    <tr>\n",
       "      <th>876</th>\n",
       "      <td>2925</td>\n",
       "      <td>181479.1217</td>\n",
       "    </tr>\n",
       "    <tr>\n",
       "      <th>877</th>\n",
       "      <td>2928</td>\n",
       "      <td>181479.1217</td>\n",
       "    </tr>\n",
       "  </tbody>\n",
       "</table>\n",
       "<p>878 rows × 2 columns</p>\n",
       "</div>"
      ],
      "text/plain": [
       "       Id    SalePrice\n",
       "0       2  181479.1217\n",
       "1       4  181479.1217\n",
       "2       6  181479.1217\n",
       "3       7  181479.1217\n",
       "4      17  181479.1217\n",
       "..    ...          ...\n",
       "873  2919  181479.1217\n",
       "874  2921  181479.1217\n",
       "875  2922  181479.1217\n",
       "876  2925  181479.1217\n",
       "877  2928  181479.1217\n",
       "\n",
       "[878 rows x 2 columns]"
      ]
     },
     "execution_count": 139,
     "metadata": {},
     "output_type": "execute_result"
    }
   ],
   "source": [
    "pd.read_csv(\"datasets/sample_sub_reg.csv\")"
   ]
  },
  {
   "cell_type": "code",
   "execution_count": 140,
   "id": "6a9af160",
   "metadata": {},
   "outputs": [],
   "source": [
    "kaggle_preds2 = {'Id':test['Id'], 'SalePrice':final_preds}"
   ]
  },
  {
   "cell_type": "code",
   "execution_count": 141,
   "id": "94f55410",
   "metadata": {},
   "outputs": [],
   "source": [
    "kaggle_preds2 = pd.DataFrame(kaggle_preds2)"
   ]
  },
  {
   "cell_type": "code",
   "execution_count": 142,
   "id": "8d4ccf2a",
   "metadata": {},
   "outputs": [],
   "source": [
    "kaggle_preds2.to_csv(\"datasets/kaggle_preds2.csv\", index= False)"
   ]
  },
  {
   "cell_type": "code",
   "execution_count": 143,
   "id": "d09f9bee",
   "metadata": {},
   "outputs": [
    {
     "data": {
      "text/html": [
       "<div>\n",
       "<style scoped>\n",
       "    .dataframe tbody tr th:only-of-type {\n",
       "        vertical-align: middle;\n",
       "    }\n",
       "\n",
       "    .dataframe tbody tr th {\n",
       "        vertical-align: top;\n",
       "    }\n",
       "\n",
       "    .dataframe thead th {\n",
       "        text-align: right;\n",
       "    }\n",
       "</style>\n",
       "<table border=\"1\" class=\"dataframe\">\n",
       "  <thead>\n",
       "    <tr style=\"text-align: right;\">\n",
       "      <th></th>\n",
       "      <th>Id</th>\n",
       "      <th>SalePrice</th>\n",
       "    </tr>\n",
       "  </thead>\n",
       "  <tbody>\n",
       "    <tr>\n",
       "      <th>0</th>\n",
       "      <td>2658</td>\n",
       "      <td>167296.194636</td>\n",
       "    </tr>\n",
       "    <tr>\n",
       "      <th>1</th>\n",
       "      <td>2718</td>\n",
       "      <td>130659.106477</td>\n",
       "    </tr>\n",
       "    <tr>\n",
       "      <th>2</th>\n",
       "      <td>2414</td>\n",
       "      <td>234140.272527</td>\n",
       "    </tr>\n",
       "    <tr>\n",
       "      <th>3</th>\n",
       "      <td>1989</td>\n",
       "      <td>95031.651277</td>\n",
       "    </tr>\n",
       "    <tr>\n",
       "      <th>4</th>\n",
       "      <td>625</td>\n",
       "      <td>154582.512801</td>\n",
       "    </tr>\n",
       "    <tr>\n",
       "      <th>...</th>\n",
       "      <td>...</td>\n",
       "      <td>...</td>\n",
       "    </tr>\n",
       "    <tr>\n",
       "      <th>873</th>\n",
       "      <td>1662</td>\n",
       "      <td>208033.480963</td>\n",
       "    </tr>\n",
       "    <tr>\n",
       "      <th>874</th>\n",
       "      <td>1234</td>\n",
       "      <td>232946.776575</td>\n",
       "    </tr>\n",
       "    <tr>\n",
       "      <th>875</th>\n",
       "      <td>1373</td>\n",
       "      <td>126981.612268</td>\n",
       "    </tr>\n",
       "    <tr>\n",
       "      <th>876</th>\n",
       "      <td>1672</td>\n",
       "      <td>99318.303220</td>\n",
       "    </tr>\n",
       "    <tr>\n",
       "      <th>877</th>\n",
       "      <td>1939</td>\n",
       "      <td>94191.791473</td>\n",
       "    </tr>\n",
       "  </tbody>\n",
       "</table>\n",
       "<p>878 rows × 2 columns</p>\n",
       "</div>"
      ],
      "text/plain": [
       "       Id      SalePrice\n",
       "0    2658  167296.194636\n",
       "1    2718  130659.106477\n",
       "2    2414  234140.272527\n",
       "3    1989   95031.651277\n",
       "4     625  154582.512801\n",
       "..    ...            ...\n",
       "873  1662  208033.480963\n",
       "874  1234  232946.776575\n",
       "875  1373  126981.612268\n",
       "876  1672   99318.303220\n",
       "877  1939   94191.791473\n",
       "\n",
       "[878 rows x 2 columns]"
      ]
     },
     "execution_count": 143,
     "metadata": {},
     "output_type": "execute_result"
    }
   ],
   "source": [
    "kaggle_preds2"
   ]
  },
  {
   "cell_type": "markdown",
   "id": "d5bdb09d",
   "metadata": {},
   "source": [
    "## Polynomial Features"
   ]
  },
  {
   "cell_type": "code",
   "execution_count": 144,
   "id": "8de87731",
   "metadata": {},
   "outputs": [],
   "source": [
    "poly = PolynomialFeatures(include_bias = False)"
   ]
  },
  {
   "cell_type": "code",
   "execution_count": 145,
   "id": "502eb1d7",
   "metadata": {},
   "outputs": [],
   "source": [
    "X_train_poly = poly.fit_transform(X_train)\n",
    "X_test_poly = poly.transform(X_test)"
   ]
  },
  {
   "cell_type": "code",
   "execution_count": 146,
   "id": "469f904c",
   "metadata": {},
   "outputs": [
    {
     "data": {
      "text/plain": [
       "LinearRegression()"
      ]
     },
     "execution_count": 146,
     "metadata": {},
     "output_type": "execute_result"
    }
   ],
   "source": [
    "lr.fit(X_train_poly, y_train)"
   ]
  },
  {
   "cell_type": "code",
   "execution_count": 147,
   "id": "9af72d69",
   "metadata": {},
   "outputs": [
    {
     "data": {
      "text/plain": [
       "(0.8951193107573866, 0.8617402725220413)"
      ]
     },
     "execution_count": 147,
     "metadata": {},
     "output_type": "execute_result"
    }
   ],
   "source": [
    "lr.score(X_train_poly, y_train), lr.score(X_test_poly, y_test)"
   ]
  },
  {
   "cell_type": "code",
   "execution_count": 148,
   "id": "84a55403",
   "metadata": {},
   "outputs": [
    {
     "data": {
      "text/plain": [
       "(1524, 189)"
      ]
     },
     "execution_count": 148,
     "metadata": {},
     "output_type": "execute_result"
    }
   ],
   "source": [
    "X_train_poly.shape"
   ]
  },
  {
   "cell_type": "code",
   "execution_count": 149,
   "id": "0277d3cd",
   "metadata": {},
   "outputs": [
    {
     "data": {
      "text/plain": [
       "(508, 189)"
      ]
     },
     "execution_count": 149,
     "metadata": {},
     "output_type": "execute_result"
    }
   ],
   "source": [
    "X_test_poly.shape"
   ]
  },
  {
   "cell_type": "code",
   "execution_count": 150,
   "id": "67d97603",
   "metadata": {},
   "outputs": [
    {
     "data": {
      "text/plain": [
       "(878, 18)"
      ]
     },
     "execution_count": 150,
     "metadata": {},
     "output_type": "execute_result"
    }
   ],
   "source": [
    "X_true.shape"
   ]
  },
  {
   "cell_type": "code",
   "execution_count": 151,
   "id": "ae350246",
   "metadata": {},
   "outputs": [],
   "source": [
    "X_true_poly = poly.transform(X_true)"
   ]
  },
  {
   "cell_type": "code",
   "execution_count": 152,
   "id": "29e90fae",
   "metadata": {},
   "outputs": [],
   "source": [
    "poly_preds= lr.predict(X_true_poly)"
   ]
  },
  {
   "cell_type": "code",
   "execution_count": 153,
   "id": "646a53cd",
   "metadata": {},
   "outputs": [
    {
     "data": {
      "text/plain": [
       "array([  157826.76909733,   144258.921875  ,   234652.90486703,\n",
       "          99390.64374497,   152343.65383457,    96992.10823576,\n",
       "         115401.65002607,   155193.61509354,   210831.00460319,\n",
       "         159701.74234981,   150830.36559373,   122282.57564189,\n",
       "         154976.75155523,   283131.17708085,   174286.49146541,\n",
       "         133466.33110157,   149958.15634607,   118119.47551979,\n",
       "         207331.3419796 ,   206437.38662426,   148410.16117518,\n",
       "         118531.21607562,   213182.02045536,   154269.47444376,\n",
       "         198969.3656386 ,   131286.57237824,   136386.79653139,\n",
       "         117997.58771918,   135554.19555631,    58403.72824544,\n",
       "         121066.42380397,   101442.15710839,   233762.36045906,\n",
       "         143002.62112921,   210460.61668015,   202909.9716199 ,\n",
       "         106891.76548785,   123654.06146359,   125195.89743341,\n",
       "         173690.78573428,   160776.70168043,   216071.63664707,\n",
       "         129818.59610313,   173143.19767427,   206017.65270645,\n",
       "          93504.58256274,   232665.72271833,   116102.08290756,\n",
       "         116520.44146831,   112470.13025961,   112832.05282831,\n",
       "         193343.14507769,   229822.00229877,   117972.9550746 ,\n",
       "         126563.45200679,   141600.84562183,   149999.83195966,\n",
       "         135985.39156016,   152536.35721255,   234650.34350792,\n",
       "         295802.25179802,   113631.3209706 ,   143452.11468605,\n",
       "         187742.6548727 ,   174945.11534276,   263386.83834057,\n",
       "         102895.44288973,   171536.84215543,   100113.34494388,\n",
       "         156196.79788688,   110008.84415377,   344871.79296456,\n",
       "         169489.0217312 ,   187694.54611926,   140940.13299552,\n",
       "         195677.56010081,   180382.58661522,   134440.04432316,\n",
       "         135096.07598349,   322683.20657209,   197688.68493204,\n",
       "         101130.72862608,   124357.05541439,    95086.36546393,\n",
       "         177203.75309307,   319165.84870461,   117717.69636849,\n",
       "         164854.39321408,   278178.13394552,   144998.42155561,\n",
       "         137261.61928025,   118260.27093089,   125690.32431637,\n",
       "         197210.80468904,   124569.69186773,   158871.98304525,\n",
       "         149672.23664798,   226320.02268727,   198541.79988367,\n",
       "         245344.12415674,   323841.69433383,   179153.39188045,\n",
       "         123532.55553435,   508800.73834393,   144805.08029773,\n",
       "          96685.50877217,   167834.49738212,   204825.89323961,\n",
       "         167288.46207846,   127673.30719523,   142730.79478112,\n",
       "         225584.23784787,   135486.17153382,   168586.60041789,\n",
       "         227408.81033076,   660295.33699415,   140284.81031905,\n",
       "          97580.81642537,   265690.00523666,   204164.21577932,\n",
       "         391343.85478997,   283545.02841216,   340068.46125209,\n",
       "         202461.08800499,   116305.37972281,   351442.96259968,\n",
       "         135413.85808325,   128308.12365907,   138547.31348064,\n",
       "         248422.92172339,   123711.4074697 ,   188161.03362993,\n",
       "         138674.31354688,   183830.76270508,   143655.96084476,\n",
       "         200848.25422571,   229982.81247953,   188523.82881654,\n",
       "         171525.31907681,   148105.98726643,   174572.23308543,\n",
       "         123080.05772614,   146525.38775165,    37605.38772501,\n",
       "         103578.83476957,   141625.46925447,   134640.24418041,\n",
       "         178410.00338891,   102535.37932127,   233635.60826754,\n",
       "         230956.09425558,   161290.77851766,    93038.64179394,\n",
       "         112955.86082611,   103592.40819271,   140007.80428927,\n",
       "          85035.03031933,   135222.53757733,   238705.75287016,\n",
       "         307596.73900269,   201165.75598166,   134371.73278536,\n",
       "         131061.85863044,   518870.30863309,   264653.61979025,\n",
       "         239841.82682685,   179104.80076954,   154236.87201833,\n",
       "         267459.00211138,   202286.30277611,   701085.25777192,\n",
       "         126840.3099649 ,   149867.66610547,   166821.88683052,\n",
       "         230537.28545841,   208422.52586412,    87200.43299374,\n",
       "         128001.6814675 ,    91602.33712388,   122122.24403645,\n",
       "          82085.98770863,   190026.37202369,   304092.00280305,\n",
       "         202067.2411096 ,   149540.32375038,   117588.6731735 ,\n",
       "         193478.73521214,   191243.26099697,   131081.89860879,\n",
       "          92586.98410529,   172267.07198295,   146321.59148356,\n",
       "         103891.42253233,   110443.1706244 ,   190486.06908817,\n",
       "         145659.52997046,   273386.65909769,   135275.02293372,\n",
       "         161148.88535498,   130384.666732  ,   326646.71365796,\n",
       "         149878.21235949,   149724.02033235,   165535.89070696,\n",
       "         115228.17014334,   103232.58277445,   139025.2058596 ,\n",
       "         160066.61255292,   231193.7769065 ,   226596.24411616,\n",
       "         195343.91601287,   183019.01417709,   103246.94002866,\n",
       "       -3879770.20636869,   241339.79177854,   202321.08653145,\n",
       "         277870.27923004,   177822.71865104,    67017.44989161,\n",
       "         126380.79730706,   171484.78635845,   153545.71662037,\n",
       "         144425.28459214,   201105.77141386,   126419.88970169,\n",
       "         104635.4231723 ,   296525.99424283,   263458.12814327,\n",
       "         108732.62829705,   275206.01108106,   169375.71523374,\n",
       "          68704.06006   ,   121602.37216021,   106232.173238  ,\n",
       "         251845.58830755,   190217.48555436,    93343.56206076,\n",
       "         441657.84192143,   422267.28405649,   200805.20991938,\n",
       "         323524.37321214,   153795.64337875,   317742.6955614 ,\n",
       "         298661.68380379,   335200.38548488,   240282.53418797,\n",
       "         131169.4010342 ,   117748.24836615,   177658.21480382,\n",
       "         330594.37370041,   285735.62405373,   147446.97246472,\n",
       "         255403.5676957 ,   240793.6381319 ,   167609.01562496,\n",
       "         113773.1907793 ,    98496.74540806,   431646.13662946,\n",
       "         234510.68268347,   287601.72238713,   194963.12179874,\n",
       "         148887.62786528,   101700.48204904,   144677.30836636,\n",
       "         320489.27149926,   144337.29054014,   131163.77057882,\n",
       "         216158.04844561,   134580.48797728,   155022.19245007,\n",
       "         134182.26781404,   213869.5580504 ,   156962.60726624,\n",
       "         424321.79651646,   110713.3543048 ,   124607.28306211,\n",
       "         143526.36771078,   193252.34082852,   117167.79107664,\n",
       "         118266.03291532,   283686.86529029,   142193.10643485,\n",
       "         119846.37586357,   108991.77337212,   130593.17270252,\n",
       "         304189.34129063,   237850.57365128,   101106.35754088,\n",
       "          81787.99159198,   129461.16673101,   135349.08598102,\n",
       "         147368.03940965,    82859.2911646 ,   114149.44202056,\n",
       "         165804.41743733,   156196.79788688,   211344.3742704 ,\n",
       "         247706.0117443 ,   213003.1417681 ,   150501.7651812 ,\n",
       "         138233.93434979,   327263.6264063 ,   121647.02934317,\n",
       "         129950.5476861 ,   104724.48402152,    93389.91342401,\n",
       "       -1873115.69783331,   200763.45847781,   135047.62189978,\n",
       "         139725.72116196,   221992.3107086 ,   189612.57825619,\n",
       "         218051.87976897,   302184.51155455,   164273.97747646,\n",
       "         242673.50302134,   290384.17769252,   247867.56069178,\n",
       "         246199.13904369,   140293.98961158,    75939.32807005,\n",
       "         161429.0057039 ,   127189.43933831,   232753.50058504,\n",
       "         123019.21249985,   118300.82785975,   146839.2277392 ,\n",
       "         158039.44220825,   229239.6161968 ,   156033.61903219,\n",
       "         128255.21734231,   209713.09707854,   138776.32956118,\n",
       "         174487.39324092,    92828.41737385,   162444.4439124 ,\n",
       "         121502.96159951,   107164.33637895,   128676.48126303,\n",
       "         147387.03115829,   240984.41259246,   103111.82923775,\n",
       "         154532.42194569,   192329.16757786,   263886.00818306,\n",
       "         229887.36729725,   203630.88060011,   118406.51720126,\n",
       "         216150.11106553,   143930.67169751,   165960.48623707,\n",
       "         168790.54435428,   114875.16238205,   229231.28891434,\n",
       "         123089.38694173,   310370.51616738,   156206.46705038,\n",
       "         182980.05787887,   283325.21037962,   123090.21645207,\n",
       "         160982.0498276 ,   132137.2612437 ,   111387.03039189,\n",
       "         138973.11304519,   202989.17056701,   282230.11984906,\n",
       "         181160.69378873,   201508.10866228,   242230.92687054,\n",
       "         112395.90782299,   181653.32388247,   106748.68031625,\n",
       "         176675.04656951,   361188.4622884 ,   121245.46636307,\n",
       "         293133.70016031,   161886.37389047,   273463.5586512 ,\n",
       "         198978.71600674,    99171.69193567,   156997.3190154 ,\n",
       "         141208.90884805,   291546.56492535,   360936.38429059,\n",
       "         204377.51108436,   196217.07891477,    82697.85141599,\n",
       "         173527.36739413,   145688.80270013,   133076.20631074,\n",
       "          98387.56028471,   239853.72151067,   175348.4841956 ,\n",
       "         136308.8027737 ,   180428.44182263,    71718.74544321,\n",
       "         174287.70121609,   209475.52023104,   124607.46182295,\n",
       "          67508.077481  ,   229863.88281765,   223430.54854798,\n",
       "         159381.48410283,   247552.78847293,   128210.16648402,\n",
       "         117805.44715504,    78518.12569461,   251543.39327326,\n",
       "         288047.95639959,   120619.18461266,   106880.54215418,\n",
       "         134918.54699514,   324708.84067266,   118109.29402163,\n",
       "         280479.70284782,   317202.67530112,   137597.03849229,\n",
       "         260644.68102518,   120324.0019125 ,   149439.85154631,\n",
       "         235680.3784491 ,   123151.54509531,   187669.97761062,\n",
       "         130872.70277005,   219966.03278565,   354360.90937177,\n",
       "         184596.06171956,   220053.79207612,   142780.12680121,\n",
       "         254098.41593429,    81931.90676703,   144907.63626325,\n",
       "         124347.8295575 ,   210521.2018722 ,   109264.88968532,\n",
       "         320128.80092465,   216914.80924861,   170461.00440778,\n",
       "         158943.14720081,   141669.60817852,   220019.00616896,\n",
       "         133780.79992279,   128191.63096498,   165383.41228414,\n",
       "         170911.21722665,   217556.2577314 ,    59599.16351357,\n",
       "          75474.08428697,   295033.63144811,   112109.65555912,\n",
       "         206879.89355952,   254635.57654561,   213404.13604163,\n",
       "         129970.74156087,   209762.37840757,   246592.44565296,\n",
       "         183630.22767343,   133491.34497084,   245252.55126553,\n",
       "         121536.48807413,   142946.94336561,   124029.16870198,\n",
       "         157150.41053402,   788645.17392468,   108542.03733203,\n",
       "         233662.56828327,   240042.57969778,   283225.47960521,\n",
       "         115322.39792402,   137383.34887428,   147122.328846  ,\n",
       "         220325.6464201 ,   171751.30745935,   126937.60531799,\n",
       "         270215.13938941,   207226.41168636,   133492.04355841,\n",
       "         118214.15674646,   105202.01052443,   178252.53333815,\n",
       "          80450.85053367,   261097.31470147,    88940.63275293,\n",
       "         191858.20560788,   289768.71415666,   143655.4900127 ,\n",
       "         156279.73782294,   152472.92680261,   202404.84907123,\n",
       "         134378.98530581,   125709.5807682 ,   222049.74168673,\n",
       "         172019.48001427,   232903.47837124,   320128.25478151,\n",
       "         197648.2327223 ,    88193.39061196,   123347.46237013,\n",
       "         151537.9669501 ,   125582.3550488 ,   196317.9556377 ,\n",
       "         267446.49472109,   199073.6382756 ,   152299.34910619,\n",
       "         260934.38855999,   134577.01967207,   303205.88845092,\n",
       "         110479.51755092,   135932.90143294,   280987.50298417,\n",
       "         127012.90135134,   134199.01563157,   142273.00597284,\n",
       "         124870.5661406 ,    84939.25302465,   155610.13717179,\n",
       "         142169.92097321,   205924.61341657,   236112.44475979,\n",
       "         326376.6500964 ,   113672.52651492,   123916.54336992,\n",
       "        -295427.38581116,   118649.60881442,   203333.2666419 ,\n",
       "         444426.68142617,   171109.968769  ,   136389.84749909,\n",
       "         142370.23530224,    57146.32100593,   109585.31032118,\n",
       "         213751.88265971,   142686.3489952 ,   196491.89082237,\n",
       "         186587.90162264,   155064.51479153,    76177.10822144,\n",
       "         284126.63434612,   145174.4482541 ,   175003.98051426,\n",
       "         141756.15193267,   112261.47691436,    49838.29299708,\n",
       "         176735.73342069,   270975.63306462,   315333.81774862,\n",
       "         296068.34532099,   123195.52571225,   119227.28500913,\n",
       "         251160.40366165,   111170.94789797,   293453.68803963,\n",
       "          87246.37519428,   134066.39157235,   206733.32057786,\n",
       "          92991.53737172,   109211.04025532,   135933.43743432,\n",
       "         118113.29937055,   196514.71611086,   128961.41867626,\n",
       "         175831.23520595,   158100.23825141,   141265.44613142,\n",
       "         114341.93897578,   133298.43735689,   126192.9291702 ,\n",
       "         222584.90114718,   107079.61133941,   151078.54840751,\n",
       "         167301.41908849,   127971.58800621,   114081.74166831,\n",
       "         149532.16010803,   165121.35250526,   111697.88283823,\n",
       "         160695.42917103,   140038.78208952,   163235.83651642,\n",
       "         120539.67413152,   121190.14453599,   155385.82183214,\n",
       "         323959.97812355,    67533.8335501 ,   157762.99452251,\n",
       "         147535.37454448,   148085.60839537,   105481.09549457,\n",
       "         265286.0089521 ,   192086.8644013 ,   140911.68621968,\n",
       "         109697.57705182,   126069.64050108,   120221.13446719,\n",
       "         350423.89628551,   241194.92248214,   118241.71987358,\n",
       "         136463.08054959,   109643.0990191 ,   304774.11110369,\n",
       "         136730.26006337,   246151.14573684,   126327.12015729,\n",
       "         187786.24932933,   219859.30182286,   117120.24301564,\n",
       "         120847.65681311,   108362.01445468,   175514.48133081,\n",
       "         115510.95101256,   111885.53238993,   377473.13304229,\n",
       "         179993.6733624 ,   140874.23069724,   135800.57272179,\n",
       "          41908.18919629,   187366.80204324,   295793.66643839,\n",
       "          94844.86261224,   177962.81729212,   193588.47904383,\n",
       "         132792.76458397,   116397.61857539,   124359.09739743,\n",
       "         129078.51238843,   178742.2651671 ,   196961.78922879,\n",
       "         131519.70123789,   406464.25832839,   145917.78466179,\n",
       "         164344.29210499,   188205.63551955,   140475.37168281,\n",
       "         116793.62370252,   174409.50050551,   164920.08171126,\n",
       "         158139.30622872,   170340.86348525,   146543.7838495 ,\n",
       "         134478.63279247,   311417.45784748,   135408.45763408,\n",
       "         216340.86520395,   260731.5005341 ,   134843.78792004,\n",
       "          83214.96538473,   301494.40485029,   150472.58668918,\n",
       "         151912.77835565,   235868.33598649,   137238.38812834,\n",
       "         112747.62658129,   121799.09740527,   151360.18768876,\n",
       "         101078.81509072,   154016.7329229 ,   217406.13626008,\n",
       "         127401.97778542,   254663.1083994 ,   171830.39461818,\n",
       "         143890.60094525,   247762.76044308,   165233.79490097,\n",
       "         312358.91321805,   411318.86511893,   246395.29153178,\n",
       "         210248.05195598,   156160.65190997,   166166.94860833,\n",
       "         284376.93870341,   206522.43383747,   256537.64538832,\n",
       "         289709.76941799,   109927.40118029,   120591.25308841,\n",
       "         133907.85704331,   137629.810715  ,    91785.34175551,\n",
       "         165127.64920388,   133075.86908948,   311640.52916266,\n",
       "         214056.27522146,   193935.11152574,   227376.19567581,\n",
       "         204551.92040475,   160284.12541266,   187292.96012865,\n",
       "         349224.17102894,   123102.60378226,   201236.72105365,\n",
       "          93376.63266451,   122944.90980365,   241288.97720545,\n",
       "         128400.21375874,   205721.19785412,   161905.46413425,\n",
       "         242979.69697741,   302376.85786976,   125671.35394243,\n",
       "         232740.8987611 ,   156279.73782294,   142680.1915901 ,\n",
       "         206529.14860322,   121025.22915163,   301465.48794156,\n",
       "         216279.43846349,   145108.05712667,   132648.28224085,\n",
       "         116586.88722685,   301842.07147211,   197657.34079753,\n",
       "          56365.73668637,   124905.80740617,   137752.89664601,\n",
       "         102591.2068244 ,    27284.57608492,   332001.44592549,\n",
       "         172945.35623391,   170094.4218111 ,   227820.00619963,\n",
       "         194979.73986821,   279155.78924183,   135466.0303651 ,\n",
       "         124237.58626432,   283105.09089413,   169890.69668739,\n",
       "         174651.49437588,   139149.56332847,   310638.99693012,\n",
       "         147153.54405374,   201958.77175661,   210218.56802974,\n",
       "         274906.63194555,   148638.10297821,   162962.34245257,\n",
       "         182858.22181127,   143168.43006724,   178859.26433773,\n",
       "         144482.74199148,   135996.08159636,   210042.97453025,\n",
       "         182964.46462863,   138912.56016914,   124299.77080105,\n",
       "         214532.13832198,   182685.67165969,   205345.81042138,\n",
       "         228798.39863258,   113602.53998132,   339442.08023562,\n",
       "         238528.70668161,   143850.70215937,   138138.40485722,\n",
       "         174840.52970423,    88380.87360521,   105007.8660241 ,\n",
       "         429801.72878692,    80782.33717741,   162924.07294901,\n",
       "         227754.76846789,   150899.22177808,   229478.76163141,\n",
       "         133231.08131245,   217584.88780273,   164763.44010537,\n",
       "         314081.29725352,   200645.51788835,   196860.29601967,\n",
       "         302241.73015337,   140427.874113  ,   242712.72933117,\n",
       "         197906.63665996,   140057.73765996,   229388.45224384,\n",
       "          92742.3307685 ,   121996.19813471,   233498.36444716,\n",
       "         158468.6643807 ,   126409.59194859,   142914.22625929,\n",
       "         175289.82227879,   425636.10597124,   103346.4717076 ,\n",
       "         127472.19551493,   116679.54256302,   157173.41436031,\n",
       "         245768.65090075,   132993.10988271,   334958.82517907,\n",
       "         149854.60171203,   159308.87186818,   214472.38059742,\n",
       "         162322.14246797,   279194.97502824,   145973.01931794,\n",
       "         212414.18605786,   170769.07314503,   204787.30510696,\n",
       "         216748.25804035,   194601.93597358,   129709.06131577,\n",
       "         106128.24358413,   195177.6520808 ,    99745.95827091,\n",
       "         280557.4233313 ,   128186.83525873,   131598.04880482,\n",
       "         205180.33698987,   146244.54035341,   113256.46401505,\n",
       "         132857.38962743,   288357.88816251,   157987.03090961,\n",
       "         133948.35943048,   240767.18724538,   194507.12273965,\n",
       "         218990.64864305,   110983.42926416,   111293.16250737,\n",
       "         183218.74005285,   156612.09651387,   125507.3711038 ,\n",
       "         361022.64544563,   101000.41219908,   151141.7858855 ,\n",
       "         220611.25192393,   451646.25794286,   146329.5617072 ,\n",
       "         172404.5101335 ,   127956.57006628,   163473.04709223,\n",
       "         147213.66214019,   277422.56294411,   228097.79703981,\n",
       "         116678.66590706,   111173.21206772,   265084.67825296,\n",
       "         150966.90480173,   136646.34658993,   131561.00952444,\n",
       "         197113.36299844,   169667.49396016,   326980.00741421,\n",
       "         142338.01211449,   177874.01994241,   148149.27626586,\n",
       "         276067.31218048,   249027.12655117,   131660.80547415,\n",
       "         159294.28046054,   142984.36998095,   144473.00331558,\n",
       "         122709.57964143,   150730.13657248,   169765.38285183,\n",
       "         113030.3755712 ,   207897.60801056,    97136.16926072,\n",
       "         233033.5033213 ,   109388.62793316,   299672.99036925,\n",
       "         137715.49638096,   121032.76577457,   141614.38992864,\n",
       "         149332.76634709,   219523.02693791,   169405.61194179,\n",
       "         236510.58079149,   145361.57958381,    53482.92621619,\n",
       "         225073.36864879,   295562.68406039,   193930.76847689,\n",
       "         199218.76160013,   226616.33509174,   119305.37270112,\n",
       "         115873.70061843,   117906.97996044])"
      ]
     },
     "execution_count": 153,
     "metadata": {},
     "output_type": "execute_result"
    }
   ],
   "source": [
    "lr.predict(X_true_poly)"
   ]
  },
  {
   "cell_type": "code",
   "execution_count": 154,
   "id": "542f82d4",
   "metadata": {},
   "outputs": [],
   "source": [
    "kaggle_preds3 = {'Id':test['Id'], 'SalePrice':poly_preds}"
   ]
  },
  {
   "cell_type": "code",
   "execution_count": 155,
   "id": "4b27a195",
   "metadata": {},
   "outputs": [],
   "source": [
    "kaggle_preds3 = pd.DataFrame(kaggle_preds3)"
   ]
  },
  {
   "cell_type": "code",
   "execution_count": 156,
   "id": "3f2c08f2",
   "metadata": {},
   "outputs": [],
   "source": [
    "kaggle_preds3.to_csv(\"datasets/kaggle_preds3.csv\", index= False)"
   ]
  },
  {
   "cell_type": "code",
   "execution_count": null,
   "id": "b56b0af7",
   "metadata": {},
   "outputs": [],
   "source": []
  }
 ],
 "metadata": {
  "kernelspec": {
   "display_name": "Python 3",
   "language": "python",
   "name": "python3"
  },
  "language_info": {
   "codemirror_mode": {
    "name": "ipython",
    "version": 3
   },
   "file_extension": ".py",
   "mimetype": "text/x-python",
   "name": "python",
   "nbconvert_exporter": "python",
   "pygments_lexer": "ipython3",
   "version": "3.8.8"
  }
 },
 "nbformat": 4,
 "nbformat_minor": 5
}
